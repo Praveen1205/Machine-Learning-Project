{
 "cells": [
  {
   "cell_type": "code",
   "execution_count": 1,
   "id": "ec2ef20e",
   "metadata": {},
   "outputs": [],
   "source": [
    "import numpy as np\n",
    "import pandas as pd\n",
    "import matplotlib.pyplot as plt\n",
    "import seaborn as sns\n",
    "import warnings\n",
    "warnings.filterwarnings('ignore')"
   ]
  },
  {
   "cell_type": "code",
   "execution_count": 2,
   "id": "4ecf22e1",
   "metadata": {},
   "outputs": [],
   "source": [
    "Big_Train = pd.read_csv(\"bigdatamart_Train.csv\")\n",
    "Big_Test = pd.read_csv(\"bigdatamart_Test.csv\")"
   ]
  },
  {
   "cell_type": "code",
   "execution_count": 3,
   "id": "d73f6a69",
   "metadata": {},
   "outputs": [
    {
     "data": {
      "text/html": [
       "<div>\n",
       "<style scoped>\n",
       "    .dataframe tbody tr th:only-of-type {\n",
       "        vertical-align: middle;\n",
       "    }\n",
       "\n",
       "    .dataframe tbody tr th {\n",
       "        vertical-align: top;\n",
       "    }\n",
       "\n",
       "    .dataframe thead th {\n",
       "        text-align: right;\n",
       "    }\n",
       "</style>\n",
       "<table border=\"1\" class=\"dataframe\">\n",
       "  <thead>\n",
       "    <tr style=\"text-align: right;\">\n",
       "      <th></th>\n",
       "      <th>Item_Identifier</th>\n",
       "      <th>Item_Weight</th>\n",
       "      <th>Item_Fat_Content</th>\n",
       "      <th>Item_Visibility</th>\n",
       "      <th>Item_Type</th>\n",
       "      <th>Item_MRP</th>\n",
       "      <th>Outlet_Identifier</th>\n",
       "      <th>Outlet_Establishment_Year</th>\n",
       "      <th>Outlet_Size</th>\n",
       "      <th>Outlet_Location_Type</th>\n",
       "      <th>Outlet_Type</th>\n",
       "      <th>Item_Outlet_Sales</th>\n",
       "    </tr>\n",
       "  </thead>\n",
       "  <tbody>\n",
       "    <tr>\n",
       "      <th>0</th>\n",
       "      <td>FDA15</td>\n",
       "      <td>9.30</td>\n",
       "      <td>Low Fat</td>\n",
       "      <td>0.016047</td>\n",
       "      <td>Dairy</td>\n",
       "      <td>249.8092</td>\n",
       "      <td>OUT049</td>\n",
       "      <td>1999</td>\n",
       "      <td>Medium</td>\n",
       "      <td>Tier 1</td>\n",
       "      <td>Supermarket Type1</td>\n",
       "      <td>3735.1380</td>\n",
       "    </tr>\n",
       "    <tr>\n",
       "      <th>1</th>\n",
       "      <td>DRC01</td>\n",
       "      <td>5.92</td>\n",
       "      <td>Regular</td>\n",
       "      <td>0.019278</td>\n",
       "      <td>Soft Drinks</td>\n",
       "      <td>48.2692</td>\n",
       "      <td>OUT018</td>\n",
       "      <td>2009</td>\n",
       "      <td>Medium</td>\n",
       "      <td>Tier 3</td>\n",
       "      <td>Supermarket Type2</td>\n",
       "      <td>443.4228</td>\n",
       "    </tr>\n",
       "    <tr>\n",
       "      <th>2</th>\n",
       "      <td>FDN15</td>\n",
       "      <td>17.50</td>\n",
       "      <td>Low Fat</td>\n",
       "      <td>0.016760</td>\n",
       "      <td>Meat</td>\n",
       "      <td>141.6180</td>\n",
       "      <td>OUT049</td>\n",
       "      <td>1999</td>\n",
       "      <td>Medium</td>\n",
       "      <td>Tier 1</td>\n",
       "      <td>Supermarket Type1</td>\n",
       "      <td>2097.2700</td>\n",
       "    </tr>\n",
       "    <tr>\n",
       "      <th>3</th>\n",
       "      <td>FDX07</td>\n",
       "      <td>19.20</td>\n",
       "      <td>Regular</td>\n",
       "      <td>0.000000</td>\n",
       "      <td>Fruits and Vegetables</td>\n",
       "      <td>182.0950</td>\n",
       "      <td>OUT010</td>\n",
       "      <td>1998</td>\n",
       "      <td>NaN</td>\n",
       "      <td>Tier 3</td>\n",
       "      <td>Grocery Store</td>\n",
       "      <td>732.3800</td>\n",
       "    </tr>\n",
       "    <tr>\n",
       "      <th>4</th>\n",
       "      <td>NCD19</td>\n",
       "      <td>8.93</td>\n",
       "      <td>Low Fat</td>\n",
       "      <td>0.000000</td>\n",
       "      <td>Household</td>\n",
       "      <td>53.8614</td>\n",
       "      <td>OUT013</td>\n",
       "      <td>1987</td>\n",
       "      <td>High</td>\n",
       "      <td>Tier 3</td>\n",
       "      <td>Supermarket Type1</td>\n",
       "      <td>994.7052</td>\n",
       "    </tr>\n",
       "  </tbody>\n",
       "</table>\n",
       "</div>"
      ],
      "text/plain": [
       "  Item_Identifier  Item_Weight Item_Fat_Content  Item_Visibility  \\\n",
       "0           FDA15         9.30          Low Fat         0.016047   \n",
       "1           DRC01         5.92          Regular         0.019278   \n",
       "2           FDN15        17.50          Low Fat         0.016760   \n",
       "3           FDX07        19.20          Regular         0.000000   \n",
       "4           NCD19         8.93          Low Fat         0.000000   \n",
       "\n",
       "               Item_Type  Item_MRP Outlet_Identifier  \\\n",
       "0                  Dairy  249.8092            OUT049   \n",
       "1            Soft Drinks   48.2692            OUT018   \n",
       "2                   Meat  141.6180            OUT049   \n",
       "3  Fruits and Vegetables  182.0950            OUT010   \n",
       "4              Household   53.8614            OUT013   \n",
       "\n",
       "   Outlet_Establishment_Year Outlet_Size Outlet_Location_Type  \\\n",
       "0                       1999      Medium               Tier 1   \n",
       "1                       2009      Medium               Tier 3   \n",
       "2                       1999      Medium               Tier 1   \n",
       "3                       1998         NaN               Tier 3   \n",
       "4                       1987        High               Tier 3   \n",
       "\n",
       "         Outlet_Type  Item_Outlet_Sales  \n",
       "0  Supermarket Type1          3735.1380  \n",
       "1  Supermarket Type2           443.4228  \n",
       "2  Supermarket Type1          2097.2700  \n",
       "3      Grocery Store           732.3800  \n",
       "4  Supermarket Type1           994.7052  "
      ]
     },
     "execution_count": 3,
     "metadata": {},
     "output_type": "execute_result"
    }
   ],
   "source": [
    "Big_Train.head()"
   ]
  },
  {
   "cell_type": "code",
   "execution_count": 4,
   "id": "a581c57f",
   "metadata": {},
   "outputs": [
    {
     "data": {
      "text/html": [
       "<div>\n",
       "<style scoped>\n",
       "    .dataframe tbody tr th:only-of-type {\n",
       "        vertical-align: middle;\n",
       "    }\n",
       "\n",
       "    .dataframe tbody tr th {\n",
       "        vertical-align: top;\n",
       "    }\n",
       "\n",
       "    .dataframe thead th {\n",
       "        text-align: right;\n",
       "    }\n",
       "</style>\n",
       "<table border=\"1\" class=\"dataframe\">\n",
       "  <thead>\n",
       "    <tr style=\"text-align: right;\">\n",
       "      <th></th>\n",
       "      <th>Item_Identifier</th>\n",
       "      <th>Item_Weight</th>\n",
       "      <th>Item_Fat_Content</th>\n",
       "      <th>Item_Visibility</th>\n",
       "      <th>Item_Type</th>\n",
       "      <th>Item_MRP</th>\n",
       "      <th>Outlet_Identifier</th>\n",
       "      <th>Outlet_Establishment_Year</th>\n",
       "      <th>Outlet_Size</th>\n",
       "      <th>Outlet_Location_Type</th>\n",
       "      <th>Outlet_Type</th>\n",
       "    </tr>\n",
       "  </thead>\n",
       "  <tbody>\n",
       "    <tr>\n",
       "      <th>0</th>\n",
       "      <td>FDW58</td>\n",
       "      <td>20.750</td>\n",
       "      <td>Low Fat</td>\n",
       "      <td>0.007565</td>\n",
       "      <td>Snack Foods</td>\n",
       "      <td>107.8622</td>\n",
       "      <td>OUT049</td>\n",
       "      <td>1999</td>\n",
       "      <td>Medium</td>\n",
       "      <td>Tier 1</td>\n",
       "      <td>Supermarket Type1</td>\n",
       "    </tr>\n",
       "    <tr>\n",
       "      <th>1</th>\n",
       "      <td>FDW14</td>\n",
       "      <td>8.300</td>\n",
       "      <td>reg</td>\n",
       "      <td>0.038428</td>\n",
       "      <td>Dairy</td>\n",
       "      <td>87.3198</td>\n",
       "      <td>OUT017</td>\n",
       "      <td>2007</td>\n",
       "      <td>NaN</td>\n",
       "      <td>Tier 2</td>\n",
       "      <td>Supermarket Type1</td>\n",
       "    </tr>\n",
       "    <tr>\n",
       "      <th>2</th>\n",
       "      <td>NCN55</td>\n",
       "      <td>14.600</td>\n",
       "      <td>Low Fat</td>\n",
       "      <td>0.099575</td>\n",
       "      <td>Others</td>\n",
       "      <td>241.7538</td>\n",
       "      <td>OUT010</td>\n",
       "      <td>1998</td>\n",
       "      <td>NaN</td>\n",
       "      <td>Tier 3</td>\n",
       "      <td>Grocery Store</td>\n",
       "    </tr>\n",
       "    <tr>\n",
       "      <th>3</th>\n",
       "      <td>FDQ58</td>\n",
       "      <td>7.315</td>\n",
       "      <td>Low Fat</td>\n",
       "      <td>0.015388</td>\n",
       "      <td>Snack Foods</td>\n",
       "      <td>155.0340</td>\n",
       "      <td>OUT017</td>\n",
       "      <td>2007</td>\n",
       "      <td>NaN</td>\n",
       "      <td>Tier 2</td>\n",
       "      <td>Supermarket Type1</td>\n",
       "    </tr>\n",
       "    <tr>\n",
       "      <th>4</th>\n",
       "      <td>FDY38</td>\n",
       "      <td>NaN</td>\n",
       "      <td>Regular</td>\n",
       "      <td>0.118599</td>\n",
       "      <td>Dairy</td>\n",
       "      <td>234.2300</td>\n",
       "      <td>OUT027</td>\n",
       "      <td>1985</td>\n",
       "      <td>Medium</td>\n",
       "      <td>Tier 3</td>\n",
       "      <td>Supermarket Type3</td>\n",
       "    </tr>\n",
       "  </tbody>\n",
       "</table>\n",
       "</div>"
      ],
      "text/plain": [
       "  Item_Identifier  Item_Weight Item_Fat_Content  Item_Visibility    Item_Type  \\\n",
       "0           FDW58       20.750          Low Fat         0.007565  Snack Foods   \n",
       "1           FDW14        8.300              reg         0.038428        Dairy   \n",
       "2           NCN55       14.600          Low Fat         0.099575       Others   \n",
       "3           FDQ58        7.315          Low Fat         0.015388  Snack Foods   \n",
       "4           FDY38          NaN          Regular         0.118599        Dairy   \n",
       "\n",
       "   Item_MRP Outlet_Identifier  Outlet_Establishment_Year Outlet_Size  \\\n",
       "0  107.8622            OUT049                       1999      Medium   \n",
       "1   87.3198            OUT017                       2007         NaN   \n",
       "2  241.7538            OUT010                       1998         NaN   \n",
       "3  155.0340            OUT017                       2007         NaN   \n",
       "4  234.2300            OUT027                       1985      Medium   \n",
       "\n",
       "  Outlet_Location_Type        Outlet_Type  \n",
       "0               Tier 1  Supermarket Type1  \n",
       "1               Tier 2  Supermarket Type1  \n",
       "2               Tier 3      Grocery Store  \n",
       "3               Tier 2  Supermarket Type1  \n",
       "4               Tier 3  Supermarket Type3  "
      ]
     },
     "execution_count": 4,
     "metadata": {},
     "output_type": "execute_result"
    }
   ],
   "source": [
    "Big_Test.head()"
   ]
  },
  {
   "cell_type": "code",
   "execution_count": 5,
   "id": "664a9f80",
   "metadata": {},
   "outputs": [
    {
     "data": {
      "text/plain": [
       "(8523, 12)"
      ]
     },
     "execution_count": 5,
     "metadata": {},
     "output_type": "execute_result"
    }
   ],
   "source": [
    "Big_Train.shape"
   ]
  },
  {
   "cell_type": "code",
   "execution_count": 6,
   "id": "91ee1cf5",
   "metadata": {},
   "outputs": [
    {
     "data": {
      "text/plain": [
       "(5681, 11)"
      ]
     },
     "execution_count": 6,
     "metadata": {},
     "output_type": "execute_result"
    }
   ],
   "source": [
    "Big_Test.shape"
   ]
  },
  {
   "cell_type": "code",
   "execution_count": 7,
   "id": "2e82da50",
   "metadata": {},
   "outputs": [
    {
     "data": {
      "text/plain": [
       "Item_Identifier                 0\n",
       "Item_Weight                  1463\n",
       "Item_Fat_Content                0\n",
       "Item_Visibility                 0\n",
       "Item_Type                       0\n",
       "Item_MRP                        0\n",
       "Outlet_Identifier               0\n",
       "Outlet_Establishment_Year       0\n",
       "Outlet_Size                  2410\n",
       "Outlet_Location_Type            0\n",
       "Outlet_Type                     0\n",
       "Item_Outlet_Sales               0\n",
       "dtype: int64"
      ]
     },
     "execution_count": 7,
     "metadata": {},
     "output_type": "execute_result"
    }
   ],
   "source": [
    "Big_Train.isnull().sum()"
   ]
  },
  {
   "cell_type": "code",
   "execution_count": 8,
   "id": "ae7f0c55",
   "metadata": {},
   "outputs": [
    {
     "data": {
      "image/png": "[encoded data removed]",
      "text/plain": [
       "<Figure size 432x288 with 2 Axes>"
      ]
     },
     "metadata": {
      "needs_background": "light"
     },
     "output_type": "display_data"
    }
   ],
   "source": [
    "sns.heatmap(Big_Train.isnull());"
   ]
  },
  {
   "cell_type": "code",
   "execution_count": 9,
   "id": "ee779886",
   "metadata": {},
   "outputs": [
    {
     "name": "stdout",
     "output_type": "stream",
     "text": [
      "<class 'pandas.core.frame.DataFrame'>\n",
      "RangeIndex: 8523 entries, 0 to 8522\n",
      "Data columns (total 12 columns):\n",
      " #   Column                     Non-Null Count  Dtype  \n",
      "---  ------                     --------------  -----  \n",
      " 0   Item_Identifier            8523 non-null   object \n",
      " 1   Item_Weight                7060 non-null   float64\n",
      " 2   Item_Fat_Content           8523 non-null   object \n",
      " 3   Item_Visibility            8523 non-null   float64\n",
      " 4   Item_Type                  8523 non-null   object \n",
      " 5   Item_MRP                   8523 non-null   float64\n",
      " 6   Outlet_Identifier          8523 non-null   object \n",
      " 7   Outlet_Establishment_Year  8523 non-null   int64  \n",
      " 8   Outlet_Size                6113 non-null   object \n",
      " 9   Outlet_Location_Type       8523 non-null   object \n",
      " 10  Outlet_Type                8523 non-null   object \n",
      " 11  Item_Outlet_Sales          8523 non-null   float64\n",
      "dtypes: float64(4), int64(1), object(7)\n",
      "memory usage: 799.2+ KB\n"
     ]
    }
   ],
   "source": [
    "Big_Train.info()"
   ]
  },
  {
   "cell_type": "code",
   "execution_count": 10,
   "id": "2fdaa495",
   "metadata": {},
   "outputs": [
    {
     "data": {
      "text/plain": [
       "Item_Identifier                 0\n",
       "Item_Weight                   976\n",
       "Item_Fat_Content                0\n",
       "Item_Visibility                 0\n",
       "Item_Type                       0\n",
       "Item_MRP                        0\n",
       "Outlet_Identifier               0\n",
       "Outlet_Establishment_Year       0\n",
       "Outlet_Size                  1606\n",
       "Outlet_Location_Type            0\n",
       "Outlet_Type                     0\n",
       "dtype: int64"
      ]
     },
     "execution_count": 10,
     "metadata": {},
     "output_type": "execute_result"
    }
   ],
   "source": [
    "Big_Test.isnull().sum()"
   ]
  },
  {
   "cell_type": "code",
   "execution_count": 11,
   "id": "bf2eb33b",
   "metadata": {},
   "outputs": [
    {
     "data": {
      "image/png": "[encoded data removed]",
      "text/plain": [
       "<Figure size 432x288 with 2 Axes>"
      ]
     },
     "metadata": {
      "needs_background": "light"
     },
     "output_type": "display_data"
    }
   ],
   "source": [
    "sns.heatmap(Big_Test.isnull());"
   ]
  },
  {
   "cell_type": "code",
   "execution_count": 12,
   "id": "7f259c33",
   "metadata": {},
   "outputs": [
    {
     "name": "stdout",
     "output_type": "stream",
     "text": [
      "<class 'pandas.core.frame.DataFrame'>\n",
      "RangeIndex: 5681 entries, 0 to 5680\n",
      "Data columns (total 11 columns):\n",
      " #   Column                     Non-Null Count  Dtype  \n",
      "---  ------                     --------------  -----  \n",
      " 0   Item_Identifier            5681 non-null   object \n",
      " 1   Item_Weight                4705 non-null   float64\n",
      " 2   Item_Fat_Content           5681 non-null   object \n",
      " 3   Item_Visibility            5681 non-null   float64\n",
      " 4   Item_Type                  5681 non-null   object \n",
      " 5   Item_MRP                   5681 non-null   float64\n",
      " 6   Outlet_Identifier          5681 non-null   object \n",
      " 7   Outlet_Establishment_Year  5681 non-null   int64  \n",
      " 8   Outlet_Size                4075 non-null   object \n",
      " 9   Outlet_Location_Type       5681 non-null   object \n",
      " 10  Outlet_Type                5681 non-null   object \n",
      "dtypes: float64(3), int64(1), object(7)\n",
      "memory usage: 488.3+ KB\n"
     ]
    }
   ],
   "source": [
    "Big_Test.info()"
   ]
  },
  {
   "cell_type": "code",
   "execution_count": 13,
   "id": "86ab21f0",
   "metadata": {},
   "outputs": [
    {
     "data": {
      "text/html": [
       "<div>\n",
       "<style scoped>\n",
       "    .dataframe tbody tr th:only-of-type {\n",
       "        vertical-align: middle;\n",
       "    }\n",
       "\n",
       "    .dataframe tbody tr th {\n",
       "        vertical-align: top;\n",
       "    }\n",
       "\n",
       "    .dataframe thead th {\n",
       "        text-align: right;\n",
       "    }\n",
       "</style>\n",
       "<table border=\"1\" class=\"dataframe\">\n",
       "  <thead>\n",
       "    <tr style=\"text-align: right;\">\n",
       "      <th></th>\n",
       "      <th>Item_Weight</th>\n",
       "      <th>Item_Visibility</th>\n",
       "      <th>Item_MRP</th>\n",
       "      <th>Outlet_Establishment_Year</th>\n",
       "      <th>Item_Outlet_Sales</th>\n",
       "    </tr>\n",
       "  </thead>\n",
       "  <tbody>\n",
       "    <tr>\n",
       "      <th>count</th>\n",
       "      <td>7060.000000</td>\n",
       "      <td>8523.000000</td>\n",
       "      <td>8523.000000</td>\n",
       "      <td>8523.000000</td>\n",
       "      <td>8523.000000</td>\n",
       "    </tr>\n",
       "    <tr>\n",
       "      <th>mean</th>\n",
       "      <td>12.857645</td>\n",
       "      <td>0.066132</td>\n",
       "      <td>140.992782</td>\n",
       "      <td>1997.831867</td>\n",
       "      <td>2181.288914</td>\n",
       "    </tr>\n",
       "    <tr>\n",
       "      <th>std</th>\n",
       "      <td>4.643456</td>\n",
       "      <td>0.051598</td>\n",
       "      <td>62.275067</td>\n",
       "      <td>8.371760</td>\n",
       "      <td>1706.499616</td>\n",
       "    </tr>\n",
       "    <tr>\n",
       "      <th>min</th>\n",
       "      <td>4.555000</td>\n",
       "      <td>0.000000</td>\n",
       "      <td>31.290000</td>\n",
       "      <td>1985.000000</td>\n",
       "      <td>33.290000</td>\n",
       "    </tr>\n",
       "    <tr>\n",
       "      <th>25%</th>\n",
       "      <td>8.773750</td>\n",
       "      <td>0.026989</td>\n",
       "      <td>93.826500</td>\n",
       "      <td>1987.000000</td>\n",
       "      <td>834.247400</td>\n",
       "    </tr>\n",
       "    <tr>\n",
       "      <th>50%</th>\n",
       "      <td>12.600000</td>\n",
       "      <td>0.053931</td>\n",
       "      <td>143.012800</td>\n",
       "      <td>1999.000000</td>\n",
       "      <td>1794.331000</td>\n",
       "    </tr>\n",
       "    <tr>\n",
       "      <th>75%</th>\n",
       "      <td>16.850000</td>\n",
       "      <td>0.094585</td>\n",
       "      <td>185.643700</td>\n",
       "      <td>2004.000000</td>\n",
       "      <td>3101.296400</td>\n",
       "    </tr>\n",
       "    <tr>\n",
       "      <th>max</th>\n",
       "      <td>21.350000</td>\n",
       "      <td>0.328391</td>\n",
       "      <td>266.888400</td>\n",
       "      <td>2009.000000</td>\n",
       "      <td>13086.964800</td>\n",
       "    </tr>\n",
       "  </tbody>\n",
       "</table>\n",
       "</div>"
      ],
      "text/plain": [
       "       Item_Weight  Item_Visibility     Item_MRP  Outlet_Establishment_Year  \\\n",
       "count  7060.000000      8523.000000  8523.000000                8523.000000   \n",
       "mean     12.857645         0.066132   140.992782                1997.831867   \n",
       "std       4.643456         0.051598    62.275067                   8.371760   \n",
       "min       4.555000         0.000000    31.290000                1985.000000   \n",
       "25%       8.773750         0.026989    93.826500                1987.000000   \n",
       "50%      12.600000         0.053931   143.012800                1999.000000   \n",
       "75%      16.850000         0.094585   185.643700                2004.000000   \n",
       "max      21.350000         0.328391   266.888400                2009.000000   \n",
       "\n",
       "       Item_Outlet_Sales  \n",
       "count        8523.000000  \n",
       "mean         2181.288914  \n",
       "std          1706.499616  \n",
       "min            33.290000  \n",
       "25%           834.247400  \n",
       "50%          1794.331000  \n",
       "75%          3101.296400  \n",
       "max         13086.964800  "
      ]
     },
     "execution_count": 13,
     "metadata": {},
     "output_type": "execute_result"
    }
   ],
   "source": [
    "Big_Train.describe()"
   ]
  },
  {
   "cell_type": "code",
   "execution_count": 14,
   "id": "2eb8dbc8",
   "metadata": {},
   "outputs": [
    {
     "data": {
      "text/html": [
       "<div>\n",
       "<style scoped>\n",
       "    .dataframe tbody tr th:only-of-type {\n",
       "        vertical-align: middle;\n",
       "    }\n",
       "\n",
       "    .dataframe tbody tr th {\n",
       "        vertical-align: top;\n",
       "    }\n",
       "\n",
       "    .dataframe thead th {\n",
       "        text-align: right;\n",
       "    }\n",
       "</style>\n",
       "<table border=\"1\" class=\"dataframe\">\n",
       "  <thead>\n",
       "    <tr style=\"text-align: right;\">\n",
       "      <th></th>\n",
       "      <th>Item_Weight</th>\n",
       "      <th>Item_Visibility</th>\n",
       "      <th>Item_MRP</th>\n",
       "      <th>Outlet_Establishment_Year</th>\n",
       "    </tr>\n",
       "  </thead>\n",
       "  <tbody>\n",
       "    <tr>\n",
       "      <th>count</th>\n",
       "      <td>4705.000000</td>\n",
       "      <td>5681.000000</td>\n",
       "      <td>5681.000000</td>\n",
       "      <td>5681.000000</td>\n",
       "    </tr>\n",
       "    <tr>\n",
       "      <th>mean</th>\n",
       "      <td>12.695633</td>\n",
       "      <td>0.065684</td>\n",
       "      <td>141.023273</td>\n",
       "      <td>1997.828903</td>\n",
       "    </tr>\n",
       "    <tr>\n",
       "      <th>std</th>\n",
       "      <td>4.664849</td>\n",
       "      <td>0.051252</td>\n",
       "      <td>61.809091</td>\n",
       "      <td>8.372256</td>\n",
       "    </tr>\n",
       "    <tr>\n",
       "      <th>min</th>\n",
       "      <td>4.555000</td>\n",
       "      <td>0.000000</td>\n",
       "      <td>31.990000</td>\n",
       "      <td>1985.000000</td>\n",
       "    </tr>\n",
       "    <tr>\n",
       "      <th>25%</th>\n",
       "      <td>8.645000</td>\n",
       "      <td>0.027047</td>\n",
       "      <td>94.412000</td>\n",
       "      <td>1987.000000</td>\n",
       "    </tr>\n",
       "    <tr>\n",
       "      <th>50%</th>\n",
       "      <td>12.500000</td>\n",
       "      <td>0.054154</td>\n",
       "      <td>141.415400</td>\n",
       "      <td>1999.000000</td>\n",
       "    </tr>\n",
       "    <tr>\n",
       "      <th>75%</th>\n",
       "      <td>16.700000</td>\n",
       "      <td>0.093463</td>\n",
       "      <td>186.026600</td>\n",
       "      <td>2004.000000</td>\n",
       "    </tr>\n",
       "    <tr>\n",
       "      <th>max</th>\n",
       "      <td>21.350000</td>\n",
       "      <td>0.323637</td>\n",
       "      <td>266.588400</td>\n",
       "      <td>2009.000000</td>\n",
       "    </tr>\n",
       "  </tbody>\n",
       "</table>\n",
       "</div>"
      ],
      "text/plain": [
       "       Item_Weight  Item_Visibility     Item_MRP  Outlet_Establishment_Year\n",
       "count  4705.000000      5681.000000  5681.000000                5681.000000\n",
       "mean     12.695633         0.065684   141.023273                1997.828903\n",
       "std       4.664849         0.051252    61.809091                   8.372256\n",
       "min       4.555000         0.000000    31.990000                1985.000000\n",
       "25%       8.645000         0.027047    94.412000                1987.000000\n",
       "50%      12.500000         0.054154   141.415400                1999.000000\n",
       "75%      16.700000         0.093463   186.026600                2004.000000\n",
       "max      21.350000         0.323637   266.588400                2009.000000"
      ]
     },
     "execution_count": 14,
     "metadata": {},
     "output_type": "execute_result"
    }
   ],
   "source": [
    "Big_Test.describe()"
   ]
  },
  {
   "cell_type": "code",
   "execution_count": 15,
   "id": "466df8b3",
   "metadata": {},
   "outputs": [
    {
     "data": {
      "text/plain": [
       "count    7060.000000\n",
       "mean       12.857645\n",
       "std         4.643456\n",
       "min         4.555000\n",
       "25%         8.773750\n",
       "50%        12.600000\n",
       "75%        16.850000\n",
       "max        21.350000\n",
       "Name: Item_Weight, dtype: float64"
      ]
     },
     "execution_count": 15,
     "metadata": {},
     "output_type": "execute_result"
    }
   ],
   "source": [
    "Big_Train['Item_Weight'].describe()"
   ]
  },
  {
   "cell_type": "code",
   "execution_count": 16,
   "id": "f8bb065f",
   "metadata": {},
   "outputs": [],
   "source": [
    "Big_Train['Item_Weight'].fillna(Big_Train['Item_Weight'].mean(),inplace=True)\n",
    "Big_Train['Outlet_Size'].fillna(Big_Train['Outlet_Size'].mode()[0],inplace=True)\n",
    "Big_Test['Item_Weight'].fillna(Big_Test['Item_Weight'].mean(),inplace=True)\n",
    "Big_Test['Outlet_Size'].fillna(Big_Test['Outlet_Size'].mode()[0],inplace=True)"
   ]
  },
  {
   "cell_type": "code",
   "execution_count": 17,
   "id": "1051da55",
   "metadata": {},
   "outputs": [
    {
     "data": {
      "text/plain": [
       "Item_Identifier              0\n",
       "Item_Weight                  0\n",
       "Item_Fat_Content             0\n",
       "Item_Visibility              0\n",
       "Item_Type                    0\n",
       "Item_MRP                     0\n",
       "Outlet_Identifier            0\n",
       "Outlet_Establishment_Year    0\n",
       "Outlet_Size                  0\n",
       "Outlet_Location_Type         0\n",
       "Outlet_Type                  0\n",
       "Item_Outlet_Sales            0\n",
       "dtype: int64"
      ]
     },
     "execution_count": 17,
     "metadata": {},
     "output_type": "execute_result"
    }
   ],
   "source": [
    "Big_Train.isnull().sum()"
   ]
  },
  {
   "cell_type": "code",
   "execution_count": 18,
   "id": "23427541",
   "metadata": {},
   "outputs": [
    {
     "data": {
      "text/plain": [
       "count    8523.000000\n",
       "mean       12.857645\n",
       "std         4.226124\n",
       "min         4.555000\n",
       "25%         9.310000\n",
       "50%        12.857645\n",
       "75%        16.000000\n",
       "max        21.350000\n",
       "Name: Item_Weight, dtype: float64"
      ]
     },
     "execution_count": 18,
     "metadata": {},
     "output_type": "execute_result"
    }
   ],
   "source": [
    "Big_Train['Item_Weight'].describe()"
   ]
  },
  {
   "cell_type": "code",
   "execution_count": 19,
   "id": "b7157189",
   "metadata": {},
   "outputs": [
    {
     "data": {
      "text/plain": [
       "Item_Identifier              0\n",
       "Item_Weight                  0\n",
       "Item_Fat_Content             0\n",
       "Item_Visibility              0\n",
       "Item_Type                    0\n",
       "Item_MRP                     0\n",
       "Outlet_Identifier            0\n",
       "Outlet_Establishment_Year    0\n",
       "Outlet_Size                  0\n",
       "Outlet_Location_Type         0\n",
       "Outlet_Type                  0\n",
       "dtype: int64"
      ]
     },
     "execution_count": 19,
     "metadata": {},
     "output_type": "execute_result"
    }
   ],
   "source": [
    "Big_Test.isnull().sum()"
   ]
  },
  {
   "cell_type": "code",
   "execution_count": 20,
   "id": "3feea0a7",
   "metadata": {},
   "outputs": [
    {
     "data": {
      "text/plain": [
       "count    5681.000000\n",
       "mean       12.695633\n",
       "std         4.245189\n",
       "min         4.555000\n",
       "25%         9.195000\n",
       "50%        12.695633\n",
       "75%        15.850000\n",
       "max        21.350000\n",
       "Name: Item_Weight, dtype: float64"
      ]
     },
     "execution_count": 20,
     "metadata": {},
     "output_type": "execute_result"
    }
   ],
   "source": [
    "Big_Test['Item_Weight'].describe()"
   ]
  },
  {
   "cell_type": "code",
   "execution_count": 21,
   "id": "27c95eb4",
   "metadata": {},
   "outputs": [
    {
     "data": {
      "text/plain": [
       "Medium    5203\n",
       "Small     2388\n",
       "High       932\n",
       "Name: Outlet_Size, dtype: int64"
      ]
     },
     "execution_count": 21,
     "metadata": {},
     "output_type": "execute_result"
    }
   ],
   "source": [
    "Big_Train['Outlet_Size'].value_counts()"
   ]
  },
  {
   "cell_type": "code",
   "execution_count": 22,
   "id": "1f9a1d39",
   "metadata": {},
   "outputs": [
    {
     "data": {
      "text/plain": [
       "Medium    3468\n",
       "Small     1592\n",
       "High       621\n",
       "Name: Outlet_Size, dtype: int64"
      ]
     },
     "execution_count": 22,
     "metadata": {},
     "output_type": "execute_result"
    }
   ],
   "source": [
    "Big_Test['Outlet_Size'].value_counts()"
   ]
  },
  {
   "cell_type": "code",
   "execution_count": 23,
   "id": "b0067f16",
   "metadata": {},
   "outputs": [
    {
     "data": {
      "text/plain": [
       "Medium    5203\n",
       "Small     2388\n",
       "High       932\n",
       "Name: Outlet_Size, dtype: int64"
      ]
     },
     "execution_count": 23,
     "metadata": {},
     "output_type": "execute_result"
    }
   ],
   "source": [
    "Big_Train['Outlet_Size'].value_counts()"
   ]
  },
  {
   "cell_type": "code",
   "execution_count": 24,
   "id": "20a819a7",
   "metadata": {},
   "outputs": [
    {
     "data": {
      "text/plain": [
       "Medium    3468\n",
       "Small     1592\n",
       "High       621\n",
       "Name: Outlet_Size, dtype: int64"
      ]
     },
     "execution_count": 24,
     "metadata": {},
     "output_type": "execute_result"
    }
   ],
   "source": [
    "Big_Test['Outlet_Size'].value_counts()"
   ]
  },
  {
   "cell_type": "code",
   "execution_count": 25,
   "id": "f8bf242c",
   "metadata": {},
   "outputs": [],
   "source": [
    "Big_Train.drop(['Item_Identifier','Outlet_Identifier'],axis=1,inplace=True)\n",
    "Big_Test.drop(['Item_Identifier','Outlet_Identifier'],axis=1,inplace=True)"
   ]
  },
  {
   "cell_type": "code",
   "execution_count": 26,
   "id": "1aa1173b",
   "metadata": {},
   "outputs": [
    {
     "data": {
      "text/plain": [
       "(8523, 10)"
      ]
     },
     "execution_count": 26,
     "metadata": {},
     "output_type": "execute_result"
    }
   ],
   "source": [
    "Big_Train.shape"
   ]
  },
  {
   "cell_type": "code",
   "execution_count": 27,
   "id": "a8ddb408",
   "metadata": {},
   "outputs": [
    {
     "data": {
      "text/plain": [
       "(5681, 9)"
      ]
     },
     "execution_count": 27,
     "metadata": {},
     "output_type": "execute_result"
    }
   ],
   "source": [
    "Big_Test.shape"
   ]
  },
  {
   "cell_type": "code",
   "execution_count": 28,
   "id": "c85da5b4",
   "metadata": {},
   "outputs": [
    {
     "data": {
      "text/html": [
       "<div>\n",
       "<style scoped>\n",
       "    .dataframe tbody tr th:only-of-type {\n",
       "        vertical-align: middle;\n",
       "    }\n",
       "\n",
       "    .dataframe tbody tr th {\n",
       "        vertical-align: top;\n",
       "    }\n",
       "\n",
       "    .dataframe thead th {\n",
       "        text-align: right;\n",
       "    }\n",
       "</style>\n",
       "<table border=\"1\" class=\"dataframe\">\n",
       "  <thead>\n",
       "    <tr style=\"text-align: right;\">\n",
       "      <th></th>\n",
       "      <th>Item_Weight</th>\n",
       "      <th>Item_Fat_Content</th>\n",
       "      <th>Item_Visibility</th>\n",
       "      <th>Item_Type</th>\n",
       "      <th>Item_MRP</th>\n",
       "      <th>Outlet_Establishment_Year</th>\n",
       "      <th>Outlet_Size</th>\n",
       "      <th>Outlet_Location_Type</th>\n",
       "      <th>Outlet_Type</th>\n",
       "      <th>Item_Outlet_Sales</th>\n",
       "    </tr>\n",
       "  </thead>\n",
       "  <tbody>\n",
       "    <tr>\n",
       "      <th>0</th>\n",
       "      <td>9.30</td>\n",
       "      <td>Low Fat</td>\n",
       "      <td>0.016047</td>\n",
       "      <td>Dairy</td>\n",
       "      <td>249.8092</td>\n",
       "      <td>1999</td>\n",
       "      <td>Medium</td>\n",
       "      <td>Tier 1</td>\n",
       "      <td>Supermarket Type1</td>\n",
       "      <td>3735.1380</td>\n",
       "    </tr>\n",
       "    <tr>\n",
       "      <th>1</th>\n",
       "      <td>5.92</td>\n",
       "      <td>Regular</td>\n",
       "      <td>0.019278</td>\n",
       "      <td>Soft Drinks</td>\n",
       "      <td>48.2692</td>\n",
       "      <td>2009</td>\n",
       "      <td>Medium</td>\n",
       "      <td>Tier 3</td>\n",
       "      <td>Supermarket Type2</td>\n",
       "      <td>443.4228</td>\n",
       "    </tr>\n",
       "    <tr>\n",
       "      <th>2</th>\n",
       "      <td>17.50</td>\n",
       "      <td>Low Fat</td>\n",
       "      <td>0.016760</td>\n",
       "      <td>Meat</td>\n",
       "      <td>141.6180</td>\n",
       "      <td>1999</td>\n",
       "      <td>Medium</td>\n",
       "      <td>Tier 1</td>\n",
       "      <td>Supermarket Type1</td>\n",
       "      <td>2097.2700</td>\n",
       "    </tr>\n",
       "  </tbody>\n",
       "</table>\n",
       "</div>"
      ],
      "text/plain": [
       "   Item_Weight Item_Fat_Content  Item_Visibility    Item_Type  Item_MRP  \\\n",
       "0         9.30          Low Fat         0.016047        Dairy  249.8092   \n",
       "1         5.92          Regular         0.019278  Soft Drinks   48.2692   \n",
       "2        17.50          Low Fat         0.016760         Meat  141.6180   \n",
       "\n",
       "   Outlet_Establishment_Year Outlet_Size Outlet_Location_Type  \\\n",
       "0                       1999      Medium               Tier 1   \n",
       "1                       2009      Medium               Tier 3   \n",
       "2                       1999      Medium               Tier 1   \n",
       "\n",
       "         Outlet_Type  Item_Outlet_Sales  \n",
       "0  Supermarket Type1          3735.1380  \n",
       "1  Supermarket Type2           443.4228  \n",
       "2  Supermarket Type1          2097.2700  "
      ]
     },
     "execution_count": 28,
     "metadata": {},
     "output_type": "execute_result"
    }
   ],
   "source": [
    "Big_Train.head(3)"
   ]
  },
  {
   "cell_type": "code",
   "execution_count": 29,
   "id": "60923508",
   "metadata": {},
   "outputs": [
    {
     "data": {
      "text/html": [
       "<div>\n",
       "<style scoped>\n",
       "    .dataframe tbody tr th:only-of-type {\n",
       "        vertical-align: middle;\n",
       "    }\n",
       "\n",
       "    .dataframe tbody tr th {\n",
       "        vertical-align: top;\n",
       "    }\n",
       "\n",
       "    .dataframe thead th {\n",
       "        text-align: right;\n",
       "    }\n",
       "</style>\n",
       "<table border=\"1\" class=\"dataframe\">\n",
       "  <thead>\n",
       "    <tr style=\"text-align: right;\">\n",
       "      <th></th>\n",
       "      <th>Item_Weight</th>\n",
       "      <th>Item_Fat_Content</th>\n",
       "      <th>Item_Visibility</th>\n",
       "      <th>Item_Type</th>\n",
       "      <th>Item_MRP</th>\n",
       "      <th>Outlet_Establishment_Year</th>\n",
       "      <th>Outlet_Size</th>\n",
       "      <th>Outlet_Location_Type</th>\n",
       "      <th>Outlet_Type</th>\n",
       "    </tr>\n",
       "  </thead>\n",
       "  <tbody>\n",
       "    <tr>\n",
       "      <th>0</th>\n",
       "      <td>20.75</td>\n",
       "      <td>Low Fat</td>\n",
       "      <td>0.007565</td>\n",
       "      <td>Snack Foods</td>\n",
       "      <td>107.8622</td>\n",
       "      <td>1999</td>\n",
       "      <td>Medium</td>\n",
       "      <td>Tier 1</td>\n",
       "      <td>Supermarket Type1</td>\n",
       "    </tr>\n",
       "    <tr>\n",
       "      <th>1</th>\n",
       "      <td>8.30</td>\n",
       "      <td>reg</td>\n",
       "      <td>0.038428</td>\n",
       "      <td>Dairy</td>\n",
       "      <td>87.3198</td>\n",
       "      <td>2007</td>\n",
       "      <td>Medium</td>\n",
       "      <td>Tier 2</td>\n",
       "      <td>Supermarket Type1</td>\n",
       "    </tr>\n",
       "    <tr>\n",
       "      <th>2</th>\n",
       "      <td>14.60</td>\n",
       "      <td>Low Fat</td>\n",
       "      <td>0.099575</td>\n",
       "      <td>Others</td>\n",
       "      <td>241.7538</td>\n",
       "      <td>1998</td>\n",
       "      <td>Medium</td>\n",
       "      <td>Tier 3</td>\n",
       "      <td>Grocery Store</td>\n",
       "    </tr>\n",
       "  </tbody>\n",
       "</table>\n",
       "</div>"
      ],
      "text/plain": [
       "   Item_Weight Item_Fat_Content  Item_Visibility    Item_Type  Item_MRP  \\\n",
       "0        20.75          Low Fat         0.007565  Snack Foods  107.8622   \n",
       "1         8.30              reg         0.038428        Dairy   87.3198   \n",
       "2        14.60          Low Fat         0.099575       Others  241.7538   \n",
       "\n",
       "   Outlet_Establishment_Year Outlet_Size Outlet_Location_Type  \\\n",
       "0                       1999      Medium               Tier 1   \n",
       "1                       2007      Medium               Tier 2   \n",
       "2                       1998      Medium               Tier 3   \n",
       "\n",
       "         Outlet_Type  \n",
       "0  Supermarket Type1  \n",
       "1  Supermarket Type1  \n",
       "2      Grocery Store  "
      ]
     },
     "execution_count": 29,
     "metadata": {},
     "output_type": "execute_result"
    }
   ],
   "source": [
    "Big_Test.head(3)"
   ]
  },
  {
   "cell_type": "code",
   "execution_count": 30,
   "id": "9ee402db",
   "metadata": {},
   "outputs": [
    {
     "data": {
      "text/plain": [
       "Low Fat    5089\n",
       "Regular    2889\n",
       "LF          316\n",
       "reg         117\n",
       "low fat     112\n",
       "Name: Item_Fat_Content, dtype: int64"
      ]
     },
     "execution_count": 30,
     "metadata": {},
     "output_type": "execute_result"
    }
   ],
   "source": [
    "Big_Train['Item_Fat_Content'].value_counts()"
   ]
  },
  {
   "cell_type": "code",
   "execution_count": 31,
   "id": "8947a6db",
   "metadata": {},
   "outputs": [],
   "source": [
    "Big_Train['Item_Fat_Content']=Big_Train['Item_Fat_Content'].replace('LF','Low Fat')\n",
    "Big_Train['Item_Fat_Content']=Big_Train['Item_Fat_Content'].replace('low fat','Low Fat')\n",
    "Big_Train['Item_Fat_Content']=Big_Train['Item_Fat_Content'].replace('reg','Regular')"
   ]
  },
  {
   "cell_type": "code",
   "execution_count": 32,
   "id": "c8e013ad",
   "metadata": {},
   "outputs": [
    {
     "data": {
      "text/plain": [
       "Low Fat    5517\n",
       "Regular    3006\n",
       "Name: Item_Fat_Content, dtype: int64"
      ]
     },
     "execution_count": 32,
     "metadata": {},
     "output_type": "execute_result"
    }
   ],
   "source": [
    "Big_Train['Item_Fat_Content'].value_counts()"
   ]
  },
  {
   "cell_type": "code",
   "execution_count": 33,
   "id": "1bf55779",
   "metadata": {},
   "outputs": [
    {
     "data": {
      "image/png": "[encoded data removed]",
      "text/plain": [
       "<Figure size 432x288 with 1 Axes>"
      ]
     },
     "metadata": {
      "needs_background": "light"
     },
     "output_type": "display_data"
    }
   ],
   "source": [
    "sns.countplot(Big_Train['Item_Fat_Content'])\n",
    "plt.title('Train DataSet of Item Fat Content');"
   ]
  },
  {
   "cell_type": "code",
   "execution_count": 34,
   "id": "ec3c1d3f",
   "metadata": {},
   "outputs": [
    {
     "data": {
      "text/plain": [
       "Low Fat    3396\n",
       "Regular    1935\n",
       "LF          206\n",
       "reg          78\n",
       "low fat      66\n",
       "Name: Item_Fat_Content, dtype: int64"
      ]
     },
     "execution_count": 34,
     "metadata": {},
     "output_type": "execute_result"
    }
   ],
   "source": [
    "Big_Test['Item_Fat_Content'].value_counts()"
   ]
  },
  {
   "cell_type": "code",
   "execution_count": 35,
   "id": "55f3838a",
   "metadata": {},
   "outputs": [],
   "source": [
    "Big_Test['Item_Fat_Content']=Big_Test['Item_Fat_Content'].replace('LF','Low Fat')\n",
    "Big_Test['Item_Fat_Content']=Big_Test['Item_Fat_Content'].replace('low fat','Low Fat')\n",
    "Big_Test['Item_Fat_Content']=Big_Test['Item_Fat_Content'].replace('res','Regular')"
   ]
  },
  {
   "cell_type": "code",
   "execution_count": 36,
   "id": "89fdea7a",
   "metadata": {},
   "outputs": [
    {
     "data": {
      "text/plain": [
       "Low Fat    5517\n",
       "Regular    3006\n",
       "Name: Item_Fat_Content, dtype: int64"
      ]
     },
     "execution_count": 36,
     "metadata": {},
     "output_type": "execute_result"
    }
   ],
   "source": [
    "Big_Train['Item_Fat_Content'].value_counts()"
   ]
  },
  {
   "cell_type": "code",
   "execution_count": 37,
   "id": "c1900ec7",
   "metadata": {},
   "outputs": [
    {
     "data": {
      "image/png": "[encoded data removed]",
      "text/plain": [
       "<Figure size 432x288 with 1 Axes>"
      ]
     },
     "metadata": {
      "needs_background": "light"
     },
     "output_type": "display_data"
    }
   ],
   "source": [
    "sns.countplot(Big_Test['Item_Fat_Content'])\n",
    "plt.title('Test DataSet of Item Fat Content');"
   ]
  },
  {
   "cell_type": "code",
   "execution_count": 38,
   "id": "977e7e07",
   "metadata": {},
   "outputs": [
    {
     "data": {
      "text/plain": [
       "Fruits and Vegetables    1232\n",
       "Snack Foods              1200\n",
       "Household                 910\n",
       "Frozen Foods              856\n",
       "Dairy                     682\n",
       "Canned                    649\n",
       "Baking Goods              648\n",
       "Health and Hygiene        520\n",
       "Soft Drinks               445\n",
       "Meat                      425\n",
       "Breads                    251\n",
       "Hard Drinks               214\n",
       "Others                    169\n",
       "Starchy Foods             148\n",
       "Breakfast                 110\n",
       "Seafood                    64\n",
       "Name: Item_Type, dtype: int64"
      ]
     },
     "execution_count": 38,
     "metadata": {},
     "output_type": "execute_result"
    }
   ],
   "source": [
    "Big_Train['Item_Type'].value_counts()"
   ]
  },
  {
   "cell_type": "code",
   "execution_count": 39,
   "id": "e877b482",
   "metadata": {},
   "outputs": [
    {
     "data": {
      "image/png": "[encoded data removed]",
      "text/plain": [
       "<Figure size 1152x576 with 1 Axes>"
      ]
     },
     "metadata": {
      "needs_background": "light"
     },
     "output_type": "display_data"
    }
   ],
   "source": [
    "plt.figure(figsize=(16,8))\n",
    "sns.countplot(Big_Train['Item_Type'])\n",
    "plt.xticks(rotation=90)\n",
    "plt.title('Item_Type');"
   ]
  },
  {
   "cell_type": "code",
   "execution_count": 40,
   "id": "cdfd40c9",
   "metadata": {},
   "outputs": [
    {
     "name": "stdout",
     "output_type": "stream",
     "text": [
      "Medium    5203\n",
      "Small     2388\n",
      "High       932\n",
      "Name: Outlet_Size, dtype: int64\n"
     ]
    },
    {
     "data": {
      "image/png": "[encoded data removed]",
      "text/plain": [
       "<Figure size 576x360 with 1 Axes>"
      ]
     },
     "metadata": {
      "needs_background": "light"
     },
     "output_type": "display_data"
    }
   ],
   "source": [
    "print(Big_Train[\"Outlet_Size\"].value_counts())\n",
    "plt.figure(figsize=(8,5))\n",
    "sns.countplot(Big_Train[\"Outlet_Size\"])\n",
    "plt.title('Outlet Size');"
   ]
  },
  {
   "cell_type": "code",
   "execution_count": 41,
   "id": "c1f2e24e",
   "metadata": {},
   "outputs": [
    {
     "data": {
      "text/plain": [
       "Tier 3    3350\n",
       "Tier 2    2785\n",
       "Tier 1    2388\n",
       "Name: Outlet_Location_Type, dtype: int64"
      ]
     },
     "execution_count": 41,
     "metadata": {},
     "output_type": "execute_result"
    }
   ],
   "source": [
    "Big_Train['Outlet_Location_Type'].value_counts()"
   ]
  },
  {
   "cell_type": "code",
   "execution_count": 42,
   "id": "c2e3c343",
   "metadata": {},
   "outputs": [
    {
     "data": {
      "image/png": "[encoded data removed]",
      "text/plain": [
       "<Figure size 432x288 with 1 Axes>"
      ]
     },
     "metadata": {},
     "output_type": "display_data"
    }
   ],
   "source": [
    "labels ='Tier3','Tier2','Tier1'\n",
    "fig, ax = plt.subplots()\n",
    "ax.pie(Big_Train['Outlet_Location_Type'].value_counts(),labels=labels, autopct='%1.2f%%', shadow=True);"
   ]
  },
  {
   "cell_type": "code",
   "execution_count": 43,
   "id": "87d64f39",
   "metadata": {},
   "outputs": [
    {
     "data": {
      "text/plain": [
       "Supermarket Type1    3717\n",
       "Grocery Store         722\n",
       "Supermarket Type3     624\n",
       "Supermarket Type2     618\n",
       "Name: Outlet_Type, dtype: int64"
      ]
     },
     "execution_count": 43,
     "metadata": {},
     "output_type": "execute_result"
    }
   ],
   "source": [
    "Big_Test['Outlet_Type'].value_counts()"
   ]
  },
  {
   "cell_type": "code",
   "execution_count": 44,
   "id": "ef3a11d5",
   "metadata": {},
   "outputs": [
    {
     "data": {
      "image/png": "[encoded data removed]",
      "text/plain": [
       "<Figure size 432x288 with 1 Axes>"
      ]
     },
     "metadata": {
      "needs_background": "light"
     },
     "output_type": "display_data"
    }
   ],
   "source": [
    "sns.countplot(Big_Test['Outlet_Type'])\n",
    "plt.title('Outlet Type')\n",
    "plt.xticks(rotation=90);"
   ]
  },
  {
   "cell_type": "code",
   "execution_count": 45,
   "id": "bccfbcbd",
   "metadata": {},
   "outputs": [
    {
     "data": {
      "text/html": [
       "<div>\n",
       "<style scoped>\n",
       "    .dataframe tbody tr th:only-of-type {\n",
       "        vertical-align: middle;\n",
       "    }\n",
       "\n",
       "    .dataframe tbody tr th {\n",
       "        vertical-align: top;\n",
       "    }\n",
       "\n",
       "    .dataframe thead th {\n",
       "        text-align: right;\n",
       "    }\n",
       "</style>\n",
       "<table border=\"1\" class=\"dataframe\">\n",
       "  <thead>\n",
       "    <tr style=\"text-align: right;\">\n",
       "      <th></th>\n",
       "      <th>Item_Weight</th>\n",
       "      <th>Item_Fat_Content</th>\n",
       "      <th>Item_Visibility</th>\n",
       "      <th>Item_Type</th>\n",
       "      <th>Item_MRP</th>\n",
       "      <th>Outlet_Establishment_Year</th>\n",
       "      <th>Outlet_Size</th>\n",
       "      <th>Outlet_Location_Type</th>\n",
       "      <th>Outlet_Type</th>\n",
       "      <th>Item_Outlet_Sales</th>\n",
       "    </tr>\n",
       "  </thead>\n",
       "  <tbody>\n",
       "    <tr>\n",
       "      <th>0</th>\n",
       "      <td>9.30</td>\n",
       "      <td>Low Fat</td>\n",
       "      <td>0.016047</td>\n",
       "      <td>Dairy</td>\n",
       "      <td>249.8092</td>\n",
       "      <td>1999</td>\n",
       "      <td>Medium</td>\n",
       "      <td>Tier 1</td>\n",
       "      <td>Supermarket Type1</td>\n",
       "      <td>3735.1380</td>\n",
       "    </tr>\n",
       "    <tr>\n",
       "      <th>1</th>\n",
       "      <td>5.92</td>\n",
       "      <td>Regular</td>\n",
       "      <td>0.019278</td>\n",
       "      <td>Soft Drinks</td>\n",
       "      <td>48.2692</td>\n",
       "      <td>2009</td>\n",
       "      <td>Medium</td>\n",
       "      <td>Tier 3</td>\n",
       "      <td>Supermarket Type2</td>\n",
       "      <td>443.4228</td>\n",
       "    </tr>\n",
       "    <tr>\n",
       "      <th>2</th>\n",
       "      <td>17.50</td>\n",
       "      <td>Low Fat</td>\n",
       "      <td>0.016760</td>\n",
       "      <td>Meat</td>\n",
       "      <td>141.6180</td>\n",
       "      <td>1999</td>\n",
       "      <td>Medium</td>\n",
       "      <td>Tier 1</td>\n",
       "      <td>Supermarket Type1</td>\n",
       "      <td>2097.2700</td>\n",
       "    </tr>\n",
       "    <tr>\n",
       "      <th>3</th>\n",
       "      <td>19.20</td>\n",
       "      <td>Regular</td>\n",
       "      <td>0.000000</td>\n",
       "      <td>Fruits and Vegetables</td>\n",
       "      <td>182.0950</td>\n",
       "      <td>1998</td>\n",
       "      <td>Medium</td>\n",
       "      <td>Tier 3</td>\n",
       "      <td>Grocery Store</td>\n",
       "      <td>732.3800</td>\n",
       "    </tr>\n",
       "    <tr>\n",
       "      <th>4</th>\n",
       "      <td>8.93</td>\n",
       "      <td>Low Fat</td>\n",
       "      <td>0.000000</td>\n",
       "      <td>Household</td>\n",
       "      <td>53.8614</td>\n",
       "      <td>1987</td>\n",
       "      <td>High</td>\n",
       "      <td>Tier 3</td>\n",
       "      <td>Supermarket Type1</td>\n",
       "      <td>994.7052</td>\n",
       "    </tr>\n",
       "  </tbody>\n",
       "</table>\n",
       "</div>"
      ],
      "text/plain": [
       "   Item_Weight Item_Fat_Content  Item_Visibility              Item_Type  \\\n",
       "0         9.30          Low Fat         0.016047                  Dairy   \n",
       "1         5.92          Regular         0.019278            Soft Drinks   \n",
       "2        17.50          Low Fat         0.016760                   Meat   \n",
       "3        19.20          Regular         0.000000  Fruits and Vegetables   \n",
       "4         8.93          Low Fat         0.000000              Household   \n",
       "\n",
       "   Item_MRP  Outlet_Establishment_Year Outlet_Size Outlet_Location_Type  \\\n",
       "0  249.8092                       1999      Medium               Tier 1   \n",
       "1   48.2692                       2009      Medium               Tier 3   \n",
       "2  141.6180                       1999      Medium               Tier 1   \n",
       "3  182.0950                       1998      Medium               Tier 3   \n",
       "4   53.8614                       1987        High               Tier 3   \n",
       "\n",
       "         Outlet_Type  Item_Outlet_Sales  \n",
       "0  Supermarket Type1          3735.1380  \n",
       "1  Supermarket Type2           443.4228  \n",
       "2  Supermarket Type1          2097.2700  \n",
       "3      Grocery Store           732.3800  \n",
       "4  Supermarket Type1           994.7052  "
      ]
     },
     "execution_count": 45,
     "metadata": {},
     "output_type": "execute_result"
    }
   ],
   "source": [
    "Big_Train.head()"
   ]
  },
  {
   "cell_type": "code",
   "execution_count": 46,
   "id": "c002b698",
   "metadata": {},
   "outputs": [],
   "source": [
    "from sklearn.preprocessing import LabelEncoder,power_transform"
   ]
  },
  {
   "cell_type": "code",
   "execution_count": 47,
   "id": "2ec0dffb",
   "metadata": {},
   "outputs": [],
   "source": [
    "Lab_Enc = LabelEncoder()"
   ]
  },
  {
   "cell_type": "code",
   "execution_count": 48,
   "id": "d7259008",
   "metadata": {},
   "outputs": [],
   "source": [
    "Big_Train['Item_Fat_Content']= Lab_Enc.fit_transform(Big_Train['Item_Fat_Content'])\n",
    "Big_Train['Item_Type'] = Lab_Enc.fit_transform(Big_Train['Item_Type'])\n",
    "Big_Train['Outlet_Size'] = Lab_Enc.fit_transform(Big_Train['Outlet_Size'])\n",
    "Big_Train['Outlet_Location_Type'] = Lab_Enc.fit_transform(Big_Train['Outlet_Location_Type'])\n",
    "Big_Train['Outlet_Type'] = Lab_Enc.fit_transform(Big_Train['Outlet_Type'])"
   ]
  },
  {
   "cell_type": "code",
   "execution_count": 49,
   "id": "7401e5da",
   "metadata": {},
   "outputs": [
    {
     "data": {
      "text/html": [
       "<div>\n",
       "<style scoped>\n",
       "    .dataframe tbody tr th:only-of-type {\n",
       "        vertical-align: middle;\n",
       "    }\n",
       "\n",
       "    .dataframe tbody tr th {\n",
       "        vertical-align: top;\n",
       "    }\n",
       "\n",
       "    .dataframe thead th {\n",
       "        text-align: right;\n",
       "    }\n",
       "</style>\n",
       "<table border=\"1\" class=\"dataframe\">\n",
       "  <thead>\n",
       "    <tr style=\"text-align: right;\">\n",
       "      <th></th>\n",
       "      <th>Item_Weight</th>\n",
       "      <th>Item_Fat_Content</th>\n",
       "      <th>Item_Visibility</th>\n",
       "      <th>Item_Type</th>\n",
       "      <th>Item_MRP</th>\n",
       "      <th>Outlet_Establishment_Year</th>\n",
       "      <th>Outlet_Size</th>\n",
       "      <th>Outlet_Location_Type</th>\n",
       "      <th>Outlet_Type</th>\n",
       "      <th>Item_Outlet_Sales</th>\n",
       "    </tr>\n",
       "  </thead>\n",
       "  <tbody>\n",
       "    <tr>\n",
       "      <th>8520</th>\n",
       "      <td>10.60</td>\n",
       "      <td>0</td>\n",
       "      <td>0.035186</td>\n",
       "      <td>8</td>\n",
       "      <td>85.1224</td>\n",
       "      <td>2004</td>\n",
       "      <td>2</td>\n",
       "      <td>1</td>\n",
       "      <td>1</td>\n",
       "      <td>1193.1136</td>\n",
       "    </tr>\n",
       "    <tr>\n",
       "      <th>8521</th>\n",
       "      <td>7.21</td>\n",
       "      <td>1</td>\n",
       "      <td>0.145221</td>\n",
       "      <td>13</td>\n",
       "      <td>103.1332</td>\n",
       "      <td>2009</td>\n",
       "      <td>1</td>\n",
       "      <td>2</td>\n",
       "      <td>2</td>\n",
       "      <td>1845.5976</td>\n",
       "    </tr>\n",
       "    <tr>\n",
       "      <th>8522</th>\n",
       "      <td>14.80</td>\n",
       "      <td>0</td>\n",
       "      <td>0.044878</td>\n",
       "      <td>14</td>\n",
       "      <td>75.4670</td>\n",
       "      <td>1997</td>\n",
       "      <td>2</td>\n",
       "      <td>0</td>\n",
       "      <td>1</td>\n",
       "      <td>765.6700</td>\n",
       "    </tr>\n",
       "  </tbody>\n",
       "</table>\n",
       "</div>"
      ],
      "text/plain": [
       "      Item_Weight  Item_Fat_Content  Item_Visibility  Item_Type  Item_MRP  \\\n",
       "8520        10.60                 0         0.035186          8   85.1224   \n",
       "8521         7.21                 1         0.145221         13  103.1332   \n",
       "8522        14.80                 0         0.044878         14   75.4670   \n",
       "\n",
       "      Outlet_Establishment_Year  Outlet_Size  Outlet_Location_Type  \\\n",
       "8520                       2004            2                     1   \n",
       "8521                       2009            1                     2   \n",
       "8522                       1997            2                     0   \n",
       "\n",
       "      Outlet_Type  Item_Outlet_Sales  \n",
       "8520            1          1193.1136  \n",
       "8521            2          1845.5976  \n",
       "8522            1           765.6700  "
      ]
     },
     "execution_count": 49,
     "metadata": {},
     "output_type": "execute_result"
    }
   ],
   "source": [
    "Big_Train.tail(3)"
   ]
  },
  {
   "cell_type": "code",
   "execution_count": 50,
   "id": "8d19ba3f",
   "metadata": {},
   "outputs": [],
   "source": [
    "Big_Test['Item_Fat_Content']= Lab_Enc.fit_transform(Big_Test['Item_Fat_Content'])\n",
    "Big_Test['Item_Type'] = Lab_Enc.fit_transform(Big_Test['Item_Type'])\n",
    "Big_Test['Outlet_Size'] = Lab_Enc.fit_transform(Big_Test['Outlet_Size'])\n",
    "Big_Test['Outlet_Location_Type'] = Lab_Enc.fit_transform(Big_Test['Outlet_Location_Type'])\n",
    "Big_Test['Outlet_Type'] = Lab_Enc.fit_transform(Big_Test['Outlet_Type'])"
   ]
  },
  {
   "cell_type": "code",
   "execution_count": 51,
   "id": "ff5f8867",
   "metadata": {},
   "outputs": [
    {
     "data": {
      "text/html": [
       "<div>\n",
       "<style scoped>\n",
       "    .dataframe tbody tr th:only-of-type {\n",
       "        vertical-align: middle;\n",
       "    }\n",
       "\n",
       "    .dataframe tbody tr th {\n",
       "        vertical-align: top;\n",
       "    }\n",
       "\n",
       "    .dataframe thead th {\n",
       "        text-align: right;\n",
       "    }\n",
       "</style>\n",
       "<table border=\"1\" class=\"dataframe\">\n",
       "  <thead>\n",
       "    <tr style=\"text-align: right;\">\n",
       "      <th></th>\n",
       "      <th>Item_Weight</th>\n",
       "      <th>Item_Fat_Content</th>\n",
       "      <th>Item_Visibility</th>\n",
       "      <th>Item_Type</th>\n",
       "      <th>Item_MRP</th>\n",
       "      <th>Outlet_Establishment_Year</th>\n",
       "      <th>Outlet_Size</th>\n",
       "      <th>Outlet_Location_Type</th>\n",
       "      <th>Outlet_Type</th>\n",
       "    </tr>\n",
       "  </thead>\n",
       "  <tbody>\n",
       "    <tr>\n",
       "      <th>5676</th>\n",
       "      <td>10.5</td>\n",
       "      <td>1</td>\n",
       "      <td>0.013496</td>\n",
       "      <td>13</td>\n",
       "      <td>141.3154</td>\n",
       "      <td>1997</td>\n",
       "      <td>2</td>\n",
       "      <td>0</td>\n",
       "      <td>1</td>\n",
       "    </tr>\n",
       "    <tr>\n",
       "      <th>5677</th>\n",
       "      <td>7.6</td>\n",
       "      <td>1</td>\n",
       "      <td>0.142991</td>\n",
       "      <td>15</td>\n",
       "      <td>169.1448</td>\n",
       "      <td>2009</td>\n",
       "      <td>1</td>\n",
       "      <td>2</td>\n",
       "      <td>2</td>\n",
       "    </tr>\n",
       "    <tr>\n",
       "      <th>5678</th>\n",
       "      <td>10.0</td>\n",
       "      <td>0</td>\n",
       "      <td>0.073529</td>\n",
       "      <td>8</td>\n",
       "      <td>118.7440</td>\n",
       "      <td>2002</td>\n",
       "      <td>1</td>\n",
       "      <td>1</td>\n",
       "      <td>1</td>\n",
       "    </tr>\n",
       "    <tr>\n",
       "      <th>5679</th>\n",
       "      <td>15.3</td>\n",
       "      <td>1</td>\n",
       "      <td>0.000000</td>\n",
       "      <td>3</td>\n",
       "      <td>214.6218</td>\n",
       "      <td>2007</td>\n",
       "      <td>1</td>\n",
       "      <td>1</td>\n",
       "      <td>1</td>\n",
       "    </tr>\n",
       "    <tr>\n",
       "      <th>5680</th>\n",
       "      <td>9.5</td>\n",
       "      <td>1</td>\n",
       "      <td>0.104720</td>\n",
       "      <td>3</td>\n",
       "      <td>79.7960</td>\n",
       "      <td>2002</td>\n",
       "      <td>1</td>\n",
       "      <td>1</td>\n",
       "      <td>1</td>\n",
       "    </tr>\n",
       "  </tbody>\n",
       "</table>\n",
       "</div>"
      ],
      "text/plain": [
       "      Item_Weight  Item_Fat_Content  Item_Visibility  Item_Type  Item_MRP  \\\n",
       "5676         10.5                 1         0.013496         13  141.3154   \n",
       "5677          7.6                 1         0.142991         15  169.1448   \n",
       "5678         10.0                 0         0.073529          8  118.7440   \n",
       "5679         15.3                 1         0.000000          3  214.6218   \n",
       "5680          9.5                 1         0.104720          3   79.7960   \n",
       "\n",
       "      Outlet_Establishment_Year  Outlet_Size  Outlet_Location_Type  \\\n",
       "5676                       1997            2                     0   \n",
       "5677                       2009            1                     2   \n",
       "5678                       2002            1                     1   \n",
       "5679                       2007            1                     1   \n",
       "5680                       2002            1                     1   \n",
       "\n",
       "      Outlet_Type  \n",
       "5676            1  \n",
       "5677            2  \n",
       "5678            1  \n",
       "5679            1  \n",
       "5680            1  "
      ]
     },
     "execution_count": 51,
     "metadata": {},
     "output_type": "execute_result"
    }
   ],
   "source": [
    "Big_Test.tail()"
   ]
  },
  {
   "cell_type": "code",
   "execution_count": 52,
   "id": "e46eb5b9",
   "metadata": {},
   "outputs": [
    {
     "data": {
      "image/png": "[encoded data removed]",
      "text/plain": [
       "<Figure size 1440x720 with 2 Axes>"
      ]
     },
     "metadata": {
      "needs_background": "light"
     },
     "output_type": "display_data"
    }
   ],
   "source": [
    "Corr_train = Big_Train.corr()\n",
    "Corr_train\n",
    "\n",
    "plt.figure(figsize=(20,10))\n",
    "sns.heatmap(Corr_train,annot=True,linecolor='black')\n",
    "plt.title('Corelation Matrix :Train DataSet');"
   ]
  },
  {
   "cell_type": "code",
   "execution_count": 53,
   "id": "9550fa52",
   "metadata": {},
   "outputs": [
    {
     "data": {
      "image/png": "[encoded data removed]",
      "text/plain": [
       "<Figure size 1440x1800 with 9 Axes>"
      ]
     },
     "metadata": {},
     "output_type": "display_data"
    }
   ],
   "source": [
    "plt.figure(figsize=(20,25),facecolor=\"White\")\n",
    "plotnumber = 1\n",
    "\n",
    "for column in Big_Train:\n",
    "    if plotnumber<10:\n",
    "        ax=plt.subplot(3,4,plotnumber)\n",
    "        sns.distplot(Big_Train[column])\n",
    "        plt.xlabel(column,fontsize=20)\n",
    "    plotnumber+=1;"
   ]
  },
  {
   "cell_type": "code",
   "execution_count": 54,
   "id": "56ddcaf8",
   "metadata": {},
   "outputs": [
    {
     "data": {
      "text/plain": [
       "Outlet_Establishment_Year   -0.396641\n",
       "Outlet_Location_Type        -0.209093\n",
       "Outlet_Size                 -0.087072\n",
       "Item_Weight                  0.090561\n",
       "Item_Type                    0.101655\n",
       "Item_MRP                     0.127202\n",
       "Item_Fat_Content             0.616705\n",
       "Outlet_Type                  0.927438\n",
       "Item_Visibility              1.167091\n",
       "Item_Outlet_Sales            1.177531\n",
       "dtype: float64"
      ]
     },
     "execution_count": 54,
     "metadata": {},
     "output_type": "execute_result"
    }
   ],
   "source": [
    "Big_Train.skew().sort_values()"
   ]
  },
  {
   "cell_type": "code",
   "execution_count": 55,
   "id": "df88ac9b",
   "metadata": {},
   "outputs": [],
   "source": [
    "X_new = power_transform(Big_Train)\n",
    "Big_Train  = pd.DataFrame(X_new,columns=Big_Train.columns)"
   ]
  },
  {
   "cell_type": "code",
   "execution_count": 56,
   "id": "1e85c3ed",
   "metadata": {},
   "outputs": [
    {
     "data": {
      "text/plain": [
       "Item_Fat_Content             0.616705\n",
       "Item_Visibility              0.124279\n",
       "Outlet_Type                  0.007863\n",
       "Outlet_Size                 -0.042980\n",
       "Item_Weight                 -0.068024\n",
       "Item_Outlet_Sales           -0.074791\n",
       "Item_MRP                    -0.115386\n",
       "Item_Type                   -0.164574\n",
       "Outlet_Establishment_Year   -0.200959\n",
       "Outlet_Location_Type        -0.220632\n",
       "dtype: float64"
      ]
     },
     "execution_count": 56,
     "metadata": {},
     "output_type": "execute_result"
    }
   ],
   "source": [
    "Big_Train.skew().sort_values(ascending=False)"
   ]
  },
  {
   "cell_type": "code",
   "execution_count": 57,
   "id": "c33b6e47",
   "metadata": {},
   "outputs": [
    {
     "data": {
      "text/plain": [
       "True"
      ]
     },
     "execution_count": 57,
     "metadata": {},
     "output_type": "execute_result"
    }
   ],
   "source": [
    "Big_Train.skew()[np.abs(Big_Train.skew()<0.25)].all()"
   ]
  },
  {
   "cell_type": "code",
   "execution_count": 58,
   "id": "c160321c",
   "metadata": {},
   "outputs": [
    {
     "data": {
      "text/plain": [
       "Item_Visibility              1.238312\n",
       "Outlet_Type                  0.927446\n",
       "Item_Fat_Content             0.855562\n",
       "Item_Weight                  0.142813\n",
       "Item_MRP                     0.136182\n",
       "Item_Type                    0.096486\n",
       "Outlet_Size                 -0.087108\n",
       "Outlet_Location_Type        -0.209049\n",
       "Outlet_Establishment_Year   -0.396306\n",
       "dtype: float64"
      ]
     },
     "execution_count": 58,
     "metadata": {},
     "output_type": "execute_result"
    }
   ],
   "source": [
    "Big_Test.skew().sort_values(ascending=False)"
   ]
  },
  {
   "cell_type": "code",
   "execution_count": 59,
   "id": "d3a0974f",
   "metadata": {},
   "outputs": [
    {
     "data": {
      "text/plain": [
       "Item_Visibility              1.238312\n",
       "Outlet_Type                  0.927446\n",
       "Item_Fat_Content             0.855562\n",
       "Item_Weight                  0.142813\n",
       "Item_MRP                     0.136182\n",
       "Item_Type                    0.096486\n",
       "Outlet_Size                 -0.087108\n",
       "Outlet_Location_Type        -0.209049\n",
       "Outlet_Establishment_Year   -0.396306\n",
       "dtype: float64"
      ]
     },
     "execution_count": 59,
     "metadata": {},
     "output_type": "execute_result"
    }
   ],
   "source": [
    "Big_Test.skew().sort_values(ascending=False)"
   ]
  },
  {
   "cell_type": "code",
   "execution_count": 60,
   "id": "7e85c747",
   "metadata": {},
   "outputs": [
    {
     "data": {
      "text/plain": [
       "True"
      ]
     },
     "execution_count": 60,
     "metadata": {},
     "output_type": "execute_result"
    }
   ],
   "source": [
    "Big_Test.skew()[np.abs(Big_Test.skew())<0.25].all()"
   ]
  },
  {
   "cell_type": "code",
   "execution_count": 61,
   "id": "f33bfc35",
   "metadata": {},
   "outputs": [
    {
     "data": {
      "image/png": "[encoded data removed]",
      "text/plain": [
       "<Figure size 1080x720 with 10 Axes>"
      ]
     },
     "metadata": {
      "needs_background": "light"
     },
     "output_type": "display_data"
    }
   ],
   "source": [
    "plt.figure(figsize=(15,10))\n",
    "graph = 1\n",
    "\n",
    "for column in Big_Train:\n",
    "    if graph<=10:\n",
    "        ax=plt.subplot(3,4,graph)\n",
    "        sns.boxplot(Big_Train[column])\n",
    "        plt.xlabel(column,fontsize = 10)\n",
    "    graph+=1;"
   ]
  },
  {
   "cell_type": "code",
   "execution_count": 62,
   "id": "6c160924",
   "metadata": {},
   "outputs": [
    {
     "data": {
      "text/plain": [
       "Item_Weight                  True\n",
       "Item_Fat_Content             True\n",
       "Item_Visibility              True\n",
       "Item_Type                    True\n",
       "Item_MRP                     True\n",
       "Outlet_Establishment_Year    True\n",
       "Outlet_Size                  True\n",
       "Outlet_Location_Type         True\n",
       "Outlet_Type                  True\n",
       "Item_Outlet_Sales            True\n",
       "dtype: bool"
      ]
     },
     "execution_count": 62,
     "metadata": {},
     "output_type": "execute_result"
    }
   ],
   "source": [
    "from scipy.stats import zscore\n",
    "(np.abs(zscore(Big_Train))<5).all()"
   ]
  },
  {
   "cell_type": "code",
   "execution_count": 63,
   "id": "5d0e76b2",
   "metadata": {},
   "outputs": [],
   "source": [
    "Item = Big_Train[['Outlet_Type']]"
   ]
  },
  {
   "cell_type": "code",
   "execution_count": 64,
   "id": "5447184c",
   "metadata": {},
   "outputs": [
    {
     "data": {
      "text/html": [
       "<div>\n",
       "<style scoped>\n",
       "    .dataframe tbody tr th:only-of-type {\n",
       "        vertical-align: middle;\n",
       "    }\n",
       "\n",
       "    .dataframe tbody tr th {\n",
       "        vertical-align: top;\n",
       "    }\n",
       "\n",
       "    .dataframe thead th {\n",
       "        text-align: right;\n",
       "    }\n",
       "</style>\n",
       "<table border=\"1\" class=\"dataframe\">\n",
       "  <thead>\n",
       "    <tr style=\"text-align: right;\">\n",
       "      <th></th>\n",
       "      <th>Outlet_Type</th>\n",
       "    </tr>\n",
       "  </thead>\n",
       "  <tbody>\n",
       "    <tr>\n",
       "      <th>0</th>\n",
       "      <td>0.123488</td>\n",
       "    </tr>\n",
       "    <tr>\n",
       "      <th>1</th>\n",
       "      <td>1.040591</td>\n",
       "    </tr>\n",
       "    <tr>\n",
       "      <th>2</th>\n",
       "      <td>0.123488</td>\n",
       "    </tr>\n",
       "    <tr>\n",
       "      <th>3</th>\n",
       "      <td>1.915952</td>\n",
       "    </tr>\n",
       "    <tr>\n",
       "      <th>4</th>\n",
       "      <td>0.123488</td>\n",
       "    </tr>\n",
       "    <tr>\n",
       "      <th>...</th>\n",
       "      <td>...</td>\n",
       "    </tr>\n",
       "    <tr>\n",
       "      <th>8518</th>\n",
       "      <td>0.123488</td>\n",
       "    </tr>\n",
       "    <tr>\n",
       "      <th>8519</th>\n",
       "      <td>0.123488</td>\n",
       "    </tr>\n",
       "    <tr>\n",
       "      <th>8520</th>\n",
       "      <td>0.123488</td>\n",
       "    </tr>\n",
       "    <tr>\n",
       "      <th>8521</th>\n",
       "      <td>1.040591</td>\n",
       "    </tr>\n",
       "    <tr>\n",
       "      <th>8522</th>\n",
       "      <td>0.123488</td>\n",
       "    </tr>\n",
       "  </tbody>\n",
       "</table>\n",
       "<p>8523 rows × 1 columns</p>\n",
       "</div>"
      ],
      "text/plain": [
       "      Outlet_Type\n",
       "0        0.123488\n",
       "1        1.040591\n",
       "2        0.123488\n",
       "3        1.915952\n",
       "4        0.123488\n",
       "...           ...\n",
       "8518     0.123488\n",
       "8519     0.123488\n",
       "8520     0.123488\n",
       "8521     1.040591\n",
       "8522     0.123488\n",
       "\n",
       "[8523 rows x 1 columns]"
      ]
     },
     "execution_count": 64,
     "metadata": {},
     "output_type": "execute_result"
    }
   ],
   "source": [
    "z=np.abs(zscore(Item))\n",
    "z"
   ]
  },
  {
   "cell_type": "code",
   "execution_count": 65,
   "id": "34a2f1c2",
   "metadata": {},
   "outputs": [
    {
     "data": {
      "text/html": [
       "<div>\n",
       "<style scoped>\n",
       "    .dataframe tbody tr th:only-of-type {\n",
       "        vertical-align: middle;\n",
       "    }\n",
       "\n",
       "    .dataframe tbody tr th {\n",
       "        vertical-align: top;\n",
       "    }\n",
       "\n",
       "    .dataframe thead th {\n",
       "        text-align: right;\n",
       "    }\n",
       "</style>\n",
       "<table border=\"1\" class=\"dataframe\">\n",
       "  <thead>\n",
       "    <tr style=\"text-align: right;\">\n",
       "      <th></th>\n",
       "      <th>Item_Weight</th>\n",
       "      <th>Item_Fat_Content</th>\n",
       "      <th>Item_Visibility</th>\n",
       "      <th>Item_Type</th>\n",
       "      <th>Item_MRP</th>\n",
       "      <th>Outlet_Establishment_Year</th>\n",
       "      <th>Outlet_Size</th>\n",
       "      <th>Outlet_Location_Type</th>\n",
       "      <th>Outlet_Type</th>\n",
       "      <th>Item_Outlet_Sales</th>\n",
       "    </tr>\n",
       "  </thead>\n",
       "  <tbody>\n",
       "    <tr>\n",
       "      <th>0</th>\n",
       "      <td>-0.822636</td>\n",
       "      <td>-0.738147</td>\n",
       "      <td>-1.146886</td>\n",
       "      <td>-0.712347</td>\n",
       "      <td>1.623670</td>\n",
       "      <td>0.048562</td>\n",
       "      <td>-0.293295</td>\n",
       "      <td>-1.373843</td>\n",
       "      <td>-0.123488</td>\n",
       "      <td>0.985078</td>\n",
       "    </tr>\n",
       "    <tr>\n",
       "      <th>1</th>\n",
       "      <td>-1.733801</td>\n",
       "      <td>1.354743</td>\n",
       "      <td>-1.037100</td>\n",
       "      <td>1.504660</td>\n",
       "      <td>-1.595016</td>\n",
       "      <td>1.461925</td>\n",
       "      <td>-0.293295</td>\n",
       "      <td>1.088324</td>\n",
       "      <td>1.040591</td>\n",
       "      <td>-1.218135</td>\n",
       "    </tr>\n",
       "    <tr>\n",
       "      <th>2</th>\n",
       "      <td>1.086362</td>\n",
       "      <td>-0.738147</td>\n",
       "      <td>-1.122375</td>\n",
       "      <td>0.684390</td>\n",
       "      <td>0.081237</td>\n",
       "      <td>0.048562</td>\n",
       "      <td>-0.293295</td>\n",
       "      <td>-1.373843</td>\n",
       "      <td>-0.123488</td>\n",
       "      <td>0.220360</td>\n",
       "    </tr>\n",
       "    <tr>\n",
       "      <th>3</th>\n",
       "      <td>1.447728</td>\n",
       "      <td>1.354743</td>\n",
       "      <td>-1.745551</td>\n",
       "      <td>-0.215420</td>\n",
       "      <td>0.689968</td>\n",
       "      <td>-0.075796</td>\n",
       "      <td>-0.293295</td>\n",
       "      <td>1.088324</td>\n",
       "      <td>-1.915952</td>\n",
       "      <td>-0.835183</td>\n",
       "    </tr>\n",
       "    <tr>\n",
       "      <th>4</th>\n",
       "      <td>-0.917588</td>\n",
       "      <td>-0.738147</td>\n",
       "      <td>-1.745551</td>\n",
       "      <td>0.468410</td>\n",
       "      <td>-1.476078</td>\n",
       "      <td>-1.270835</td>\n",
       "      <td>-1.925925</td>\n",
       "      <td>1.088324</td>\n",
       "      <td>-0.123488</td>\n",
       "      <td>-0.566616</td>\n",
       "    </tr>\n",
       "    <tr>\n",
       "      <th>...</th>\n",
       "      <td>...</td>\n",
       "      <td>...</td>\n",
       "      <td>...</td>\n",
       "      <td>...</td>\n",
       "      <td>...</td>\n",
       "      <td>...</td>\n",
       "      <td>...</td>\n",
       "      <td>...</td>\n",
       "      <td>...</td>\n",
       "      <td>...</td>\n",
       "    </tr>\n",
       "    <tr>\n",
       "      <th>8518</th>\n",
       "      <td>-1.468096</td>\n",
       "      <td>-0.738147</td>\n",
       "      <td>0.020310</td>\n",
       "      <td>1.305304</td>\n",
       "      <td>1.148258</td>\n",
       "      <td>-1.270835</td>\n",
       "      <td>-1.925925</td>\n",
       "      <td>1.088324</td>\n",
       "      <td>-0.123488</td>\n",
       "      <td>0.573946</td>\n",
       "    </tr>\n",
       "    <tr>\n",
       "      <th>8519</th>\n",
       "      <td>-1.060659</td>\n",
       "      <td>1.354743</td>\n",
       "      <td>-0.221388</td>\n",
       "      <td>-1.923750</td>\n",
       "      <td>-0.463127</td>\n",
       "      <td>0.439191</td>\n",
       "      <td>-0.293295</td>\n",
       "      <td>-0.131113</td>\n",
       "      <td>-0.123488</td>\n",
       "      <td>-1.062855</td>\n",
       "    </tr>\n",
       "    <tr>\n",
       "      <th>8520</th>\n",
       "      <td>-0.496556</td>\n",
       "      <td>-0.738147</td>\n",
       "      <td>-0.542979</td>\n",
       "      <td>0.246996</td>\n",
       "      <td>-0.867930</td>\n",
       "      <td>0.714912</td>\n",
       "      <td>1.390694</td>\n",
       "      <td>-0.131113</td>\n",
       "      <td>-0.123488</td>\n",
       "      <td>-0.393044</td>\n",
       "    </tr>\n",
       "    <tr>\n",
       "      <th>8521</th>\n",
       "      <td>-1.373443</td>\n",
       "      <td>1.354743</td>\n",
       "      <td>1.459990</td>\n",
       "      <td>1.305304</td>\n",
       "      <td>-0.548996</td>\n",
       "      <td>1.461925</td>\n",
       "      <td>-0.293295</td>\n",
       "      <td>1.088324</td>\n",
       "      <td>1.040591</td>\n",
       "      <td>0.070669</td>\n",
       "    </tr>\n",
       "    <tr>\n",
       "      <th>8522</th>\n",
       "      <td>0.491786</td>\n",
       "      <td>-0.738147</td>\n",
       "      <td>-0.276195</td>\n",
       "      <td>1.504660</td>\n",
       "      <td>-1.047227</td>\n",
       "      <td>-0.197336</td>\n",
       "      <td>1.390694</td>\n",
       "      <td>-1.373843</td>\n",
       "      <td>-0.123488</td>\n",
       "      <td>-0.797934</td>\n",
       "    </tr>\n",
       "  </tbody>\n",
       "</table>\n",
       "<p>8523 rows × 10 columns</p>\n",
       "</div>"
      ],
      "text/plain": [
       "      Item_Weight  Item_Fat_Content  Item_Visibility  Item_Type  Item_MRP  \\\n",
       "0       -0.822636         -0.738147        -1.146886  -0.712347  1.623670   \n",
       "1       -1.733801          1.354743        -1.037100   1.504660 -1.595016   \n",
       "2        1.086362         -0.738147        -1.122375   0.684390  0.081237   \n",
       "3        1.447728          1.354743        -1.745551  -0.215420  0.689968   \n",
       "4       -0.917588         -0.738147        -1.745551   0.468410 -1.476078   \n",
       "...           ...               ...              ...        ...       ...   \n",
       "8518    -1.468096         -0.738147         0.020310   1.305304  1.148258   \n",
       "8519    -1.060659          1.354743        -0.221388  -1.923750 -0.463127   \n",
       "8520    -0.496556         -0.738147        -0.542979   0.246996 -0.867930   \n",
       "8521    -1.373443          1.354743         1.459990   1.305304 -0.548996   \n",
       "8522     0.491786         -0.738147        -0.276195   1.504660 -1.047227   \n",
       "\n",
       "      Outlet_Establishment_Year  Outlet_Size  Outlet_Location_Type  \\\n",
       "0                      0.048562    -0.293295             -1.373843   \n",
       "1                      1.461925    -0.293295              1.088324   \n",
       "2                      0.048562    -0.293295             -1.373843   \n",
       "3                     -0.075796    -0.293295              1.088324   \n",
       "4                     -1.270835    -1.925925              1.088324   \n",
       "...                         ...          ...                   ...   \n",
       "8518                  -1.270835    -1.925925              1.088324   \n",
       "8519                   0.439191    -0.293295             -0.131113   \n",
       "8520                   0.714912     1.390694             -0.131113   \n",
       "8521                   1.461925    -0.293295              1.088324   \n",
       "8522                  -0.197336     1.390694             -1.373843   \n",
       "\n",
       "      Outlet_Type  Item_Outlet_Sales  \n",
       "0       -0.123488           0.985078  \n",
       "1        1.040591          -1.218135  \n",
       "2       -0.123488           0.220360  \n",
       "3       -1.915952          -0.835183  \n",
       "4       -0.123488          -0.566616  \n",
       "...           ...                ...  \n",
       "8518    -0.123488           0.573946  \n",
       "8519    -0.123488          -1.062855  \n",
       "8520    -0.123488          -0.393044  \n",
       "8521     1.040591           0.070669  \n",
       "8522    -0.123488          -0.797934  \n",
       "\n",
       "[8523 rows x 10 columns]"
      ]
     },
     "execution_count": 65,
     "metadata": {},
     "output_type": "execute_result"
    }
   ],
   "source": [
    "New_data = Big_Train[(z<3).all(axis=1)]\n",
    "New_data"
   ]
  },
  {
   "cell_type": "code",
   "execution_count": 66,
   "id": "bf2c327f",
   "metadata": {},
   "outputs": [
    {
     "data": {
      "text/plain": [
       "(8523, 10)"
      ]
     },
     "execution_count": 66,
     "metadata": {},
     "output_type": "execute_result"
    }
   ],
   "source": [
    "Big_Train.shape"
   ]
  },
  {
   "cell_type": "code",
   "execution_count": 67,
   "id": "f07c50e0",
   "metadata": {},
   "outputs": [
    {
     "data": {
      "image/png": "[encoded data removed]",
      "text/plain": [
       "<Figure size 1080x720 with 9 Axes>"
      ]
     },
     "metadata": {
      "needs_background": "light"
     },
     "output_type": "display_data"
    }
   ],
   "source": [
    "plt.figure(figsize=(15,10))\n",
    "graph = 1\n",
    "\n",
    "for column in Big_Train:\n",
    "    if graph<=9:\n",
    "        ax=plt.subplot(3,3,graph)\n",
    "        sns.boxplot(Big_Train[column],orient=\"v\")\n",
    "        plt.xlabel(column,fontsize=10)\n",
    "    graph+=1;"
   ]
  },
  {
   "cell_type": "code",
   "execution_count": 68,
   "id": "8d97ffff",
   "metadata": {},
   "outputs": [
    {
     "data": {
      "text/html": [
       "<div>\n",
       "<style scoped>\n",
       "    .dataframe tbody tr th:only-of-type {\n",
       "        vertical-align: middle;\n",
       "    }\n",
       "\n",
       "    .dataframe tbody tr th {\n",
       "        vertical-align: top;\n",
       "    }\n",
       "\n",
       "    .dataframe thead th {\n",
       "        text-align: right;\n",
       "    }\n",
       "</style>\n",
       "<table border=\"1\" class=\"dataframe\">\n",
       "  <thead>\n",
       "    <tr style=\"text-align: right;\">\n",
       "      <th></th>\n",
       "      <th>Item_Weight</th>\n",
       "      <th>Item_Fat_Content</th>\n",
       "      <th>Item_Visibility</th>\n",
       "      <th>Item_Type</th>\n",
       "      <th>Item_MRP</th>\n",
       "      <th>Outlet_Establishment_Year</th>\n",
       "      <th>Outlet_Size</th>\n",
       "      <th>Outlet_Location_Type</th>\n",
       "      <th>Outlet_Type</th>\n",
       "    </tr>\n",
       "  </thead>\n",
       "  <tbody>\n",
       "    <tr>\n",
       "      <th>0</th>\n",
       "      <td>20.750000</td>\n",
       "      <td>0</td>\n",
       "      <td>0.007565</td>\n",
       "      <td>13</td>\n",
       "      <td>107.8622</td>\n",
       "      <td>1999</td>\n",
       "      <td>1</td>\n",
       "      <td>0</td>\n",
       "      <td>1</td>\n",
       "    </tr>\n",
       "    <tr>\n",
       "      <th>1</th>\n",
       "      <td>8.300000</td>\n",
       "      <td>2</td>\n",
       "      <td>0.038428</td>\n",
       "      <td>4</td>\n",
       "      <td>87.3198</td>\n",
       "      <td>2007</td>\n",
       "      <td>1</td>\n",
       "      <td>1</td>\n",
       "      <td>1</td>\n",
       "    </tr>\n",
       "    <tr>\n",
       "      <th>2</th>\n",
       "      <td>14.600000</td>\n",
       "      <td>0</td>\n",
       "      <td>0.099575</td>\n",
       "      <td>11</td>\n",
       "      <td>241.7538</td>\n",
       "      <td>1998</td>\n",
       "      <td>1</td>\n",
       "      <td>2</td>\n",
       "      <td>0</td>\n",
       "    </tr>\n",
       "    <tr>\n",
       "      <th>3</th>\n",
       "      <td>7.315000</td>\n",
       "      <td>0</td>\n",
       "      <td>0.015388</td>\n",
       "      <td>13</td>\n",
       "      <td>155.0340</td>\n",
       "      <td>2007</td>\n",
       "      <td>1</td>\n",
       "      <td>1</td>\n",
       "      <td>1</td>\n",
       "    </tr>\n",
       "    <tr>\n",
       "      <th>4</th>\n",
       "      <td>12.695633</td>\n",
       "      <td>1</td>\n",
       "      <td>0.118599</td>\n",
       "      <td>4</td>\n",
       "      <td>234.2300</td>\n",
       "      <td>1985</td>\n",
       "      <td>1</td>\n",
       "      <td>2</td>\n",
       "      <td>3</td>\n",
       "    </tr>\n",
       "    <tr>\n",
       "      <th>...</th>\n",
       "      <td>...</td>\n",
       "      <td>...</td>\n",
       "      <td>...</td>\n",
       "      <td>...</td>\n",
       "      <td>...</td>\n",
       "      <td>...</td>\n",
       "      <td>...</td>\n",
       "      <td>...</td>\n",
       "      <td>...</td>\n",
       "    </tr>\n",
       "    <tr>\n",
       "      <th>5676</th>\n",
       "      <td>10.500000</td>\n",
       "      <td>1</td>\n",
       "      <td>0.013496</td>\n",
       "      <td>13</td>\n",
       "      <td>141.3154</td>\n",
       "      <td>1997</td>\n",
       "      <td>2</td>\n",
       "      <td>0</td>\n",
       "      <td>1</td>\n",
       "    </tr>\n",
       "    <tr>\n",
       "      <th>5677</th>\n",
       "      <td>7.600000</td>\n",
       "      <td>1</td>\n",
       "      <td>0.142991</td>\n",
       "      <td>15</td>\n",
       "      <td>169.1448</td>\n",
       "      <td>2009</td>\n",
       "      <td>1</td>\n",
       "      <td>2</td>\n",
       "      <td>2</td>\n",
       "    </tr>\n",
       "    <tr>\n",
       "      <th>5678</th>\n",
       "      <td>10.000000</td>\n",
       "      <td>0</td>\n",
       "      <td>0.073529</td>\n",
       "      <td>8</td>\n",
       "      <td>118.7440</td>\n",
       "      <td>2002</td>\n",
       "      <td>1</td>\n",
       "      <td>1</td>\n",
       "      <td>1</td>\n",
       "    </tr>\n",
       "    <tr>\n",
       "      <th>5679</th>\n",
       "      <td>15.300000</td>\n",
       "      <td>1</td>\n",
       "      <td>0.000000</td>\n",
       "      <td>3</td>\n",
       "      <td>214.6218</td>\n",
       "      <td>2007</td>\n",
       "      <td>1</td>\n",
       "      <td>1</td>\n",
       "      <td>1</td>\n",
       "    </tr>\n",
       "    <tr>\n",
       "      <th>5680</th>\n",
       "      <td>9.500000</td>\n",
       "      <td>1</td>\n",
       "      <td>0.104720</td>\n",
       "      <td>3</td>\n",
       "      <td>79.7960</td>\n",
       "      <td>2002</td>\n",
       "      <td>1</td>\n",
       "      <td>1</td>\n",
       "      <td>1</td>\n",
       "    </tr>\n",
       "  </tbody>\n",
       "</table>\n",
       "<p>5681 rows × 9 columns</p>\n",
       "</div>"
      ],
      "text/plain": [
       "      Item_Weight  Item_Fat_Content  Item_Visibility  Item_Type  Item_MRP  \\\n",
       "0       20.750000                 0         0.007565         13  107.8622   \n",
       "1        8.300000                 2         0.038428          4   87.3198   \n",
       "2       14.600000                 0         0.099575         11  241.7538   \n",
       "3        7.315000                 0         0.015388         13  155.0340   \n",
       "4       12.695633                 1         0.118599          4  234.2300   \n",
       "...           ...               ...              ...        ...       ...   \n",
       "5676    10.500000                 1         0.013496         13  141.3154   \n",
       "5677     7.600000                 1         0.142991         15  169.1448   \n",
       "5678    10.000000                 0         0.073529          8  118.7440   \n",
       "5679    15.300000                 1         0.000000          3  214.6218   \n",
       "5680     9.500000                 1         0.104720          3   79.7960   \n",
       "\n",
       "      Outlet_Establishment_Year  Outlet_Size  Outlet_Location_Type  \\\n",
       "0                          1999            1                     0   \n",
       "1                          2007            1                     1   \n",
       "2                          1998            1                     2   \n",
       "3                          2007            1                     1   \n",
       "4                          1985            1                     2   \n",
       "...                         ...          ...                   ...   \n",
       "5676                       1997            2                     0   \n",
       "5677                       2009            1                     2   \n",
       "5678                       2002            1                     1   \n",
       "5679                       2007            1                     1   \n",
       "5680                       2002            1                     1   \n",
       "\n",
       "      Outlet_Type  \n",
       "0               1  \n",
       "1               1  \n",
       "2               0  \n",
       "3               1  \n",
       "4               3  \n",
       "...           ...  \n",
       "5676            1  \n",
       "5677            2  \n",
       "5678            1  \n",
       "5679            1  \n",
       "5680            1  \n",
       "\n",
       "[5681 rows x 9 columns]"
      ]
     },
     "execution_count": 68,
     "metadata": {},
     "output_type": "execute_result"
    }
   ],
   "source": [
    "z=np.abs(zscore(Big_Test[[\"Outlet_Type\"]]))\n",
    "New_Data = Big_Test[(z<3).all(axis=1)]\n",
    "New_Data"
   ]
  },
  {
   "cell_type": "code",
   "execution_count": 69,
   "id": "dd40edad",
   "metadata": {},
   "outputs": [
    {
     "data": {
      "text/plain": [
       "Item_Weight                   True\n",
       "Item_Fat_Content              True\n",
       "Item_Visibility              False\n",
       "Item_Type                     True\n",
       "Item_MRP                      True\n",
       "Outlet_Establishment_Year     True\n",
       "Outlet_Size                   True\n",
       "Outlet_Location_Type          True\n",
       "Outlet_Type                   True\n",
       "dtype: bool"
      ]
     },
     "execution_count": 69,
     "metadata": {},
     "output_type": "execute_result"
    }
   ],
   "source": [
    "(np.abs(zscore(Big_Test))<5).all()"
   ]
  },
  {
   "cell_type": "code",
   "execution_count": 70,
   "id": "048c83a8",
   "metadata": {},
   "outputs": [],
   "source": [
    "X=New_data.drop('Item_Outlet_Sales',axis=1)\n",
    "Y=New_data['Item_Outlet_Sales']"
   ]
  },
  {
   "cell_type": "code",
   "execution_count": 71,
   "id": "f1be0328",
   "metadata": {},
   "outputs": [
    {
     "data": {
      "text/html": [
       "<div>\n",
       "<style scoped>\n",
       "    .dataframe tbody tr th:only-of-type {\n",
       "        vertical-align: middle;\n",
       "    }\n",
       "\n",
       "    .dataframe tbody tr th {\n",
       "        vertical-align: top;\n",
       "    }\n",
       "\n",
       "    .dataframe thead th {\n",
       "        text-align: right;\n",
       "    }\n",
       "</style>\n",
       "<table border=\"1\" class=\"dataframe\">\n",
       "  <thead>\n",
       "    <tr style=\"text-align: right;\">\n",
       "      <th></th>\n",
       "      <th>Item_Weight</th>\n",
       "      <th>Item_Fat_Content</th>\n",
       "      <th>Item_Visibility</th>\n",
       "      <th>Item_Type</th>\n",
       "      <th>Item_MRP</th>\n",
       "      <th>Outlet_Establishment_Year</th>\n",
       "      <th>Outlet_Size</th>\n",
       "      <th>Outlet_Location_Type</th>\n",
       "      <th>Outlet_Type</th>\n",
       "    </tr>\n",
       "  </thead>\n",
       "  <tbody>\n",
       "    <tr>\n",
       "      <th>0</th>\n",
       "      <td>-0.822636</td>\n",
       "      <td>-0.738147</td>\n",
       "      <td>-1.146886</td>\n",
       "      <td>-0.712347</td>\n",
       "      <td>1.623670</td>\n",
       "      <td>0.048562</td>\n",
       "      <td>-0.293295</td>\n",
       "      <td>-1.373843</td>\n",
       "      <td>-0.123488</td>\n",
       "    </tr>\n",
       "    <tr>\n",
       "      <th>1</th>\n",
       "      <td>-1.733801</td>\n",
       "      <td>1.354743</td>\n",
       "      <td>-1.037100</td>\n",
       "      <td>1.504660</td>\n",
       "      <td>-1.595016</td>\n",
       "      <td>1.461925</td>\n",
       "      <td>-0.293295</td>\n",
       "      <td>1.088324</td>\n",
       "      <td>1.040591</td>\n",
       "    </tr>\n",
       "    <tr>\n",
       "      <th>2</th>\n",
       "      <td>1.086362</td>\n",
       "      <td>-0.738147</td>\n",
       "      <td>-1.122375</td>\n",
       "      <td>0.684390</td>\n",
       "      <td>0.081237</td>\n",
       "      <td>0.048562</td>\n",
       "      <td>-0.293295</td>\n",
       "      <td>-1.373843</td>\n",
       "      <td>-0.123488</td>\n",
       "    </tr>\n",
       "    <tr>\n",
       "      <th>3</th>\n",
       "      <td>1.447728</td>\n",
       "      <td>1.354743</td>\n",
       "      <td>-1.745551</td>\n",
       "      <td>-0.215420</td>\n",
       "      <td>0.689968</td>\n",
       "      <td>-0.075796</td>\n",
       "      <td>-0.293295</td>\n",
       "      <td>1.088324</td>\n",
       "      <td>-1.915952</td>\n",
       "    </tr>\n",
       "    <tr>\n",
       "      <th>4</th>\n",
       "      <td>-0.917588</td>\n",
       "      <td>-0.738147</td>\n",
       "      <td>-1.745551</td>\n",
       "      <td>0.468410</td>\n",
       "      <td>-1.476078</td>\n",
       "      <td>-1.270835</td>\n",
       "      <td>-1.925925</td>\n",
       "      <td>1.088324</td>\n",
       "      <td>-0.123488</td>\n",
       "    </tr>\n",
       "  </tbody>\n",
       "</table>\n",
       "</div>"
      ],
      "text/plain": [
       "   Item_Weight  Item_Fat_Content  Item_Visibility  Item_Type  Item_MRP  \\\n",
       "0    -0.822636         -0.738147        -1.146886  -0.712347  1.623670   \n",
       "1    -1.733801          1.354743        -1.037100   1.504660 -1.595016   \n",
       "2     1.086362         -0.738147        -1.122375   0.684390  0.081237   \n",
       "3     1.447728          1.354743        -1.745551  -0.215420  0.689968   \n",
       "4    -0.917588         -0.738147        -1.745551   0.468410 -1.476078   \n",
       "\n",
       "   Outlet_Establishment_Year  Outlet_Size  Outlet_Location_Type  Outlet_Type  \n",
       "0                   0.048562    -0.293295             -1.373843    -0.123488  \n",
       "1                   1.461925    -0.293295              1.088324     1.040591  \n",
       "2                   0.048562    -0.293295             -1.373843    -0.123488  \n",
       "3                  -0.075796    -0.293295              1.088324    -1.915952  \n",
       "4                  -1.270835    -1.925925              1.088324    -0.123488  "
      ]
     },
     "execution_count": 71,
     "metadata": {},
     "output_type": "execute_result"
    }
   ],
   "source": [
    "X.head()"
   ]
  },
  {
   "cell_type": "code",
   "execution_count": 72,
   "id": "71bff596",
   "metadata": {},
   "outputs": [
    {
     "data": {
      "text/plain": [
       "-0.600439    17\n",
       "-0.274662    16\n",
       "-0.868889    15\n",
       " 0.070669    15\n",
       "-0.324287    14\n",
       "             ..\n",
       " 1.132581     1\n",
       " 1.910901     1\n",
       "-0.079005     1\n",
       " 1.621319     1\n",
       " 0.573946     1\n",
       "Name: Item_Outlet_Sales, Length: 3493, dtype: int64"
      ]
     },
     "execution_count": 72,
     "metadata": {},
     "output_type": "execute_result"
    }
   ],
   "source": [
    "Y.value_counts()"
   ]
  },
  {
   "cell_type": "code",
   "execution_count": 73,
   "id": "25799296",
   "metadata": {},
   "outputs": [
    {
     "data": {
      "image/png": "[encoded data removed]",
      "text/plain": [
       "<Figure size 1080x720 with 9 Axes>"
      ]
     },
     "metadata": {},
     "output_type": "display_data"
    }
   ],
   "source": [
    "plt.figure(figsize=(15,10),facecolor=\"white\")\n",
    "plotnumber=1\n",
    "\n",
    "for column in X:\n",
    "    if plotnumber<=10:\n",
    "        ax=plt.subplot(4,3,plotnumber)\n",
    "        sns.scatterplot(Y,X[column])\n",
    "    plotnumber+=1;"
   ]
  },
  {
   "cell_type": "code",
   "execution_count": 74,
   "id": "b7fb7a24",
   "metadata": {},
   "outputs": [
    {
     "data": {
      "text/html": [
       "<div>\n",
       "<style scoped>\n",
       "    .dataframe tbody tr th:only-of-type {\n",
       "        vertical-align: middle;\n",
       "    }\n",
       "\n",
       "    .dataframe tbody tr th {\n",
       "        vertical-align: top;\n",
       "    }\n",
       "\n",
       "    .dataframe thead th {\n",
       "        text-align: right;\n",
       "    }\n",
       "</style>\n",
       "<table border=\"1\" class=\"dataframe\">\n",
       "  <thead>\n",
       "    <tr style=\"text-align: right;\">\n",
       "      <th></th>\n",
       "      <th>Item_Weight</th>\n",
       "      <th>Item_Fat_Content</th>\n",
       "      <th>Item_Visibility</th>\n",
       "      <th>Item_Type</th>\n",
       "      <th>Item_MRP</th>\n",
       "      <th>Outlet_Establishment_Year</th>\n",
       "      <th>Outlet_Size</th>\n",
       "      <th>Outlet_Location_Type</th>\n",
       "      <th>Outlet_Type</th>\n",
       "    </tr>\n",
       "  </thead>\n",
       "  <tbody>\n",
       "    <tr>\n",
       "      <th>0</th>\n",
       "      <td>0.326234</td>\n",
       "      <td>0.0</td>\n",
       "      <td>0.141313</td>\n",
       "      <td>0.334227</td>\n",
       "      <td>0.941878</td>\n",
       "      <td>0.515867</td>\n",
       "      <td>0.492257</td>\n",
       "      <td>0.00000</td>\n",
       "      <td>0.466916</td>\n",
       "    </tr>\n",
       "    <tr>\n",
       "      <th>1</th>\n",
       "      <td>0.100114</td>\n",
       "      <td>1.0</td>\n",
       "      <td>0.167227</td>\n",
       "      <td>0.945900</td>\n",
       "      <td>0.101813</td>\n",
       "      <td>1.000000</td>\n",
       "      <td>0.492257</td>\n",
       "      <td>1.00000</td>\n",
       "      <td>0.770145</td>\n",
       "    </tr>\n",
       "    <tr>\n",
       "      <th>2</th>\n",
       "      <td>0.799982</td>\n",
       "      <td>0.0</td>\n",
       "      <td>0.147098</td>\n",
       "      <td>0.719587</td>\n",
       "      <td>0.539309</td>\n",
       "      <td>0.515867</td>\n",
       "      <td>0.492257</td>\n",
       "      <td>0.00000</td>\n",
       "      <td>0.466916</td>\n",
       "    </tr>\n",
       "    <tr>\n",
       "      <th>3</th>\n",
       "      <td>0.889661</td>\n",
       "      <td>1.0</td>\n",
       "      <td>0.000000</td>\n",
       "      <td>0.471329</td>\n",
       "      <td>0.698186</td>\n",
       "      <td>0.473269</td>\n",
       "      <td>0.492257</td>\n",
       "      <td>1.00000</td>\n",
       "      <td>0.000000</td>\n",
       "    </tr>\n",
       "    <tr>\n",
       "      <th>4</th>\n",
       "      <td>0.302670</td>\n",
       "      <td>0.0</td>\n",
       "      <td>0.000000</td>\n",
       "      <td>0.659998</td>\n",
       "      <td>0.132855</td>\n",
       "      <td>0.063921</td>\n",
       "      <td>0.000000</td>\n",
       "      <td>1.00000</td>\n",
       "      <td>0.466916</td>\n",
       "    </tr>\n",
       "    <tr>\n",
       "      <th>...</th>\n",
       "      <td>...</td>\n",
       "      <td>...</td>\n",
       "      <td>...</td>\n",
       "      <td>...</td>\n",
       "      <td>...</td>\n",
       "      <td>...</td>\n",
       "      <td>...</td>\n",
       "      <td>...</td>\n",
       "      <td>...</td>\n",
       "    </tr>\n",
       "    <tr>\n",
       "      <th>8518</th>\n",
       "      <td>0.166053</td>\n",
       "      <td>0.0</td>\n",
       "      <td>0.416825</td>\n",
       "      <td>0.890898</td>\n",
       "      <td>0.817798</td>\n",
       "      <td>0.063921</td>\n",
       "      <td>0.000000</td>\n",
       "      <td>1.00000</td>\n",
       "      <td>0.466916</td>\n",
       "    </tr>\n",
       "    <tr>\n",
       "      <th>8519</th>\n",
       "      <td>0.267165</td>\n",
       "      <td>1.0</td>\n",
       "      <td>0.359773</td>\n",
       "      <td>0.000000</td>\n",
       "      <td>0.397232</td>\n",
       "      <td>0.649673</td>\n",
       "      <td>0.492257</td>\n",
       "      <td>0.50473</td>\n",
       "      <td>0.466916</td>\n",
       "    </tr>\n",
       "    <tr>\n",
       "      <th>8520</th>\n",
       "      <td>0.407156</td>\n",
       "      <td>0.0</td>\n",
       "      <td>0.283862</td>\n",
       "      <td>0.598910</td>\n",
       "      <td>0.291580</td>\n",
       "      <td>0.744118</td>\n",
       "      <td>1.000000</td>\n",
       "      <td>0.50473</td>\n",
       "      <td>0.466916</td>\n",
       "    </tr>\n",
       "    <tr>\n",
       "      <th>8521</th>\n",
       "      <td>0.189542</td>\n",
       "      <td>1.0</td>\n",
       "      <td>0.756655</td>\n",
       "      <td>0.890898</td>\n",
       "      <td>0.374820</td>\n",
       "      <td>1.000000</td>\n",
       "      <td>0.492257</td>\n",
       "      <td>1.00000</td>\n",
       "      <td>0.770145</td>\n",
       "    </tr>\n",
       "    <tr>\n",
       "      <th>8522</th>\n",
       "      <td>0.652429</td>\n",
       "      <td>0.0</td>\n",
       "      <td>0.346836</td>\n",
       "      <td>0.945900</td>\n",
       "      <td>0.244784</td>\n",
       "      <td>0.431637</td>\n",
       "      <td>1.000000</td>\n",
       "      <td>0.00000</td>\n",
       "      <td>0.466916</td>\n",
       "    </tr>\n",
       "  </tbody>\n",
       "</table>\n",
       "<p>8523 rows × 9 columns</p>\n",
       "</div>"
      ],
      "text/plain": [
       "      Item_Weight  Item_Fat_Content  Item_Visibility  Item_Type  Item_MRP  \\\n",
       "0        0.326234               0.0         0.141313   0.334227  0.941878   \n",
       "1        0.100114               1.0         0.167227   0.945900  0.101813   \n",
       "2        0.799982               0.0         0.147098   0.719587  0.539309   \n",
       "3        0.889661               1.0         0.000000   0.471329  0.698186   \n",
       "4        0.302670               0.0         0.000000   0.659998  0.132855   \n",
       "...           ...               ...              ...        ...       ...   \n",
       "8518     0.166053               0.0         0.416825   0.890898  0.817798   \n",
       "8519     0.267165               1.0         0.359773   0.000000  0.397232   \n",
       "8520     0.407156               0.0         0.283862   0.598910  0.291580   \n",
       "8521     0.189542               1.0         0.756655   0.890898  0.374820   \n",
       "8522     0.652429               0.0         0.346836   0.945900  0.244784   \n",
       "\n",
       "      Outlet_Establishment_Year  Outlet_Size  Outlet_Location_Type  \\\n",
       "0                      0.515867     0.492257               0.00000   \n",
       "1                      1.000000     0.492257               1.00000   \n",
       "2                      0.515867     0.492257               0.00000   \n",
       "3                      0.473269     0.492257               1.00000   \n",
       "4                      0.063921     0.000000               1.00000   \n",
       "...                         ...          ...                   ...   \n",
       "8518                   0.063921     0.000000               1.00000   \n",
       "8519                   0.649673     0.492257               0.50473   \n",
       "8520                   0.744118     1.000000               0.50473   \n",
       "8521                   1.000000     0.492257               1.00000   \n",
       "8522                   0.431637     1.000000               0.00000   \n",
       "\n",
       "      Outlet_Type  \n",
       "0        0.466916  \n",
       "1        0.770145  \n",
       "2        0.466916  \n",
       "3        0.000000  \n",
       "4        0.466916  \n",
       "...           ...  \n",
       "8518     0.466916  \n",
       "8519     0.466916  \n",
       "8520     0.466916  \n",
       "8521     0.770145  \n",
       "8522     0.466916  \n",
       "\n",
       "[8523 rows x 9 columns]"
      ]
     },
     "execution_count": 74,
     "metadata": {},
     "output_type": "execute_result"
    }
   ],
   "source": [
    "from sklearn.preprocessing import MinMaxScaler\n",
    "MMS = MinMaxScaler()\n",
    "X_scaled = pd.DataFrame(MMS.fit_transform(X),columns=X.columns)\n",
    "X_scaled"
   ]
  },
  {
   "cell_type": "code",
   "execution_count": 75,
   "id": "0e72238a",
   "metadata": {},
   "outputs": [
    {
     "data": {
      "text/html": [
       "<div>\n",
       "<style scoped>\n",
       "    .dataframe tbody tr th:only-of-type {\n",
       "        vertical-align: middle;\n",
       "    }\n",
       "\n",
       "    .dataframe tbody tr th {\n",
       "        vertical-align: top;\n",
       "    }\n",
       "\n",
       "    .dataframe thead th {\n",
       "        text-align: right;\n",
       "    }\n",
       "</style>\n",
       "<table border=\"1\" class=\"dataframe\">\n",
       "  <thead>\n",
       "    <tr style=\"text-align: right;\">\n",
       "      <th></th>\n",
       "      <th>Item_Weight</th>\n",
       "      <th>Item_Fat_Content</th>\n",
       "      <th>Item_Visibility</th>\n",
       "      <th>Item_Type</th>\n",
       "      <th>Item_MRP</th>\n",
       "      <th>Outlet_Establishment_Year</th>\n",
       "      <th>Outlet_Size</th>\n",
       "      <th>Outlet_Location_Type</th>\n",
       "      <th>Outlet_Type</th>\n",
       "    </tr>\n",
       "  </thead>\n",
       "  <tbody>\n",
       "    <tr>\n",
       "      <th>0</th>\n",
       "      <td>0.326234</td>\n",
       "      <td>0.0</td>\n",
       "      <td>0.141313</td>\n",
       "      <td>0.334227</td>\n",
       "      <td>0.941878</td>\n",
       "      <td>0.515867</td>\n",
       "      <td>0.492257</td>\n",
       "      <td>0.00000</td>\n",
       "      <td>0.466916</td>\n",
       "    </tr>\n",
       "    <tr>\n",
       "      <th>1</th>\n",
       "      <td>0.100114</td>\n",
       "      <td>1.0</td>\n",
       "      <td>0.167227</td>\n",
       "      <td>0.945900</td>\n",
       "      <td>0.101813</td>\n",
       "      <td>1.000000</td>\n",
       "      <td>0.492257</td>\n",
       "      <td>1.00000</td>\n",
       "      <td>0.770145</td>\n",
       "    </tr>\n",
       "    <tr>\n",
       "      <th>2</th>\n",
       "      <td>0.799982</td>\n",
       "      <td>0.0</td>\n",
       "      <td>0.147098</td>\n",
       "      <td>0.719587</td>\n",
       "      <td>0.539309</td>\n",
       "      <td>0.515867</td>\n",
       "      <td>0.492257</td>\n",
       "      <td>0.00000</td>\n",
       "      <td>0.466916</td>\n",
       "    </tr>\n",
       "    <tr>\n",
       "      <th>3</th>\n",
       "      <td>0.889661</td>\n",
       "      <td>1.0</td>\n",
       "      <td>0.000000</td>\n",
       "      <td>0.471329</td>\n",
       "      <td>0.698186</td>\n",
       "      <td>0.473269</td>\n",
       "      <td>0.492257</td>\n",
       "      <td>1.00000</td>\n",
       "      <td>0.000000</td>\n",
       "    </tr>\n",
       "    <tr>\n",
       "      <th>4</th>\n",
       "      <td>0.302670</td>\n",
       "      <td>0.0</td>\n",
       "      <td>0.000000</td>\n",
       "      <td>0.659998</td>\n",
       "      <td>0.132855</td>\n",
       "      <td>0.063921</td>\n",
       "      <td>0.000000</td>\n",
       "      <td>1.00000</td>\n",
       "      <td>0.466916</td>\n",
       "    </tr>\n",
       "    <tr>\n",
       "      <th>...</th>\n",
       "      <td>...</td>\n",
       "      <td>...</td>\n",
       "      <td>...</td>\n",
       "      <td>...</td>\n",
       "      <td>...</td>\n",
       "      <td>...</td>\n",
       "      <td>...</td>\n",
       "      <td>...</td>\n",
       "      <td>...</td>\n",
       "    </tr>\n",
       "    <tr>\n",
       "      <th>8518</th>\n",
       "      <td>0.166053</td>\n",
       "      <td>0.0</td>\n",
       "      <td>0.416825</td>\n",
       "      <td>0.890898</td>\n",
       "      <td>0.817798</td>\n",
       "      <td>0.063921</td>\n",
       "      <td>0.000000</td>\n",
       "      <td>1.00000</td>\n",
       "      <td>0.466916</td>\n",
       "    </tr>\n",
       "    <tr>\n",
       "      <th>8519</th>\n",
       "      <td>0.267165</td>\n",
       "      <td>1.0</td>\n",
       "      <td>0.359773</td>\n",
       "      <td>0.000000</td>\n",
       "      <td>0.397232</td>\n",
       "      <td>0.649673</td>\n",
       "      <td>0.492257</td>\n",
       "      <td>0.50473</td>\n",
       "      <td>0.466916</td>\n",
       "    </tr>\n",
       "    <tr>\n",
       "      <th>8520</th>\n",
       "      <td>0.407156</td>\n",
       "      <td>0.0</td>\n",
       "      <td>0.283862</td>\n",
       "      <td>0.598910</td>\n",
       "      <td>0.291580</td>\n",
       "      <td>0.744118</td>\n",
       "      <td>1.000000</td>\n",
       "      <td>0.50473</td>\n",
       "      <td>0.466916</td>\n",
       "    </tr>\n",
       "    <tr>\n",
       "      <th>8521</th>\n",
       "      <td>0.189542</td>\n",
       "      <td>1.0</td>\n",
       "      <td>0.756655</td>\n",
       "      <td>0.890898</td>\n",
       "      <td>0.374820</td>\n",
       "      <td>1.000000</td>\n",
       "      <td>0.492257</td>\n",
       "      <td>1.00000</td>\n",
       "      <td>0.770145</td>\n",
       "    </tr>\n",
       "    <tr>\n",
       "      <th>8522</th>\n",
       "      <td>0.652429</td>\n",
       "      <td>0.0</td>\n",
       "      <td>0.346836</td>\n",
       "      <td>0.945900</td>\n",
       "      <td>0.244784</td>\n",
       "      <td>0.431637</td>\n",
       "      <td>1.000000</td>\n",
       "      <td>0.00000</td>\n",
       "      <td>0.466916</td>\n",
       "    </tr>\n",
       "  </tbody>\n",
       "</table>\n",
       "<p>8523 rows × 9 columns</p>\n",
       "</div>"
      ],
      "text/plain": [
       "      Item_Weight  Item_Fat_Content  Item_Visibility  Item_Type  Item_MRP  \\\n",
       "0        0.326234               0.0         0.141313   0.334227  0.941878   \n",
       "1        0.100114               1.0         0.167227   0.945900  0.101813   \n",
       "2        0.799982               0.0         0.147098   0.719587  0.539309   \n",
       "3        0.889661               1.0         0.000000   0.471329  0.698186   \n",
       "4        0.302670               0.0         0.000000   0.659998  0.132855   \n",
       "...           ...               ...              ...        ...       ...   \n",
       "8518     0.166053               0.0         0.416825   0.890898  0.817798   \n",
       "8519     0.267165               1.0         0.359773   0.000000  0.397232   \n",
       "8520     0.407156               0.0         0.283862   0.598910  0.291580   \n",
       "8521     0.189542               1.0         0.756655   0.890898  0.374820   \n",
       "8522     0.652429               0.0         0.346836   0.945900  0.244784   \n",
       "\n",
       "      Outlet_Establishment_Year  Outlet_Size  Outlet_Location_Type  \\\n",
       "0                      0.515867     0.492257               0.00000   \n",
       "1                      1.000000     0.492257               1.00000   \n",
       "2                      0.515867     0.492257               0.00000   \n",
       "3                      0.473269     0.492257               1.00000   \n",
       "4                      0.063921     0.000000               1.00000   \n",
       "...                         ...          ...                   ...   \n",
       "8518                   0.063921     0.000000               1.00000   \n",
       "8519                   0.649673     0.492257               0.50473   \n",
       "8520                   0.744118     1.000000               0.50473   \n",
       "8521                   1.000000     0.492257               1.00000   \n",
       "8522                   0.431637     1.000000               0.00000   \n",
       "\n",
       "      Outlet_Type  \n",
       "0        0.466916  \n",
       "1        0.770145  \n",
       "2        0.466916  \n",
       "3        0.000000  \n",
       "4        0.466916  \n",
       "...           ...  \n",
       "8518     0.466916  \n",
       "8519     0.466916  \n",
       "8520     0.466916  \n",
       "8521     0.770145  \n",
       "8522     0.466916  \n",
       "\n",
       "[8523 rows x 9 columns]"
      ]
     },
     "execution_count": 75,
     "metadata": {},
     "output_type": "execute_result"
    }
   ],
   "source": [
    "Test_Scaled = pd.DataFrame(MMS.fit_transform(X),columns=X.columns)\n",
    "Test_Scaled"
   ]
  },
  {
   "cell_type": "code",
   "execution_count": 76,
   "id": "f433d92d",
   "metadata": {},
   "outputs": [],
   "source": [
    "from sklearn import metrics\n",
    "from sklearn.metrics import r2_score\n",
    "from sklearn.linear_model import LinearRegression, Lasso, Ridge\n",
    "from sklearn.model_selection import train_test_split"
   ]
  },
  {
   "cell_type": "code",
   "execution_count": 77,
   "id": "c8ca937f",
   "metadata": {},
   "outputs": [
    {
     "name": "stdout",
     "output_type": "stream",
     "text": [
      "Best Accuracy is: 0.6673711507642297 on Random State: 76\n"
     ]
    }
   ],
   "source": [
    "maxScore=0\n",
    "maxRS=0\n",
    "for i in range(1,100):\n",
    "    X_train,X_test, Y_train,Y_test=train_test_split(X_scaled,Y,test_size=0.10,random_state=i)\n",
    "    LR=LinearRegression()\n",
    "    LR.fit(X_train,Y_train)\n",
    "    predrf=LR.predict(X_test)\n",
    "    score = r2_score(Y_test, predrf)\n",
    "    if score > maxScore:\n",
    "        maxScore=score\n",
    "        maxRS=i\n",
    "print(\"Best Accuracy is:\",maxScore,\"on Random State:\",maxRS)"
   ]
  },
  {
   "cell_type": "code",
   "execution_count": 78,
   "id": "f934cadf",
   "metadata": {},
   "outputs": [],
   "source": [
    "X_train,X_test, Y_train,Y_test=train_test_split(X_scaled,Y,test_size=0.10,random_state=78)"
   ]
  },
  {
   "cell_type": "code",
   "execution_count": 79,
   "id": "4c1a6eb1",
   "metadata": {},
   "outputs": [
    {
     "name": "stdout",
     "output_type": "stream",
     "text": [
      "(7670, 9)\n",
      "(7670,)\n",
      "(853, 9)\n",
      "(853,)\n"
     ]
    }
   ],
   "source": [
    "print(X_train.shape) #Checking the data distribution\n",
    "print(Y_train.shape)\n",
    "print(X_test.shape)\n",
    "print(Y_test.shape)"
   ]
  },
  {
   "cell_type": "markdown",
   "id": "0618b161",
   "metadata": {},
   "source": [
    "### Linear Regression"
   ]
  },
  {
   "cell_type": "code",
   "execution_count": 80,
   "id": "a41e87d6",
   "metadata": {},
   "outputs": [
    {
     "data": {
      "text/plain": [
       "LinearRegression()"
      ]
     },
     "execution_count": 80,
     "metadata": {},
     "output_type": "execute_result"
    }
   ],
   "source": [
    "LR=LinearRegression()   \n",
    "LR.fit(X_train,Y_train)"
   ]
  },
  {
   "cell_type": "code",
   "execution_count": 81,
   "id": "3fb3dd14",
   "metadata": {},
   "outputs": [
    {
     "name": "stdout",
     "output_type": "stream",
     "text": [
      "Adjusted R2 Score:0.6238831273498188\n",
      "MAE: 0.49323909961015405\n",
      "MSE: 0.3879418871748941\n",
      "RMSE: 0.6228498110900365\n"
     ]
    }
   ],
   "source": [
    "LR_pred=LR.predict(X_test)\n",
    "test_r2=r2_score(Y_test,LR_pred)\n",
    "print(f'Adjusted R2 Score:{test_r2}')\n",
    "\n",
    "#(MAE)\n",
    "print('MAE:',metrics.mean_absolute_error(Y_test, LR_pred))\n",
    "\n",
    "#(MSE)\n",
    "print('MSE:',metrics.mean_squared_error(Y_test, LR_pred))\n",
    "\n",
    "#(RMSE)\n",
    "print(\"RMSE:\",np.sqrt(metrics.mean_squared_error(Y_test, LR_pred)))"
   ]
  },
  {
   "cell_type": "markdown",
   "id": "35ef1b94",
   "metadata": {},
   "source": [
    "### RidgeCV "
   ]
  },
  {
   "cell_type": "code",
   "execution_count": 82,
   "id": "2c69a307",
   "metadata": {},
   "outputs": [],
   "source": [
    "from sklearn.linear_model import RidgeCV\n",
    "from sklearn.metrics import mean_squared_error,mean_absolute_error"
   ]
  },
  {
   "cell_type": "code",
   "execution_count": 83,
   "id": "f4f01b32",
   "metadata": {},
   "outputs": [
    {
     "data": {
      "text/plain": [
       "RidgeCV(alphas=array([0.001, 0.011, 0.021, 0.031, 0.041, 0.051, 0.061, 0.071, 0.081,\n",
       "       0.091]),\n",
       "        normalize=True)"
      ]
     },
     "execution_count": 83,
     "metadata": {},
     "output_type": "execute_result"
    }
   ],
   "source": [
    "ridgecv = RidgeCV(alphas=np.arange(0.001,0.1,0.01),normalize=True)\n",
    "ridgecv.fit(X_train,Y_train)"
   ]
  },
  {
   "cell_type": "code",
   "execution_count": 84,
   "id": "56155714",
   "metadata": {},
   "outputs": [
    {
     "data": {
      "text/plain": [
       "0.001"
      ]
     },
     "execution_count": 84,
     "metadata": {},
     "output_type": "execute_result"
    }
   ],
   "source": [
    "ridgecv.alpha_"
   ]
  },
  {
   "cell_type": "code",
   "execution_count": 85,
   "id": "96a11167",
   "metadata": {},
   "outputs": [
    {
     "data": {
      "text/plain": [
       "Ridge(alpha=0.001)"
      ]
     },
     "execution_count": 85,
     "metadata": {},
     "output_type": "execute_result"
    }
   ],
   "source": [
    "ridge_model = Ridge(alpha=ridgecv.alpha_)\n",
    "ridge_model.fit(X_train,Y_train)"
   ]
  },
  {
   "cell_type": "code",
   "execution_count": 86,
   "id": "3ca0bc93",
   "metadata": {},
   "outputs": [
    {
     "data": {
      "text/plain": [
       "0.6238830540122402"
      ]
     },
     "execution_count": 86,
     "metadata": {},
     "output_type": "execute_result"
    }
   ],
   "source": [
    "ridge_model.score(X_test,Y_test)"
   ]
  },
  {
   "cell_type": "markdown",
   "id": "d910eeb3",
   "metadata": {},
   "source": [
    "### LassoCV "
   ]
  },
  {
   "cell_type": "code",
   "execution_count": 87,
   "id": "512d279c",
   "metadata": {},
   "outputs": [],
   "source": [
    "from sklearn.linear_model import LassoCV\n",
    "from sklearn.datasets import make_regression"
   ]
  },
  {
   "cell_type": "code",
   "execution_count": 88,
   "id": "7a941476",
   "metadata": {},
   "outputs": [
    {
     "data": {
      "text/plain": [
       "LassoCV(normalize=True)"
      ]
     },
     "execution_count": 88,
     "metadata": {},
     "output_type": "execute_result"
    }
   ],
   "source": [
    "lasscv=LassoCV(alphas=None,max_iter=1000,normalize=True)\n",
    "lasscv.fit(X_train,Y_train)"
   ]
  },
  {
   "cell_type": "code",
   "execution_count": 89,
   "id": "d074bb39",
   "metadata": {},
   "outputs": [
    {
     "data": {
      "text/plain": [
       "2.2334403189856972e-05"
      ]
     },
     "execution_count": 89,
     "metadata": {},
     "output_type": "execute_result"
    }
   ],
   "source": [
    "alpha=lasscv.alpha_\n",
    "alpha"
   ]
  },
  {
   "cell_type": "code",
   "execution_count": 90,
   "id": "70c14ff1",
   "metadata": {},
   "outputs": [
    {
     "data": {
      "text/plain": [
       "Lasso(alpha=2.2334403189856972e-05)"
      ]
     },
     "execution_count": 90,
     "metadata": {},
     "output_type": "execute_result"
    }
   ],
   "source": [
    "lasso_reg=Lasso(alpha)\n",
    "lasso_reg.fit(X_train,Y_train)"
   ]
  },
  {
   "cell_type": "code",
   "execution_count": 91,
   "id": "6748646c",
   "metadata": {},
   "outputs": [
    {
     "data": {
      "text/plain": [
       "0.6238718260616636"
      ]
     },
     "execution_count": 91,
     "metadata": {},
     "output_type": "execute_result"
    }
   ],
   "source": [
    "lasso_reg.score(X_test,Y_test)"
   ]
  },
  {
   "cell_type": "markdown",
   "id": "da48fbb9",
   "metadata": {},
   "source": [
    "### Random Forest Model "
   ]
  },
  {
   "cell_type": "code",
   "execution_count": 92,
   "id": "443004a2",
   "metadata": {},
   "outputs": [],
   "source": [
    "from sklearn.ensemble import RandomForestRegressor#,GradientBoostingRegressor,AdaBoostRegressor\n",
    "RFR = RandomForestRegressor()"
   ]
  },
  {
   "cell_type": "code",
   "execution_count": 93,
   "id": "8d2a0a0e",
   "metadata": {},
   "outputs": [
    {
     "data": {
      "text/plain": [
       "RandomForestRegressor()"
      ]
     },
     "execution_count": 93,
     "metadata": {},
     "output_type": "execute_result"
    }
   ],
   "source": [
    "RFR.fit(X_train,Y_train)"
   ]
  },
  {
   "cell_type": "code",
   "execution_count": 94,
   "id": "dd45db77",
   "metadata": {},
   "outputs": [
    {
     "name": "stdout",
     "output_type": "stream",
     "text": [
      "R2 Score:  0.6626921927668321\n",
      "MAE:  0.45708895899403057\n",
      "MSE:  0.3479126750545087\n",
      "RMSE:  0.5898412286832014\n"
     ]
    }
   ],
   "source": [
    "RFR_pred = RFR.predict(X_test)\n",
    "print('R2 Score: ',r2_score(Y_test,RFR_pred))\n",
    "print('MAE: ',mean_absolute_error(Y_test,RFR_pred))\n",
    "print('MSE: ',mean_squared_error(Y_test,RFR_pred))\n",
    "print('RMSE: ',np.sqrt(mean_squared_error(Y_test,RFR_pred)))"
   ]
  },
  {
   "cell_type": "markdown",
   "id": "c2fb5843",
   "metadata": {},
   "source": [
    "### KNeighborsRegressor "
   ]
  },
  {
   "cell_type": "code",
   "execution_count": 95,
   "id": "c12ecddf",
   "metadata": {},
   "outputs": [
    {
     "data": {
      "text/plain": [
       "KNeighborsRegressor()"
      ]
     },
     "execution_count": 95,
     "metadata": {},
     "output_type": "execute_result"
    }
   ],
   "source": [
    "from sklearn.neighbors import KNeighborsRegressor\n",
    "KNN = KNeighborsRegressor()\n",
    "KNN.fit(X_train,Y_train)"
   ]
  },
  {
   "cell_type": "code",
   "execution_count": 96,
   "id": "88e182ca",
   "metadata": {},
   "outputs": [
    {
     "name": "stdout",
     "output_type": "stream",
     "text": [
      "R2 Score:  0.6195159866280158\n",
      "MAE:  0.49118155886753867\n",
      "MSE:  0.392446329640442\n",
      "RMSE:  0.6264553692326709\n"
     ]
    }
   ],
   "source": [
    "KNN_pred = KNN.predict(X_test)\n",
    "print('R2 Score: ',r2_score(Y_test,KNN_pred))\n",
    "print('MAE: ',mean_absolute_error(Y_test,KNN_pred))\n",
    "print('MSE: ',mean_squared_error(Y_test,KNN_pred))\n",
    "print('RMSE: ',np.sqrt(mean_squared_error(Y_test,KNN_pred)))"
   ]
  },
  {
   "cell_type": "markdown",
   "id": "229b5857",
   "metadata": {},
   "source": [
    "### Cross-Validation Scores "
   ]
  },
  {
   "cell_type": "code",
   "execution_count": 97,
   "id": "36980a48",
   "metadata": {},
   "outputs": [],
   "source": [
    "from sklearn.model_selection import cross_val_score"
   ]
  },
  {
   "cell_type": "code",
   "execution_count": 98,
   "id": "caa8805d",
   "metadata": {},
   "outputs": [
    {
     "name": "stdout",
     "output_type": "stream",
     "text": [
      "Linear Regression Score: 0.6181594206529257\n",
      "Linear Regression with Ridge: 0.6181594277059412\n",
      "Linear Regression with Lasso: 0.6181615821166669\n",
      "RandomForest Regressor: 0.6555654220215956\n",
      "KNN Regressor: 0.6237273610655205\n"
     ]
    }
   ],
   "source": [
    "print('Linear Regression Score:',cross_val_score(LR,X_scaled,Y,cv=5).mean())\n",
    "print('Linear Regression with Ridge:',cross_val_score(ridge_model,X_scaled,Y,cv=5).mean())\n",
    "print('Linear Regression with Lasso:',cross_val_score(lasso_reg,X_scaled,Y,cv=5).mean())\n",
    "print('RandomForest Regressor:',cross_val_score(RFR,X_scaled,Y,cv=5).mean())\n",
    "print('KNN Regressor:',cross_val_score(KNN,X_scaled,Y,cv=5).mean())"
   ]
  },
  {
   "cell_type": "code",
   "execution_count": null,
   "id": "97c7df0f",
   "metadata": {},
   "outputs": [],
   "source": []
  }
 ],
 "metadata": {
  "kernelspec": {
   "display_name": "Python 3 (ipykernel)",
   "language": "python",
   "name": "python3"
  },
  "language_info": {
   "codemirror_mode": {
    "name": "ipython",
    "version": 3
   },
   "file_extension": ".py",
   "mimetype": "text/x-python",
   "name": "python",
   "nbconvert_exporter": "python",
   "pygments_lexer": "ipython3",
   "version": "3.9.12"
  }
 },
 "nbformat": 4,
 "nbformat_minor": 5
}
