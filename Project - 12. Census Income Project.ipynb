{
 "cells": [
  {
   "cell_type": "markdown",
   "id": "8af618ef",
   "metadata": {},
   "source": [
    "# Census Income Project\n",
    "## Problem Statement:\n",
    "This data was extracted from the 1994 Census bureau database by Ronny Kohavi and Barry Becker (Data Mining and Visualization, Silicon Graphics). A set of reasonably clean records was extracted using the following conditions: ((AAGE>16) && (AGI>100) && (AFNLWGT>1) && (HRSWK>0)). The prediction task is to determine whether a person makes over $50K a year.\n",
    "\n",
    "## Description of fnlwgt (final weight)\n",
    "The weights on the Current Population Survey (CPS) files are controlled to independent estimates of the civilian non-institutional population of the US. These are prepared monthly for us by Population Division here at the Census Bureau. We use 3 sets of controls. These are:\n",
    "\n",
    "A single cell estimate of the population 16+ for each state.\n",
    "\n",
    "Controls for Hispanic Origin by age and sex.\n",
    "\n",
    "Controls by Race, age and sex.\n",
    "\n",
    "We use all three sets of controls in our weighting program and \"rake\" through them 6 times so that by the end we come back to all the controls we used. The term estimate refers to population totals derived from CPS by creating \"weighted tallies\" of any specified socio-economic characteristics of the population. People with similar demographic characteristics should have similar weights. There is one important caveat to remember about this statement. That is that since the CPS sample is actually a collection of 51 state samples, each with its own probability of selection, the statement only applies within state.\n",
    "\n",
    "To download the dataset, use the link given below."
   ]
  },
  {
   "cell_type": "code",
   "execution_count": 1,
   "id": "eafc2b88",
   "metadata": {},
   "outputs": [],
   "source": [
    "import numpy as np\n",
    "import pandas as pd \n",
    "import seaborn as sns\n",
    "import matplotlib.pyplot as plt\n",
    "import warnings \n",
    "warnings.filterwarnings('ignore')"
   ]
  },
  {
   "cell_type": "markdown",
   "id": "fbc430b4",
   "metadata": {},
   "source": [
    "### Read Dataset"
   ]
  },
  {
   "cell_type": "code",
   "execution_count": 2,
   "id": "01b009de",
   "metadata": {},
   "outputs": [
    {
     "data": {
      "text/html": [
       "<div>\n",
       "<style scoped>\n",
       "    .dataframe tbody tr th:only-of-type {\n",
       "        vertical-align: middle;\n",
       "    }\n",
       "\n",
       "    .dataframe tbody tr th {\n",
       "        vertical-align: top;\n",
       "    }\n",
       "\n",
       "    .dataframe thead th {\n",
       "        text-align: right;\n",
       "    }\n",
       "</style>\n",
       "<table border=\"1\" class=\"dataframe\">\n",
       "  <thead>\n",
       "    <tr style=\"text-align: right;\">\n",
       "      <th></th>\n",
       "      <th>Age</th>\n",
       "      <th>Workclass</th>\n",
       "      <th>Fnlwgt</th>\n",
       "      <th>Education</th>\n",
       "      <th>Education_num</th>\n",
       "      <th>Marital_status</th>\n",
       "      <th>Occupation</th>\n",
       "      <th>Relationship</th>\n",
       "      <th>Race</th>\n",
       "      <th>Sex</th>\n",
       "      <th>Capital_gain</th>\n",
       "      <th>Capital_loss</th>\n",
       "      <th>Hours_per_week</th>\n",
       "      <th>Native_country</th>\n",
       "      <th>Income</th>\n",
       "    </tr>\n",
       "  </thead>\n",
       "  <tbody>\n",
       "    <tr>\n",
       "      <th>0</th>\n",
       "      <td>50</td>\n",
       "      <td>Self-emp-not-inc</td>\n",
       "      <td>83311</td>\n",
       "      <td>Bachelors</td>\n",
       "      <td>13</td>\n",
       "      <td>Married-civ-spouse</td>\n",
       "      <td>Exec-managerial</td>\n",
       "      <td>Husband</td>\n",
       "      <td>White</td>\n",
       "      <td>Male</td>\n",
       "      <td>0</td>\n",
       "      <td>0</td>\n",
       "      <td>13</td>\n",
       "      <td>United-States</td>\n",
       "      <td>&lt;=50K</td>\n",
       "    </tr>\n",
       "    <tr>\n",
       "      <th>1</th>\n",
       "      <td>38</td>\n",
       "      <td>Private</td>\n",
       "      <td>215646</td>\n",
       "      <td>HS-grad</td>\n",
       "      <td>9</td>\n",
       "      <td>Divorced</td>\n",
       "      <td>Handlers-cleaners</td>\n",
       "      <td>Not-in-family</td>\n",
       "      <td>White</td>\n",
       "      <td>Male</td>\n",
       "      <td>0</td>\n",
       "      <td>0</td>\n",
       "      <td>40</td>\n",
       "      <td>United-States</td>\n",
       "      <td>&lt;=50K</td>\n",
       "    </tr>\n",
       "    <tr>\n",
       "      <th>2</th>\n",
       "      <td>53</td>\n",
       "      <td>Private</td>\n",
       "      <td>234721</td>\n",
       "      <td>11th</td>\n",
       "      <td>7</td>\n",
       "      <td>Married-civ-spouse</td>\n",
       "      <td>Handlers-cleaners</td>\n",
       "      <td>Husband</td>\n",
       "      <td>Black</td>\n",
       "      <td>Male</td>\n",
       "      <td>0</td>\n",
       "      <td>0</td>\n",
       "      <td>40</td>\n",
       "      <td>United-States</td>\n",
       "      <td>&lt;=50K</td>\n",
       "    </tr>\n",
       "    <tr>\n",
       "      <th>3</th>\n",
       "      <td>28</td>\n",
       "      <td>Private</td>\n",
       "      <td>338409</td>\n",
       "      <td>Bachelors</td>\n",
       "      <td>13</td>\n",
       "      <td>Married-civ-spouse</td>\n",
       "      <td>Prof-specialty</td>\n",
       "      <td>Wife</td>\n",
       "      <td>Black</td>\n",
       "      <td>Female</td>\n",
       "      <td>0</td>\n",
       "      <td>0</td>\n",
       "      <td>40</td>\n",
       "      <td>Cuba</td>\n",
       "      <td>&lt;=50K</td>\n",
       "    </tr>\n",
       "    <tr>\n",
       "      <th>4</th>\n",
       "      <td>37</td>\n",
       "      <td>Private</td>\n",
       "      <td>284582</td>\n",
       "      <td>Masters</td>\n",
       "      <td>14</td>\n",
       "      <td>Married-civ-spouse</td>\n",
       "      <td>Exec-managerial</td>\n",
       "      <td>Wife</td>\n",
       "      <td>White</td>\n",
       "      <td>Female</td>\n",
       "      <td>0</td>\n",
       "      <td>0</td>\n",
       "      <td>40</td>\n",
       "      <td>United-States</td>\n",
       "      <td>&lt;=50K</td>\n",
       "    </tr>\n",
       "    <tr>\n",
       "      <th>...</th>\n",
       "      <td>...</td>\n",
       "      <td>...</td>\n",
       "      <td>...</td>\n",
       "      <td>...</td>\n",
       "      <td>...</td>\n",
       "      <td>...</td>\n",
       "      <td>...</td>\n",
       "      <td>...</td>\n",
       "      <td>...</td>\n",
       "      <td>...</td>\n",
       "      <td>...</td>\n",
       "      <td>...</td>\n",
       "      <td>...</td>\n",
       "      <td>...</td>\n",
       "      <td>...</td>\n",
       "    </tr>\n",
       "    <tr>\n",
       "      <th>32555</th>\n",
       "      <td>27</td>\n",
       "      <td>Private</td>\n",
       "      <td>257302</td>\n",
       "      <td>Assoc-acdm</td>\n",
       "      <td>12</td>\n",
       "      <td>Married-civ-spouse</td>\n",
       "      <td>Tech-support</td>\n",
       "      <td>Wife</td>\n",
       "      <td>White</td>\n",
       "      <td>Female</td>\n",
       "      <td>0</td>\n",
       "      <td>0</td>\n",
       "      <td>38</td>\n",
       "      <td>United-States</td>\n",
       "      <td>&lt;=50K</td>\n",
       "    </tr>\n",
       "    <tr>\n",
       "      <th>32556</th>\n",
       "      <td>40</td>\n",
       "      <td>Private</td>\n",
       "      <td>154374</td>\n",
       "      <td>HS-grad</td>\n",
       "      <td>9</td>\n",
       "      <td>Married-civ-spouse</td>\n",
       "      <td>Machine-op-inspct</td>\n",
       "      <td>Husband</td>\n",
       "      <td>White</td>\n",
       "      <td>Male</td>\n",
       "      <td>0</td>\n",
       "      <td>0</td>\n",
       "      <td>40</td>\n",
       "      <td>United-States</td>\n",
       "      <td>&gt;50K</td>\n",
       "    </tr>\n",
       "    <tr>\n",
       "      <th>32557</th>\n",
       "      <td>58</td>\n",
       "      <td>Private</td>\n",
       "      <td>151910</td>\n",
       "      <td>HS-grad</td>\n",
       "      <td>9</td>\n",
       "      <td>Widowed</td>\n",
       "      <td>Adm-clerical</td>\n",
       "      <td>Unmarried</td>\n",
       "      <td>White</td>\n",
       "      <td>Female</td>\n",
       "      <td>0</td>\n",
       "      <td>0</td>\n",
       "      <td>40</td>\n",
       "      <td>United-States</td>\n",
       "      <td>&lt;=50K</td>\n",
       "    </tr>\n",
       "    <tr>\n",
       "      <th>32558</th>\n",
       "      <td>22</td>\n",
       "      <td>Private</td>\n",
       "      <td>201490</td>\n",
       "      <td>HS-grad</td>\n",
       "      <td>9</td>\n",
       "      <td>Never-married</td>\n",
       "      <td>Adm-clerical</td>\n",
       "      <td>Own-child</td>\n",
       "      <td>White</td>\n",
       "      <td>Male</td>\n",
       "      <td>0</td>\n",
       "      <td>0</td>\n",
       "      <td>20</td>\n",
       "      <td>United-States</td>\n",
       "      <td>&lt;=50K</td>\n",
       "    </tr>\n",
       "    <tr>\n",
       "      <th>32559</th>\n",
       "      <td>52</td>\n",
       "      <td>Self-emp-inc</td>\n",
       "      <td>287927</td>\n",
       "      <td>HS-grad</td>\n",
       "      <td>9</td>\n",
       "      <td>Married-civ-spouse</td>\n",
       "      <td>Exec-managerial</td>\n",
       "      <td>Wife</td>\n",
       "      <td>White</td>\n",
       "      <td>Female</td>\n",
       "      <td>15024</td>\n",
       "      <td>0</td>\n",
       "      <td>40</td>\n",
       "      <td>United-States</td>\n",
       "      <td>&gt;50K</td>\n",
       "    </tr>\n",
       "  </tbody>\n",
       "</table>\n",
       "<p>32560 rows × 15 columns</p>\n",
       "</div>"
      ],
      "text/plain": [
       "       Age          Workclass  Fnlwgt    Education  Education_num  \\\n",
       "0       50   Self-emp-not-inc   83311    Bachelors             13   \n",
       "1       38            Private  215646      HS-grad              9   \n",
       "2       53            Private  234721         11th              7   \n",
       "3       28            Private  338409    Bachelors             13   \n",
       "4       37            Private  284582      Masters             14   \n",
       "...    ...                ...     ...          ...            ...   \n",
       "32555   27            Private  257302   Assoc-acdm             12   \n",
       "32556   40            Private  154374      HS-grad              9   \n",
       "32557   58            Private  151910      HS-grad              9   \n",
       "32558   22            Private  201490      HS-grad              9   \n",
       "32559   52       Self-emp-inc  287927      HS-grad              9   \n",
       "\n",
       "            Marital_status          Occupation    Relationship    Race  \\\n",
       "0       Married-civ-spouse     Exec-managerial         Husband   White   \n",
       "1                 Divorced   Handlers-cleaners   Not-in-family   White   \n",
       "2       Married-civ-spouse   Handlers-cleaners         Husband   Black   \n",
       "3       Married-civ-spouse      Prof-specialty            Wife   Black   \n",
       "4       Married-civ-spouse     Exec-managerial            Wife   White   \n",
       "...                    ...                 ...             ...     ...   \n",
       "32555   Married-civ-spouse        Tech-support            Wife   White   \n",
       "32556   Married-civ-spouse   Machine-op-inspct         Husband   White   \n",
       "32557              Widowed        Adm-clerical       Unmarried   White   \n",
       "32558        Never-married        Adm-clerical       Own-child   White   \n",
       "32559   Married-civ-spouse     Exec-managerial            Wife   White   \n",
       "\n",
       "           Sex  Capital_gain  Capital_loss  Hours_per_week  Native_country  \\\n",
       "0         Male             0             0              13   United-States   \n",
       "1         Male             0             0              40   United-States   \n",
       "2         Male             0             0              40   United-States   \n",
       "3       Female             0             0              40            Cuba   \n",
       "4       Female             0             0              40   United-States   \n",
       "...        ...           ...           ...             ...             ...   \n",
       "32555   Female             0             0              38   United-States   \n",
       "32556     Male             0             0              40   United-States   \n",
       "32557   Female             0             0              40   United-States   \n",
       "32558     Male             0             0              20   United-States   \n",
       "32559   Female         15024             0              40   United-States   \n",
       "\n",
       "       Income  \n",
       "0       <=50K  \n",
       "1       <=50K  \n",
       "2       <=50K  \n",
       "3       <=50K  \n",
       "4       <=50K  \n",
       "...       ...  \n",
       "32555   <=50K  \n",
       "32556    >50K  \n",
       "32557   <=50K  \n",
       "32558   <=50K  \n",
       "32559    >50K  \n",
       "\n",
       "[32560 rows x 15 columns]"
      ]
     },
     "execution_count": 2,
     "metadata": {},
     "output_type": "execute_result"
    }
   ],
   "source": [
    "df = pd.read_csv('census_income.csv')\n",
    "df"
   ]
  },
  {
   "cell_type": "markdown",
   "id": "588a022b",
   "metadata": {},
   "source": [
    "Dataset has 32560 rows and 15 columns\n",
    "\n",
    "Dataset both categorical and numerical data in the dataset.\n",
    "\n",
    "There are two unique values in the target column <=50K and >50K. We can say that whether the person has annual income <=50K or >50K.\n",
    "\n",
    "The target variable that is 'Income' has two classes of data, hence this is a classification data. We will look more into the dataset in the EDA part"
   ]
  },
  {
   "cell_type": "markdown",
   "id": "1e2c785b",
   "metadata": {},
   "source": [
    "### Exploratory Data Analysis"
   ]
  },
  {
   "cell_type": "code",
   "execution_count": 3,
   "id": "474a0d63",
   "metadata": {},
   "outputs": [
    {
     "data": {
      "text/plain": [
       "(32560, 15)"
      ]
     },
     "execution_count": 3,
     "metadata": {},
     "output_type": "execute_result"
    }
   ],
   "source": [
    "df.shape"
   ]
  },
  {
   "cell_type": "code",
   "execution_count": 4,
   "id": "27bbb583",
   "metadata": {},
   "outputs": [
    {
     "name": "stdout",
     "output_type": "stream",
     "text": [
      "<class 'pandas.core.frame.DataFrame'>\n",
      "RangeIndex: 32560 entries, 0 to 32559\n",
      "Data columns (total 15 columns):\n",
      " #   Column          Non-Null Count  Dtype \n",
      "---  ------          --------------  ----- \n",
      " 0   Age             32560 non-null  int64 \n",
      " 1   Workclass       32560 non-null  object\n",
      " 2   Fnlwgt          32560 non-null  int64 \n",
      " 3   Education       32560 non-null  object\n",
      " 4   Education_num   32560 non-null  int64 \n",
      " 5   Marital_status  32560 non-null  object\n",
      " 6   Occupation      32560 non-null  object\n",
      " 7   Relationship    32560 non-null  object\n",
      " 8   Race            32560 non-null  object\n",
      " 9   Sex             32560 non-null  object\n",
      " 10  Capital_gain    32560 non-null  int64 \n",
      " 11  Capital_loss    32560 non-null  int64 \n",
      " 12  Hours_per_week  32560 non-null  int64 \n",
      " 13  Native_country  32560 non-null  object\n",
      " 14  Income          32560 non-null  object\n",
      "dtypes: int64(6), object(9)\n",
      "memory usage: 3.7+ MB\n"
     ]
    }
   ],
   "source": [
    "df.info()"
   ]
  },
  {
   "cell_type": "markdown",
   "id": "026515fa",
   "metadata": {},
   "source": [
    "This analysis shows that the datset has both object and integer datatypes. We will look into the datatypes and treat it accordingly."
   ]
  },
  {
   "cell_type": "code",
   "execution_count": 5,
   "id": "f3f43e3f",
   "metadata": {},
   "outputs": [
    {
     "data": {
      "text/plain": [
       "Age               0\n",
       "Workclass         0\n",
       "Fnlwgt            0\n",
       "Education         0\n",
       "Education_num     0\n",
       "Marital_status    0\n",
       "Occupation        0\n",
       "Relationship      0\n",
       "Race              0\n",
       "Sex               0\n",
       "Capital_gain      0\n",
       "Capital_loss      0\n",
       "Hours_per_week    0\n",
       "Native_country    0\n",
       "Income            0\n",
       "dtype: int64"
      ]
     },
     "execution_count": 5,
     "metadata": {},
     "output_type": "execute_result"
    }
   ],
   "source": [
    "df.isnull().sum()"
   ]
  },
  {
   "cell_type": "markdown",
   "id": "be7aa8ea",
   "metadata": {},
   "source": [
    "We can see that there is no null value in the Dataset"
   ]
  },
  {
   "cell_type": "markdown",
   "id": "46510ef2",
   "metadata": {},
   "source": [
    "### Visualization"
   ]
  },
  {
   "cell_type": "code",
   "execution_count": 6,
   "id": "c5cb2d48",
   "metadata": {},
   "outputs": [
    {
     "data": {
      "image/png": "[encoded data removed]",
      "text/plain": [
       "<Figure size 432x288 with 2 Axes>"
      ]
     },
     "metadata": {
      "needs_background": "light"
     },
     "output_type": "display_data"
    }
   ],
   "source": [
    "sns.heatmap(df.isnull());"
   ]
  },
  {
   "cell_type": "markdown",
   "id": "ac2bafc3",
   "metadata": {},
   "source": [
    "We can clearly see that the dataset has no null values"
   ]
  },
  {
   "cell_type": "code",
   "execution_count": 7,
   "id": "c6e23926",
   "metadata": {},
   "outputs": [
    {
     "data": {
      "text/html": [
       "<div>\n",
       "<style scoped>\n",
       "    .dataframe tbody tr th:only-of-type {\n",
       "        vertical-align: middle;\n",
       "    }\n",
       "\n",
       "    .dataframe tbody tr th {\n",
       "        vertical-align: top;\n",
       "    }\n",
       "\n",
       "    .dataframe thead th {\n",
       "        text-align: right;\n",
       "    }\n",
       "</style>\n",
       "<table border=\"1\" class=\"dataframe\">\n",
       "  <thead>\n",
       "    <tr style=\"text-align: right;\">\n",
       "      <th></th>\n",
       "      <th>Number of Unique Values</th>\n",
       "    </tr>\n",
       "  </thead>\n",
       "  <tbody>\n",
       "    <tr>\n",
       "      <th>Age</th>\n",
       "      <td>73</td>\n",
       "    </tr>\n",
       "    <tr>\n",
       "      <th>Workclass</th>\n",
       "      <td>9</td>\n",
       "    </tr>\n",
       "    <tr>\n",
       "      <th>Fnlwgt</th>\n",
       "      <td>21647</td>\n",
       "    </tr>\n",
       "    <tr>\n",
       "      <th>Education</th>\n",
       "      <td>16</td>\n",
       "    </tr>\n",
       "    <tr>\n",
       "      <th>Education_num</th>\n",
       "      <td>16</td>\n",
       "    </tr>\n",
       "    <tr>\n",
       "      <th>Marital_status</th>\n",
       "      <td>7</td>\n",
       "    </tr>\n",
       "    <tr>\n",
       "      <th>Occupation</th>\n",
       "      <td>15</td>\n",
       "    </tr>\n",
       "    <tr>\n",
       "      <th>Relationship</th>\n",
       "      <td>6</td>\n",
       "    </tr>\n",
       "    <tr>\n",
       "      <th>Race</th>\n",
       "      <td>5</td>\n",
       "    </tr>\n",
       "    <tr>\n",
       "      <th>Sex</th>\n",
       "      <td>2</td>\n",
       "    </tr>\n",
       "    <tr>\n",
       "      <th>Capital_gain</th>\n",
       "      <td>119</td>\n",
       "    </tr>\n",
       "    <tr>\n",
       "      <th>Capital_loss</th>\n",
       "      <td>92</td>\n",
       "    </tr>\n",
       "    <tr>\n",
       "      <th>Hours_per_week</th>\n",
       "      <td>94</td>\n",
       "    </tr>\n",
       "    <tr>\n",
       "      <th>Native_country</th>\n",
       "      <td>42</td>\n",
       "    </tr>\n",
       "    <tr>\n",
       "      <th>Income</th>\n",
       "      <td>2</td>\n",
       "    </tr>\n",
       "  </tbody>\n",
       "</table>\n",
       "</div>"
      ],
      "text/plain": [
       "                Number of Unique Values\n",
       "Age                                  73\n",
       "Workclass                             9\n",
       "Fnlwgt                            21647\n",
       "Education                            16\n",
       "Education_num                        16\n",
       "Marital_status                        7\n",
       "Occupation                           15\n",
       "Relationship                          6\n",
       "Race                                  5\n",
       "Sex                                   2\n",
       "Capital_gain                        119\n",
       "Capital_loss                         92\n",
       "Hours_per_week                       94\n",
       "Native_country                       42\n",
       "Income                                2"
      ]
     },
     "execution_count": 7,
     "metadata": {},
     "output_type": "execute_result"
    }
   ],
   "source": [
    "df.nunique().to_frame('Number of Unique Values')"
   ]
  },
  {
   "cell_type": "markdown",
   "id": "019cdc69",
   "metadata": {},
   "source": [
    "We can see here the number of unique values in each columns"
   ]
  },
  {
   "cell_type": "code",
   "execution_count": 8,
   "id": "87e126d8",
   "metadata": {},
   "outputs": [
    {
     "data": {
      "text/plain": [
       "Age                int64\n",
       "Workclass         object\n",
       "Fnlwgt             int64\n",
       "Education         object\n",
       "Education_num      int64\n",
       "Marital_status    object\n",
       "Occupation        object\n",
       "Relationship      object\n",
       "Race              object\n",
       "Sex               object\n",
       "Capital_gain       int64\n",
       "Capital_loss       int64\n",
       "Hours_per_week     int64\n",
       "Native_country    object\n",
       "Income            object\n",
       "dtype: object"
      ]
     },
     "execution_count": 8,
     "metadata": {},
     "output_type": "execute_result"
    }
   ],
   "source": [
    "df.dtypes"
   ]
  },
  {
   "cell_type": "code",
   "execution_count": 9,
   "id": "d6cb8670",
   "metadata": {
    "scrolled": false
   },
   "outputs": [
    {
     "name": "stdout",
     "output_type": "stream",
     "text": [
      "_______________Age_________________\n",
      "\n",
      "36    898\n",
      "31    888\n",
      "34    886\n",
      "23    877\n",
      "35    876\n",
      "     ... \n",
      "83      6\n",
      "88      3\n",
      "85      3\n",
      "86      1\n",
      "87      1\n",
      "Name: Age, Length: 73, dtype: int64\n",
      "------------------------------------\n",
      "\n",
      "_______________Workclass_________________\n",
      "\n",
      " Private             22696\n",
      " Self-emp-not-inc     2541\n",
      " Local-gov            2093\n",
      " ?                    1836\n",
      " State-gov            1297\n",
      " Self-emp-inc         1116\n",
      " Federal-gov           960\n",
      " Without-pay            14\n",
      " Never-worked            7\n",
      "Name: Workclass, dtype: int64\n",
      "------------------------------------\n",
      "\n",
      "_______________Fnlwgt_________________\n",
      "\n",
      "164190    13\n",
      "203488    13\n",
      "123011    13\n",
      "148995    12\n",
      "126675    12\n",
      "          ..\n",
      "325573     1\n",
      "140176     1\n",
      "318264     1\n",
      "329205     1\n",
      "257302     1\n",
      "Name: Fnlwgt, Length: 21647, dtype: int64\n",
      "------------------------------------\n",
      "\n",
      "_______________Education_________________\n",
      "\n",
      " HS-grad         10501\n",
      " Some-college     7291\n",
      " Bachelors        5354\n",
      " Masters          1723\n",
      " Assoc-voc        1382\n",
      " 11th             1175\n",
      " Assoc-acdm       1067\n",
      " 10th              933\n",
      " 7th-8th           646\n",
      " Prof-school       576\n",
      " 9th               514\n",
      " 12th              433\n",
      " Doctorate         413\n",
      " 5th-6th           333\n",
      " 1st-4th           168\n",
      " Preschool          51\n",
      "Name: Education, dtype: int64\n",
      "------------------------------------\n",
      "\n",
      "_______________Education_num_________________\n",
      "\n",
      "9     10501\n",
      "10     7291\n",
      "13     5354\n",
      "14     1723\n",
      "11     1382\n",
      "7      1175\n",
      "12     1067\n",
      "6       933\n",
      "4       646\n",
      "15      576\n",
      "5       514\n",
      "8       433\n",
      "16      413\n",
      "3       333\n",
      "2       168\n",
      "1        51\n",
      "Name: Education_num, dtype: int64\n",
      "------------------------------------\n",
      "\n",
      "_______________Marital_status_________________\n",
      "\n",
      " Married-civ-spouse       14976\n",
      " Never-married            10682\n",
      " Divorced                  4443\n",
      " Separated                 1025\n",
      " Widowed                    993\n",
      " Married-spouse-absent      418\n",
      " Married-AF-spouse           23\n",
      "Name: Marital_status, dtype: int64\n",
      "------------------------------------\n",
      "\n",
      "_______________Occupation_________________\n",
      "\n",
      " Prof-specialty       4140\n",
      " Craft-repair         4099\n",
      " Exec-managerial      4066\n",
      " Adm-clerical         3769\n",
      " Sales                3650\n",
      " Other-service        3295\n",
      " Machine-op-inspct    2002\n",
      " ?                    1843\n",
      " Transport-moving     1597\n",
      " Handlers-cleaners    1370\n",
      " Farming-fishing       994\n",
      " Tech-support          928\n",
      " Protective-serv       649\n",
      " Priv-house-serv       149\n",
      " Armed-Forces            9\n",
      "Name: Occupation, dtype: int64\n",
      "------------------------------------\n",
      "\n",
      "_______________Relationship_________________\n",
      "\n",
      " Husband           13193\n",
      " Not-in-family      8304\n",
      " Own-child          5068\n",
      " Unmarried          3446\n",
      " Wife               1568\n",
      " Other-relative      981\n",
      "Name: Relationship, dtype: int64\n",
      "------------------------------------\n",
      "\n",
      "_______________Race_________________\n",
      "\n",
      " White                 27815\n",
      " Black                  3124\n",
      " Asian-Pac-Islander     1039\n",
      " Amer-Indian-Eskimo      311\n",
      " Other                   271\n",
      "Name: Race, dtype: int64\n",
      "------------------------------------\n",
      "\n",
      "_______________Sex_________________\n",
      "\n",
      " Male      21789\n",
      " Female    10771\n",
      "Name: Sex, dtype: int64\n",
      "------------------------------------\n",
      "\n",
      "_______________Capital_gain_________________\n",
      "\n",
      "0        29849\n",
      "15024      347\n",
      "7688       284\n",
      "7298       246\n",
      "99999      159\n",
      "         ...  \n",
      "1111         1\n",
      "2538         1\n",
      "22040        1\n",
      "4931         1\n",
      "5060         1\n",
      "Name: Capital_gain, Length: 119, dtype: int64\n",
      "------------------------------------\n",
      "\n",
      "_______________Capital_loss_________________\n",
      "\n",
      "0       31041\n",
      "1902      202\n",
      "1977      168\n",
      "1887      159\n",
      "1848       51\n",
      "        ...  \n",
      "2080        1\n",
      "1539        1\n",
      "1844        1\n",
      "2489        1\n",
      "1411        1\n",
      "Name: Capital_loss, Length: 92, dtype: int64\n",
      "------------------------------------\n",
      "\n",
      "_______________Hours_per_week_________________\n",
      "\n",
      "40    15216\n",
      "50     2819\n",
      "45     1824\n",
      "60     1475\n",
      "35     1297\n",
      "      ...  \n",
      "82        1\n",
      "94        1\n",
      "92        1\n",
      "74        1\n",
      "87        1\n",
      "Name: Hours_per_week, Length: 94, dtype: int64\n",
      "------------------------------------\n",
      "\n",
      "_______________Native_country_________________\n",
      "\n",
      " United-States                 29169\n",
      " Mexico                          643\n",
      " ?                               583\n",
      " Philippines                     198\n",
      " Germany                         137\n",
      " Canada                          121\n",
      " Puerto-Rico                     114\n",
      " El-Salvador                     106\n",
      " India                           100\n",
      " Cuba                             95\n",
      " England                          90\n",
      " Jamaica                          81\n",
      " South                            80\n",
      " China                            75\n",
      " Italy                            73\n",
      " Dominican-Republic               70\n",
      " Vietnam                          67\n",
      " Guatemala                        64\n",
      " Japan                            62\n",
      " Poland                           60\n",
      " Columbia                         59\n",
      " Taiwan                           51\n",
      " Haiti                            44\n",
      " Iran                             43\n",
      " Portugal                         37\n",
      " Nicaragua                        34\n",
      " Peru                             31\n",
      " France                           29\n",
      " Greece                           29\n",
      " Ecuador                          28\n",
      " Ireland                          24\n",
      " Hong                             20\n",
      " Cambodia                         19\n",
      " Trinadad&Tobago                  19\n",
      " Laos                             18\n",
      " Thailand                         18\n",
      " Yugoslavia                       16\n",
      " Outlying-US(Guam-USVI-etc)       14\n",
      " Honduras                         13\n",
      " Hungary                          13\n",
      " Scotland                         12\n",
      " Holand-Netherlands                1\n",
      "Name: Native_country, dtype: int64\n",
      "------------------------------------\n",
      "\n",
      "_______________Income_________________\n",
      "\n",
      " <=50K    24719\n",
      " >50K      7841\n",
      "Name: Income, dtype: int64\n",
      "------------------------------------\n",
      "\n"
     ]
    }
   ],
   "source": [
    "for i in df.columns:\n",
    "    print(f'_______________{i}_________________\\n')\n",
    "    print(df[i].value_counts())\n",
    "    print('------------------------------------\\n')\n",
    "    "
   ]
  },
  {
   "cell_type": "markdown",
   "id": "64737c42",
   "metadata": {},
   "source": [
    "From this analysis we see the following points\n",
    "\n",
    "1.We have 29849, zero value in capital gain and 31041, zero values in capital loss, which is 90% of the data, so we can consider dropping them.\n",
    "\n",
    "2.Also we have ? value in workclass, occupation and Native_country, so we need to impute this value."
   ]
  },
  {
   "cell_type": "code",
   "execution_count": 10,
   "id": "cd66778d",
   "metadata": {},
   "outputs": [],
   "source": [
    "df.drop(['Capital_gain','Capital_loss'],axis=1,inplace=True)"
   ]
  },
  {
   "cell_type": "code",
   "execution_count": 11,
   "id": "86729277",
   "metadata": {},
   "outputs": [],
   "source": [
    "df['Workclass'] = df.Workclass.str.replace('?','Private')\n",
    "df['Occupation'] = df.Occupation.str.replace('?','Prof-specialty')\n",
    "df['Native_country'] = df.Native_country.str.replace('?','United-States')"
   ]
  },
  {
   "cell_type": "code",
   "execution_count": 12,
   "id": "0a6d83c6",
   "metadata": {},
   "outputs": [
    {
     "data": {
      "text/plain": [
       " Private             24532\n",
       " Self-emp-not-inc     2541\n",
       " Local-gov            2093\n",
       " State-gov            1297\n",
       " Self-emp-inc         1116\n",
       " Federal-gov           960\n",
       " Without-pay            14\n",
       " Never-worked            7\n",
       "Name: Workclass, dtype: int64"
      ]
     },
     "execution_count": 12,
     "metadata": {},
     "output_type": "execute_result"
    }
   ],
   "source": [
    "df['Workclass'].value_counts()"
   ]
  },
  {
   "cell_type": "code",
   "execution_count": 13,
   "id": "175c355a",
   "metadata": {},
   "outputs": [
    {
     "data": {
      "text/plain": [
       " Prof-specialty       5983\n",
       " Craft-repair         4099\n",
       " Exec-managerial      4066\n",
       " Adm-clerical         3769\n",
       " Sales                3650\n",
       " Other-service        3295\n",
       " Machine-op-inspct    2002\n",
       " Transport-moving     1597\n",
       " Handlers-cleaners    1370\n",
       " Farming-fishing       994\n",
       " Tech-support          928\n",
       " Protective-serv       649\n",
       " Priv-house-serv       149\n",
       " Armed-Forces            9\n",
       "Name: Occupation, dtype: int64"
      ]
     },
     "execution_count": 13,
     "metadata": {},
     "output_type": "execute_result"
    }
   ],
   "source": [
    "df['Occupation'].value_counts()"
   ]
  },
  {
   "cell_type": "code",
   "execution_count": 14,
   "id": "92fa75e0",
   "metadata": {},
   "outputs": [
    {
     "data": {
      "text/plain": [
       " United-States                 29752\n",
       " Mexico                          643\n",
       " Philippines                     198\n",
       " Germany                         137\n",
       " Canada                          121\n",
       " Puerto-Rico                     114\n",
       " El-Salvador                     106\n",
       " India                           100\n",
       " Cuba                             95\n",
       " England                          90\n",
       " Jamaica                          81\n",
       " South                            80\n",
       " China                            75\n",
       " Italy                            73\n",
       " Dominican-Republic               70\n",
       " Vietnam                          67\n",
       " Guatemala                        64\n",
       " Japan                            62\n",
       " Poland                           60\n",
       " Columbia                         59\n",
       " Taiwan                           51\n",
       " Haiti                            44\n",
       " Iran                             43\n",
       " Portugal                         37\n",
       " Nicaragua                        34\n",
       " Peru                             31\n",
       " France                           29\n",
       " Greece                           29\n",
       " Ecuador                          28\n",
       " Ireland                          24\n",
       " Hong                             20\n",
       " Cambodia                         19\n",
       " Trinadad&Tobago                  19\n",
       " Laos                             18\n",
       " Thailand                         18\n",
       " Yugoslavia                       16\n",
       " Outlying-US(Guam-USVI-etc)       14\n",
       " Honduras                         13\n",
       " Hungary                          13\n",
       " Scotland                         12\n",
       " Holand-Netherlands                1\n",
       "Name: Native_country, dtype: int64"
      ]
     },
     "execution_count": 14,
     "metadata": {},
     "output_type": "execute_result"
    }
   ],
   "source": [
    "df['Native_country'].value_counts()"
   ]
  },
  {
   "cell_type": "code",
   "execution_count": 15,
   "id": "fdf50150",
   "metadata": {},
   "outputs": [],
   "source": [
    "df.Workclass = df.Workclass.replace([' Local-gov',' State-gov',' Federal-gov'],' Govt-Sector')\n",
    "df.Workclass = df.Workclass.replace([' Private',' Self-emp-not-inc',' Self-emp-inc'],' Pvt-sector')\n",
    "df.Workclass = df.Workclass.replace([' Without-pay',' Never-worked'],'Not-working')"
   ]
  },
  {
   "cell_type": "code",
   "execution_count": 16,
   "id": "11fdccec",
   "metadata": {},
   "outputs": [
    {
     "data": {
      "text/plain": [
       " Pvt-sector     28189\n",
       " Govt-Sector     4350\n",
       "Not-working        21\n",
       "Name: Workclass, dtype: int64"
      ]
     },
     "execution_count": 16,
     "metadata": {},
     "output_type": "execute_result"
    }
   ],
   "source": [
    "df['Workclass'].value_counts()"
   ]
  },
  {
   "cell_type": "code",
   "execution_count": 17,
   "id": "249a2fc0",
   "metadata": {},
   "outputs": [],
   "source": [
    "df[\"Education\"]=df[\"Education\"].replace([' Preschool',' 1st-4th',' 5th-6th',' 7th-8th',' 9th',' 10th',' 11th',' 12th'],'School')\n",
    "df[\"Education\"]=df[\"Education\"].replace([' HS-grad',' Prof-school'],' High-School')\n",
    "df[\"Education\"]=df[\"Education\"].replace([' Some-college',' Assoc-voc',' Assoc-acdm'],' Secondary-School')\n",
    "df[\"Education\"]=df[\"Education\"].replace([' Bachelors',],' Under_Graduation')\n",
    "df[\"Education\"]=df[\"Education\"].replace([' Masters'],'Post_Graduation')\n",
    "df[\"Education\"]=df[\"Education\"].replace([' Doctorate'],' PhD')"
   ]
  },
  {
   "cell_type": "code",
   "execution_count": 18,
   "id": "fc776d36",
   "metadata": {},
   "outputs": [
    {
     "data": {
      "text/plain": [
       " High-School         11077\n",
       " Secondary-School     9740\n",
       " Under_Graduation     5354\n",
       "School                4253\n",
       "Post_Graduation       1723\n",
       " PhD                   413\n",
       "Name: Education, dtype: int64"
      ]
     },
     "execution_count": 18,
     "metadata": {},
     "output_type": "execute_result"
    }
   ],
   "source": [
    "df['Education'].value_counts()"
   ]
  },
  {
   "cell_type": "code",
   "execution_count": 19,
   "id": "8de932d6",
   "metadata": {},
   "outputs": [],
   "source": [
    "df[\"Marital_status\"]=df[\"Marital_status\"].replace([' Married-civ-spouse',' Married-AF-spouse'],' Married')\n",
    "df[\"Marital_status\"]=df[\"Marital_status\"].replace([' Never-married'],' Single')\n",
    "df[\"Marital_status\"]=df[\"Marital_status\"].replace([' Divorced',' Widowed',' Separated',' Married-spouse-absent',],' Others')"
   ]
  },
  {
   "cell_type": "code",
   "execution_count": 20,
   "id": "2460674e",
   "metadata": {},
   "outputs": [
    {
     "data": {
      "text/plain": [
       " Married    14999\n",
       " Single     10682\n",
       " Others      6879\n",
       "Name: Marital_status, dtype: int64"
      ]
     },
     "execution_count": 20,
     "metadata": {},
     "output_type": "execute_result"
    }
   ],
   "source": [
    "df['Marital_status'].value_counts()"
   ]
  },
  {
   "cell_type": "code",
   "execution_count": 21,
   "id": "300087ff",
   "metadata": {},
   "outputs": [
    {
     "data": {
      "text/html": [
       "<div>\n",
       "<style scoped>\n",
       "    .dataframe tbody tr th:only-of-type {\n",
       "        vertical-align: middle;\n",
       "    }\n",
       "\n",
       "    .dataframe tbody tr th {\n",
       "        vertical-align: top;\n",
       "    }\n",
       "\n",
       "    .dataframe thead th {\n",
       "        text-align: right;\n",
       "    }\n",
       "</style>\n",
       "<table border=\"1\" class=\"dataframe\">\n",
       "  <thead>\n",
       "    <tr style=\"text-align: right;\">\n",
       "      <th></th>\n",
       "      <th>Age</th>\n",
       "      <th>Workclass</th>\n",
       "      <th>Fnlwgt</th>\n",
       "      <th>Education</th>\n",
       "      <th>Education_num</th>\n",
       "      <th>Marital_status</th>\n",
       "      <th>Occupation</th>\n",
       "      <th>Relationship</th>\n",
       "      <th>Race</th>\n",
       "      <th>Sex</th>\n",
       "      <th>Hours_per_week</th>\n",
       "      <th>Native_country</th>\n",
       "      <th>Income</th>\n",
       "    </tr>\n",
       "  </thead>\n",
       "  <tbody>\n",
       "    <tr>\n",
       "      <th>0</th>\n",
       "      <td>50</td>\n",
       "      <td>Pvt-sector</td>\n",
       "      <td>83311</td>\n",
       "      <td>Under_Graduation</td>\n",
       "      <td>13</td>\n",
       "      <td>Married</td>\n",
       "      <td>Exec-managerial</td>\n",
       "      <td>Husband</td>\n",
       "      <td>White</td>\n",
       "      <td>Male</td>\n",
       "      <td>13</td>\n",
       "      <td>United-States</td>\n",
       "      <td>&lt;=50K</td>\n",
       "    </tr>\n",
       "    <tr>\n",
       "      <th>1</th>\n",
       "      <td>38</td>\n",
       "      <td>Pvt-sector</td>\n",
       "      <td>215646</td>\n",
       "      <td>High-School</td>\n",
       "      <td>9</td>\n",
       "      <td>Others</td>\n",
       "      <td>Handlers-cleaners</td>\n",
       "      <td>Not-in-family</td>\n",
       "      <td>White</td>\n",
       "      <td>Male</td>\n",
       "      <td>40</td>\n",
       "      <td>United-States</td>\n",
       "      <td>&lt;=50K</td>\n",
       "    </tr>\n",
       "    <tr>\n",
       "      <th>2</th>\n",
       "      <td>53</td>\n",
       "      <td>Pvt-sector</td>\n",
       "      <td>234721</td>\n",
       "      <td>School</td>\n",
       "      <td>7</td>\n",
       "      <td>Married</td>\n",
       "      <td>Handlers-cleaners</td>\n",
       "      <td>Husband</td>\n",
       "      <td>Black</td>\n",
       "      <td>Male</td>\n",
       "      <td>40</td>\n",
       "      <td>United-States</td>\n",
       "      <td>&lt;=50K</td>\n",
       "    </tr>\n",
       "    <tr>\n",
       "      <th>3</th>\n",
       "      <td>28</td>\n",
       "      <td>Pvt-sector</td>\n",
       "      <td>338409</td>\n",
       "      <td>Under_Graduation</td>\n",
       "      <td>13</td>\n",
       "      <td>Married</td>\n",
       "      <td>Prof-specialty</td>\n",
       "      <td>Wife</td>\n",
       "      <td>Black</td>\n",
       "      <td>Female</td>\n",
       "      <td>40</td>\n",
       "      <td>Cuba</td>\n",
       "      <td>&lt;=50K</td>\n",
       "    </tr>\n",
       "    <tr>\n",
       "      <th>4</th>\n",
       "      <td>37</td>\n",
       "      <td>Pvt-sector</td>\n",
       "      <td>284582</td>\n",
       "      <td>Post_Graduation</td>\n",
       "      <td>14</td>\n",
       "      <td>Married</td>\n",
       "      <td>Exec-managerial</td>\n",
       "      <td>Wife</td>\n",
       "      <td>White</td>\n",
       "      <td>Female</td>\n",
       "      <td>40</td>\n",
       "      <td>United-States</td>\n",
       "      <td>&lt;=50K</td>\n",
       "    </tr>\n",
       "  </tbody>\n",
       "</table>\n",
       "</div>"
      ],
      "text/plain": [
       "   Age    Workclass  Fnlwgt          Education  Education_num Marital_status  \\\n",
       "0   50   Pvt-sector   83311   Under_Graduation             13        Married   \n",
       "1   38   Pvt-sector  215646        High-School              9         Others   \n",
       "2   53   Pvt-sector  234721             School              7        Married   \n",
       "3   28   Pvt-sector  338409   Under_Graduation             13        Married   \n",
       "4   37   Pvt-sector  284582    Post_Graduation             14        Married   \n",
       "\n",
       "           Occupation    Relationship    Race      Sex  Hours_per_week  \\\n",
       "0     Exec-managerial         Husband   White     Male              13   \n",
       "1   Handlers-cleaners   Not-in-family   White     Male              40   \n",
       "2   Handlers-cleaners         Husband   Black     Male              40   \n",
       "3      Prof-specialty            Wife   Black   Female              40   \n",
       "4     Exec-managerial            Wife   White   Female              40   \n",
       "\n",
       "   Native_country  Income  \n",
       "0   United-States   <=50K  \n",
       "1   United-States   <=50K  \n",
       "2   United-States   <=50K  \n",
       "3            Cuba   <=50K  \n",
       "4   United-States   <=50K  "
      ]
     },
     "execution_count": 21,
     "metadata": {},
     "output_type": "execute_result"
    }
   ],
   "source": [
    "df.head()"
   ]
  },
  {
   "cell_type": "code",
   "execution_count": 22,
   "id": "4426bf34",
   "metadata": {},
   "outputs": [
    {
     "data": {
      "text/plain": [
       " <=50K    24719\n",
       " >50K      7841\n",
       "Name: Income, dtype: int64"
      ]
     },
     "execution_count": 22,
     "metadata": {},
     "output_type": "execute_result"
    }
   ],
   "source": [
    "df['Income'].value_counts()"
   ]
  },
  {
   "cell_type": "code",
   "execution_count": 23,
   "id": "0c475ce4",
   "metadata": {},
   "outputs": [
    {
     "data": {
      "text/html": [
       "<div>\n",
       "<style scoped>\n",
       "    .dataframe tbody tr th:only-of-type {\n",
       "        vertical-align: middle;\n",
       "    }\n",
       "\n",
       "    .dataframe tbody tr th {\n",
       "        vertical-align: top;\n",
       "    }\n",
       "\n",
       "    .dataframe thead th {\n",
       "        text-align: right;\n",
       "    }\n",
       "</style>\n",
       "<table border=\"1\" class=\"dataframe\">\n",
       "  <thead>\n",
       "    <tr style=\"text-align: right;\">\n",
       "      <th></th>\n",
       "      <th>Age</th>\n",
       "      <th>Fnlwgt</th>\n",
       "      <th>Education_num</th>\n",
       "      <th>Hours_per_week</th>\n",
       "    </tr>\n",
       "  </thead>\n",
       "  <tbody>\n",
       "    <tr>\n",
       "      <th>count</th>\n",
       "      <td>32560.000000</td>\n",
       "      <td>3.256000e+04</td>\n",
       "      <td>32560.000000</td>\n",
       "      <td>32560.000000</td>\n",
       "    </tr>\n",
       "    <tr>\n",
       "      <th>mean</th>\n",
       "      <td>38.581634</td>\n",
       "      <td>1.897818e+05</td>\n",
       "      <td>10.080590</td>\n",
       "      <td>40.437469</td>\n",
       "    </tr>\n",
       "    <tr>\n",
       "      <th>std</th>\n",
       "      <td>13.640642</td>\n",
       "      <td>1.055498e+05</td>\n",
       "      <td>2.572709</td>\n",
       "      <td>12.347618</td>\n",
       "    </tr>\n",
       "    <tr>\n",
       "      <th>min</th>\n",
       "      <td>17.000000</td>\n",
       "      <td>1.228500e+04</td>\n",
       "      <td>1.000000</td>\n",
       "      <td>1.000000</td>\n",
       "    </tr>\n",
       "    <tr>\n",
       "      <th>25%</th>\n",
       "      <td>28.000000</td>\n",
       "      <td>1.178315e+05</td>\n",
       "      <td>9.000000</td>\n",
       "      <td>40.000000</td>\n",
       "    </tr>\n",
       "    <tr>\n",
       "      <th>50%</th>\n",
       "      <td>37.000000</td>\n",
       "      <td>1.783630e+05</td>\n",
       "      <td>10.000000</td>\n",
       "      <td>40.000000</td>\n",
       "    </tr>\n",
       "    <tr>\n",
       "      <th>75%</th>\n",
       "      <td>48.000000</td>\n",
       "      <td>2.370545e+05</td>\n",
       "      <td>12.000000</td>\n",
       "      <td>45.000000</td>\n",
       "    </tr>\n",
       "    <tr>\n",
       "      <th>max</th>\n",
       "      <td>90.000000</td>\n",
       "      <td>1.484705e+06</td>\n",
       "      <td>16.000000</td>\n",
       "      <td>99.000000</td>\n",
       "    </tr>\n",
       "  </tbody>\n",
       "</table>\n",
       "</div>"
      ],
      "text/plain": [
       "                Age        Fnlwgt  Education_num  Hours_per_week\n",
       "count  32560.000000  3.256000e+04   32560.000000    32560.000000\n",
       "mean      38.581634  1.897818e+05      10.080590       40.437469\n",
       "std       13.640642  1.055498e+05       2.572709       12.347618\n",
       "min       17.000000  1.228500e+04       1.000000        1.000000\n",
       "25%       28.000000  1.178315e+05       9.000000       40.000000\n",
       "50%       37.000000  1.783630e+05      10.000000       40.000000\n",
       "75%       48.000000  2.370545e+05      12.000000       45.000000\n",
       "max       90.000000  1.484705e+06      16.000000       99.000000"
      ]
     },
     "execution_count": 23,
     "metadata": {},
     "output_type": "execute_result"
    }
   ],
   "source": [
    "df.describe()"
   ]
  },
  {
   "cell_type": "markdown",
   "id": "77af41a2",
   "metadata": {},
   "source": [
    "This gives the statistical information of the dataset. The summary of this dataset looks perfect since there is no negative/ invalid values present."
   ]
  },
  {
   "cell_type": "markdown",
   "id": "5c45d04e",
   "metadata": {},
   "source": [
    "### Checking the 'categorical' and 'numerical columns'"
   ]
  },
  {
   "cell_type": "code",
   "execution_count": 24,
   "id": "9e706829",
   "metadata": {},
   "outputs": [],
   "source": [
    "cat_col = []\n",
    "num_col = []\n",
    "for i in df.dtypes.index:\n",
    "    if df.dtypes[i] =='object':\n",
    "        cat_col.append(i)\n",
    "    elif df.dtypes[i] != 'object':\n",
    "        num_col.append(i)"
   ]
  },
  {
   "cell_type": "code",
   "execution_count": 25,
   "id": "9044e681",
   "metadata": {},
   "outputs": [
    {
     "data": {
      "text/plain": [
       "['Workclass',\n",
       " 'Education',\n",
       " 'Marital_status',\n",
       " 'Occupation',\n",
       " 'Relationship',\n",
       " 'Race',\n",
       " 'Sex',\n",
       " 'Native_country',\n",
       " 'Income']"
      ]
     },
     "execution_count": 25,
     "metadata": {},
     "output_type": "execute_result"
    }
   ],
   "source": [
    "cat_col"
   ]
  },
  {
   "cell_type": "code",
   "execution_count": 26,
   "id": "d141501e",
   "metadata": {},
   "outputs": [
    {
     "data": {
      "text/plain": [
       "['Age', 'Fnlwgt', 'Education_num', 'Hours_per_week']"
      ]
     },
     "execution_count": 26,
     "metadata": {},
     "output_type": "execute_result"
    }
   ],
   "source": [
    "num_col"
   ]
  },
  {
   "cell_type": "markdown",
   "id": "af678b4d",
   "metadata": {},
   "source": [
    "### Data Visualization"
   ]
  },
  {
   "cell_type": "code",
   "execution_count": 27,
   "id": "90b12f39",
   "metadata": {},
   "outputs": [
    {
     "name": "stdout",
     "output_type": "stream",
     "text": [
      " <=50K    24719\n",
      " >50K      7841\n",
      "Name: Income, dtype: int64\n"
     ]
    },
    {
     "data": {
      "image/png": "[encoded data removed]",
      "text/plain": [
       "<Figure size 360x360 with 1 Axes>"
      ]
     },
     "metadata": {
      "needs_background": "light"
     },
     "output_type": "display_data"
    }
   ],
   "source": [
    "print(df['Income'].value_counts())\n",
    "plt.figure(figsize=(5,5))\n",
    "sns.countplot(df['Income']);"
   ]
  },
  {
   "cell_type": "markdown",
   "id": "c30615cd",
   "metadata": {},
   "source": [
    "Here we can clearly see that the target is imbalanced and we will have to balance it"
   ]
  },
  {
   "cell_type": "code",
   "execution_count": 28,
   "id": "b7080b1a",
   "metadata": {},
   "outputs": [
    {
     "data": {
      "image/png": "[encoded data removed]",
      "text/plain": [
       "<Figure size 360x360 with 1 Axes>"
      ]
     },
     "metadata": {
      "needs_background": "light"
     },
     "output_type": "display_data"
    }
   ],
   "source": [
    "plt.figure(figsize=(5,5))\n",
    "sns.countplot(df['Workclass'])\n",
    "plt.show()"
   ]
  },
  {
   "cell_type": "markdown",
   "id": "32846188",
   "metadata": {},
   "source": [
    "Here we can see that, the maximum population is working in the private sector, followed by govt sector and none unemployed."
   ]
  },
  {
   "cell_type": "code",
   "execution_count": 29,
   "id": "8a3b7999",
   "metadata": {},
   "outputs": [
    {
     "data": {
      "image/png": "[encoded data removed]",
      "text/plain": [
       "<Figure size 720x432 with 1 Axes>"
      ]
     },
     "metadata": {
      "needs_background": "light"
     },
     "output_type": "display_data"
    }
   ],
   "source": [
    "plt.figure(figsize=(10,6))\n",
    "sns.countplot(df['Education']);"
   ]
  },
  {
   "cell_type": "markdown",
   "id": "f49c03e7",
   "metadata": {},
   "source": [
    "Based on this maximum people has deductions till High School, followed by Secondary School"
   ]
  },
  {
   "cell_type": "code",
   "execution_count": 30,
   "id": "3d926ad1",
   "metadata": {},
   "outputs": [
    {
     "data": {
      "image/png": "[encoded data removed]",
      "text/plain": [
       "<Figure size 360x360 with 1 Axes>"
      ]
     },
     "metadata": {
      "needs_background": "light"
     },
     "output_type": "display_data"
    }
   ],
   "source": [
    "plt.figure(figsize=(5,5))\n",
    "sns.countplot(df['Marital_status']);"
   ]
  },
  {
   "cell_type": "markdown",
   "id": "06f55683",
   "metadata": {},
   "source": [
    "Based on this maximum population Married followed by Single"
   ]
  },
  {
   "cell_type": "code",
   "execution_count": 31,
   "id": "68f316da",
   "metadata": {},
   "outputs": [
    {
     "data": {
      "image/png": "[encoded data removed]",
      "text/plain": [
       "<Figure size 720x432 with 1 Axes>"
      ]
     },
     "metadata": {
      "needs_background": "light"
     },
     "output_type": "display_data"
    }
   ],
   "source": [
    "plt.figure(figsize=(10,6))\n",
    "sns.countplot(df[\"Occupation\"])\n",
    "plt.xticks(rotation=90);"
   ]
  },
  {
   "cell_type": "markdown",
   "id": "a0d58c3d",
   "metadata": {},
   "source": [
    "Maximum count is for prof-speciality and least count is for Armed Forces"
   ]
  },
  {
   "cell_type": "markdown",
   "id": "58301c79",
   "metadata": {},
   "source": [
    "### Checking the data is distributed"
   ]
  },
  {
   "cell_type": "code",
   "execution_count": 32,
   "id": "389e7a76",
   "metadata": {},
   "outputs": [
    {
     "data": {
      "image/png": "[encoded data removed]",
      "text/plain": [
       "<Figure size 720x720 with 4 Axes>"
      ]
     },
     "metadata": {},
     "output_type": "display_data"
    }
   ],
   "source": [
    "plt.figure(figsize=(10,10), facecolor='white')\n",
    "plotnumber=1\n",
    "for columns in num_col:\n",
    "    if plotnumber<=5:\n",
    "        ax=plt.subplot(3,2,plotnumber)\n",
    "        sns.distplot(df[columns], color='green')\n",
    "        plt.xlabel(columns, fontsize=15)\n",
    "    plotnumber+=1\n",
    "plt.tight_layout()"
   ]
  },
  {
   "cell_type": "markdown",
   "id": "b935e6a7",
   "metadata": {},
   "source": [
    "We can clearly identify that the data in the dataset is not normal. We have 'Age' which is skewed right, Final weight is also skewed right, education is scattered ad hours is also scattered with no skewness"
   ]
  },
  {
   "cell_type": "code",
   "execution_count": 33,
   "id": "9a32c973",
   "metadata": {},
   "outputs": [
    {
     "data": {
      "image/png": "[encoded data removed]",
      "text/plain": [
       "<Figure size 360x360 with 1 Axes>"
      ]
     },
     "metadata": {},
     "output_type": "display_data"
    }
   ],
   "source": [
    "labels='Husband','Not-in-family','Own-child', 'Unmarried','Wife','Other-relative'\n",
    "fig, ax = plt.subplots(figsize=(5,5))\n",
    "ax.pie(df['Relationship'].value_counts(), labels=labels, autopct='%1.2f%%', shadow=True)\n",
    "plt.show()"
   ]
  },
  {
   "cell_type": "code",
   "execution_count": 34,
   "id": "8e003322",
   "metadata": {},
   "outputs": [
    {
     "data": {
      "image/png": "[encoded data removed]",
      "text/plain": [
       "<Figure size 576x576 with 1 Axes>"
      ]
     },
     "metadata": {},
     "output_type": "display_data"
    }
   ],
   "source": [
    "labels='White','Black','Asian-Pac-Islander', 'Amer-Indian-Eskimo','Other'\n",
    "fig, ax = plt.subplots(figsize=(8,8))\n",
    "ax.pie(df['Race'].value_counts(), labels=labels, autopct='%1.2f%%', shadow=True)\n",
    "plt.show()"
   ]
  },
  {
   "cell_type": "markdown",
   "id": "9d7228c4",
   "metadata": {},
   "source": [
    "White family groups have high count of around 85% and Other race have least count around 0.83%."
   ]
  },
  {
   "cell_type": "code",
   "execution_count": 35,
   "id": "b305fcbb",
   "metadata": {},
   "outputs": [
    {
     "data": {
      "image/png": "[encoded data removed]",
      "text/plain": [
       "<Figure size 360x576 with 1 Axes>"
      ]
     },
     "metadata": {},
     "output_type": "display_data"
    }
   ],
   "source": [
    "labels='Male','Female'\n",
    "fig, ax = plt.subplots(figsize=(5,8))\n",
    "colors = [\"purple\",\"orange\"]\n",
    "ax.pie(df['Sex'].value_counts(), labels=labels, autopct='%1.2f%%', shadow=True,colors=colors)\n",
    "plt.show()"
   ]
  },
  {
   "cell_type": "markdown",
   "id": "c007e668",
   "metadata": {},
   "source": [
    "The count of Male is high and has around 66% and only 33% of females are there."
   ]
  },
  {
   "cell_type": "code",
   "execution_count": 36,
   "id": "60318cfe",
   "metadata": {},
   "outputs": [
    {
     "data": {
      "image/png": "[encoded data removed]",
      "text/plain": [
       "<Figure size 720x432 with 1 Axes>"
      ]
     },
     "metadata": {
      "needs_background": "light"
     },
     "output_type": "display_data"
    }
   ],
   "source": [
    "plt.figure(figsize=(10,6))\n",
    "sns.countplot(df[\"Native_country\"])\n",
    "plt.xticks(rotation=90)\n",
    "plt.show()"
   ]
  },
  {
   "cell_type": "code",
   "execution_count": 37,
   "id": "2dbe0c5f",
   "metadata": {},
   "outputs": [
    {
     "data": {
      "image/png": "[encoded data removed]",
      "text/plain": [
       "<Figure size 432x216 with 1 Axes>"
      ]
     },
     "metadata": {
      "needs_background": "light"
     },
     "output_type": "display_data"
    }
   ],
   "source": [
    "plt.figure(figsize=[6,3])\n",
    "plt.title('Comparision between Age and Income')\n",
    "sns.barplot(df['Age'],df[\"Income\"]);"
   ]
  },
  {
   "cell_type": "markdown",
   "id": "6ef3b9ac",
   "metadata": {},
   "source": [
    "The older age group has income more then 50K"
   ]
  },
  {
   "cell_type": "code",
   "execution_count": 38,
   "id": "bdb49d19",
   "metadata": {},
   "outputs": [
    {
     "data": {
      "image/png": "[encoded data removed]",
      "text/plain": [
       "<Figure size 720x432 with 1 Axes>"
      ]
     },
     "metadata": {
      "needs_background": "light"
     },
     "output_type": "display_data"
    }
   ],
   "source": [
    "plt.figure(figsize=(10,6))\n",
    "sns.countplot(df[\"Workclass\"],hue=df[\"Income\"])\n",
    "plt.title(\"Comparision between Workclass and Income\");"
   ]
  },
  {
   "cell_type": "markdown",
   "id": "fc474b4d",
   "metadata": {},
   "source": [
    "The people who are working in the private sectors have the income <=50K and the only few of the people in the same sector have income >50K. Also the people who never worked they don't have the income."
   ]
  },
  {
   "cell_type": "code",
   "execution_count": 39,
   "id": "0e7c10b5",
   "metadata": {},
   "outputs": [
    {
     "data": {
      "image/png": "[encoded data removed]",
      "text/plain": [
       "<Figure size 432x216 with 1 Axes>"
      ]
     },
     "metadata": {
      "needs_background": "light"
     },
     "output_type": "display_data"
    }
   ],
   "source": [
    "plt.figure(figsize=[6,3])\n",
    "plt.title('Comparision between Fnlwgt and Income')\n",
    "sns.barplot(df['Fnlwgt'],df[\"Income\"]);"
   ]
  },
  {
   "cell_type": "code",
   "execution_count": 40,
   "id": "a13aed4f",
   "metadata": {},
   "outputs": [
    {
     "data": {
      "image/png": "[encoded data removed]",
      "text/plain": [
       "<Figure size 720x432 with 1 Axes>"
      ]
     },
     "metadata": {
      "needs_background": "light"
     },
     "output_type": "display_data"
    }
   ],
   "source": [
    "plt.figure(figsize=(10,6))\n",
    "sns.countplot(df[\"Education\"],hue=df[\"Income\"])\n",
    "plt.title(\"Comparision between Education and Income\")\n",
    "plt.xticks(rotation=90)\n",
    "plt.show()"
   ]
  },
  {
   "cell_type": "markdown",
   "id": "f66bff0f",
   "metadata": {},
   "source": [
    "The people who completed theie high school have income <=50K followed by the people who done their Secondary School. Also the people who done their Graduation they are earning more income that is >50K."
   ]
  },
  {
   "cell_type": "code",
   "execution_count": 41,
   "id": "6df9896c",
   "metadata": {},
   "outputs": [
    {
     "data": {
      "image/png": "[encoded data removed]",
      "text/plain": [
       "<Figure size 435.25x360 with 1 Axes>"
      ]
     },
     "metadata": {
      "needs_background": "light"
     },
     "output_type": "display_data"
    }
   ],
   "source": [
    "sns.catplot(x='Income',y='Education_num', data=df,kind='bar',hue=\"Sex\",palette=\"husl\")\n",
    "plt.title('Comparision between Income and Education_num')\n",
    "plt.show()"
   ]
  },
  {
   "cell_type": "code",
   "execution_count": 42,
   "id": "1112cd66",
   "metadata": {},
   "outputs": [
    {
     "data": {
      "text/plain": [
       "<Figure size 72x216 with 0 Axes>"
      ]
     },
     "metadata": {},
     "output_type": "display_data"
    },
    {
     "data": {
      "image/png": "[encoded data removed]",
      "text/plain": [
       "<Figure size 1080x360 with 3 Axes>"
      ]
     },
     "metadata": {
      "needs_background": "light"
     },
     "output_type": "display_data"
    }
   ],
   "source": [
    "plt.figure(figsize=(1,3))\n",
    "sns.catplot(x='Income',col='Marital_status',data=df,kind='count',palette=\"Set2\");\n",
    "plt.show()"
   ]
  },
  {
   "cell_type": "markdown",
   "id": "33534c73",
   "metadata": {},
   "source": [
    "Married population have the more population with income >50K compared to others and single."
   ]
  },
  {
   "cell_type": "code",
   "execution_count": 43,
   "id": "534f1c05",
   "metadata": {},
   "outputs": [
    {
     "data": {
      "image/png": "[encoded data removed]",
      "text/plain": [
       "<Figure size 720x432 with 1 Axes>"
      ]
     },
     "metadata": {
      "needs_background": "light"
     },
     "output_type": "display_data"
    }
   ],
   "source": [
    "plt.figure(figsize=(10,6))\n",
    "sns.countplot(df[\"Occupation\"],hue=df[\"Income\"],palette=\"flare\" )\n",
    "plt.title(\"Comparision between Occupation and Income\")\n",
    "plt.xticks(rotation=90)\n",
    "plt.show()"
   ]
  },
  {
   "cell_type": "markdown",
   "id": "88ccd11e",
   "metadata": {},
   "source": [
    "Population belonging to Prof-speciality and Exec-managerial have the income more than 50K."
   ]
  },
  {
   "cell_type": "code",
   "execution_count": 44,
   "id": "02eaabc9",
   "metadata": {},
   "outputs": [
    {
     "data": {
      "image/png": "[encoded data removed]",
      "text/plain": [
       "<Figure size 720x432 with 1 Axes>"
      ]
     },
     "metadata": {
      "needs_background": "light"
     },
     "output_type": "display_data"
    }
   ],
   "source": [
    "plt.figure(figsize=(10,6))\n",
    "sns.countplot(df[\"Relationship\"],hue=df[\"Income\"],data=df,palette=\"pastel\")\n",
    "plt.title(\"Comparision between Relationship and Income\")\n",
    "plt.xticks(rotation=90)\n",
    "plt.show()"
   ]
  },
  {
   "cell_type": "markdown",
   "id": "49242a91",
   "metadata": {},
   "source": [
    "Husband have the high population for income >50k"
   ]
  },
  {
   "cell_type": "code",
   "execution_count": 45,
   "id": "f54eacb9",
   "metadata": {},
   "outputs": [
    {
     "data": {
      "image/png": "[encoded data removed]",
      "text/plain": [
       "<Figure size 576x432 with 1 Axes>"
      ]
     },
     "metadata": {
      "needs_background": "light"
     },
     "output_type": "display_data"
    }
   ],
   "source": [
    "plt.figure(figsize=(8,6))\n",
    "sns.countplot(df['Race'],hue=df['Income'],data=df,palette=\"mako\")\n",
    "plt.title(\"Comparision between Race and Income\")\n",
    "plt.xticks(rotation=90)\n",
    "plt.show()"
   ]
  },
  {
   "cell_type": "markdown",
   "id": "5d767fa9",
   "metadata": {},
   "source": [
    "White popluation have high number of population with income >50K"
   ]
  },
  {
   "cell_type": "code",
   "execution_count": 46,
   "id": "5a13d91b",
   "metadata": {},
   "outputs": [
    {
     "data": {
      "image/png": "[encoded data removed]",
      "text/plain": [
       "<Figure size 720x360 with 2 Axes>"
      ]
     },
     "metadata": {
      "needs_background": "light"
     },
     "output_type": "display_data"
    }
   ],
   "source": [
    "sns.catplot(x='Income',col='Sex',data=df,kind='count',palette=\"rocket\")\n",
    "plt.show()"
   ]
  },
  {
   "cell_type": "markdown",
   "id": "2bc67768",
   "metadata": {},
   "source": [
    "The income of Male is >50 compared to the female."
   ]
  },
  {
   "cell_type": "code",
   "execution_count": 47,
   "id": "4c573185",
   "metadata": {},
   "outputs": [
    {
     "data": {
      "image/png": "[encoded data removed]",
      "text/plain": [
       "<Figure size 435.25x360 with 1 Axes>"
      ]
     },
     "metadata": {
      "needs_background": "light"
     },
     "output_type": "display_data"
    }
   ],
   "source": [
    "sns.catplot(x='Income',y='Hours_per_week', data=df,kind='violin',hue=\"Sex\",palette=\"coolwarm\");\n",
    "plt.title('Comparision between Income and Hours per week')\n",
    "plt.show()"
   ]
  },
  {
   "cell_type": "code",
   "execution_count": 48,
   "id": "8d77949d",
   "metadata": {},
   "outputs": [
    {
     "data": {
      "image/png": "[encoded data removed]",
      "text/plain": [
       "<Figure size 720x432 with 1 Axes>"
      ]
     },
     "metadata": {
      "needs_background": "light"
     },
     "output_type": "display_data"
    }
   ],
   "source": [
    "plt.figure(figsize=(10,6))\n",
    "sns.countplot(df[\"Native_country\"],hue=df[\"Income\"] )\n",
    "plt.title(\"Comparision between Native_country and Income\")\n",
    "plt.xticks(rotation=90)\n",
    "plt.show()"
   ]
  },
  {
   "cell_type": "markdown",
   "id": "ddb506e5",
   "metadata": {},
   "source": [
    "People in United States have more population with Income >50k"
   ]
  },
  {
   "cell_type": "markdown",
   "id": "dff9c511",
   "metadata": {},
   "source": [
    "### Outliers Identifying"
   ]
  },
  {
   "cell_type": "code",
   "execution_count": 49,
   "id": "fc3ae7ea",
   "metadata": {},
   "outputs": [
    {
     "data": {
      "image/png": "[encoded data removed]",
      "text/plain": [
       "<Figure size 720x576 with 4 Axes>"
      ]
     },
     "metadata": {},
     "output_type": "display_data"
    }
   ],
   "source": [
    "plt.figure(figsize=(10,8),facecolor='white')\n",
    "plotnumber = 1\n",
    "for column in num_col:\n",
    "    if plotnumber<=4:\n",
    "        ax = plt.subplot(2,2,plotnumber)\n",
    "        sns.boxplot(df[column])\n",
    "        plt.xlabel(column,fontsize=10)\n",
    "    plotnumber+=1;"
   ]
  },
  {
   "cell_type": "markdown",
   "id": "276ac4d1",
   "metadata": {},
   "source": [
    "The outliers present in all the columns we will remove it using Zscore method."
   ]
  },
  {
   "cell_type": "code",
   "execution_count": 51,
   "id": "0d339a7b",
   "metadata": {},
   "outputs": [
    {
     "data": {
      "text/html": [
       "<div>\n",
       "<style scoped>\n",
       "    .dataframe tbody tr th:only-of-type {\n",
       "        vertical-align: middle;\n",
       "    }\n",
       "\n",
       "    .dataframe tbody tr th {\n",
       "        vertical-align: top;\n",
       "    }\n",
       "\n",
       "    .dataframe thead th {\n",
       "        text-align: right;\n",
       "    }\n",
       "</style>\n",
       "<table border=\"1\" class=\"dataframe\">\n",
       "  <thead>\n",
       "    <tr style=\"text-align: right;\">\n",
       "      <th></th>\n",
       "      <th>Age</th>\n",
       "      <th>Fnlwgt</th>\n",
       "      <th>Education_num</th>\n",
       "      <th>Hours_per_week</th>\n",
       "    </tr>\n",
       "  </thead>\n",
       "  <tbody>\n",
       "    <tr>\n",
       "      <th>0</th>\n",
       "      <td>0.837097</td>\n",
       "      <td>1.008742</td>\n",
       "      <td>1.134779</td>\n",
       "      <td>2.222120</td>\n",
       "    </tr>\n",
       "    <tr>\n",
       "      <th>1</th>\n",
       "      <td>0.042640</td>\n",
       "      <td>0.245046</td>\n",
       "      <td>0.420027</td>\n",
       "      <td>0.035430</td>\n",
       "    </tr>\n",
       "    <tr>\n",
       "      <th>2</th>\n",
       "      <td>1.057031</td>\n",
       "      <td>0.425770</td>\n",
       "      <td>1.197429</td>\n",
       "      <td>0.035430</td>\n",
       "    </tr>\n",
       "    <tr>\n",
       "      <th>3</th>\n",
       "      <td>0.775755</td>\n",
       "      <td>1.408146</td>\n",
       "      <td>1.134779</td>\n",
       "      <td>0.035430</td>\n",
       "    </tr>\n",
       "    <tr>\n",
       "      <th>4</th>\n",
       "      <td>0.115952</td>\n",
       "      <td>0.898170</td>\n",
       "      <td>1.523480</td>\n",
       "      <td>0.035430</td>\n",
       "    </tr>\n",
       "    <tr>\n",
       "      <th>...</th>\n",
       "      <td>...</td>\n",
       "      <td>...</td>\n",
       "      <td>...</td>\n",
       "      <td>...</td>\n",
       "    </tr>\n",
       "    <tr>\n",
       "      <th>32555</th>\n",
       "      <td>0.849066</td>\n",
       "      <td>0.639710</td>\n",
       "      <td>0.746077</td>\n",
       "      <td>0.197407</td>\n",
       "    </tr>\n",
       "    <tr>\n",
       "      <th>32556</th>\n",
       "      <td>0.103982</td>\n",
       "      <td>0.335466</td>\n",
       "      <td>0.420027</td>\n",
       "      <td>0.035430</td>\n",
       "    </tr>\n",
       "    <tr>\n",
       "      <th>32557</th>\n",
       "      <td>1.423589</td>\n",
       "      <td>0.358811</td>\n",
       "      <td>0.420027</td>\n",
       "      <td>0.035430</td>\n",
       "    </tr>\n",
       "    <tr>\n",
       "      <th>32558</th>\n",
       "      <td>1.215624</td>\n",
       "      <td>0.110927</td>\n",
       "      <td>0.420027</td>\n",
       "      <td>1.655200</td>\n",
       "    </tr>\n",
       "    <tr>\n",
       "      <th>32559</th>\n",
       "      <td>0.983720</td>\n",
       "      <td>0.929862</td>\n",
       "      <td>0.420027</td>\n",
       "      <td>0.035430</td>\n",
       "    </tr>\n",
       "  </tbody>\n",
       "</table>\n",
       "<p>32560 rows × 4 columns</p>\n",
       "</div>"
      ],
      "text/plain": [
       "            Age    Fnlwgt  Education_num  Hours_per_week\n",
       "0      0.837097  1.008742       1.134779        2.222120\n",
       "1      0.042640  0.245046       0.420027        0.035430\n",
       "2      1.057031  0.425770       1.197429        0.035430\n",
       "3      0.775755  1.408146       1.134779        0.035430\n",
       "4      0.115952  0.898170       1.523480        0.035430\n",
       "...         ...       ...            ...             ...\n",
       "32555  0.849066  0.639710       0.746077        0.197407\n",
       "32556  0.103982  0.335466       0.420027        0.035430\n",
       "32557  1.423589  0.358811       0.420027        0.035430\n",
       "32558  1.215624  0.110927       0.420027        1.655200\n",
       "32559  0.983720  0.929862       0.420027        0.035430\n",
       "\n",
       "[32560 rows x 4 columns]"
      ]
     },
     "execution_count": 51,
     "metadata": {},
     "output_type": "execute_result"
    }
   ],
   "source": [
    "import scipy as stats\n",
    "from scipy.stats import zscore\n",
    "\n",
    "features = df[['Age','Fnlwgt','Education_num','Hours_per_week']]\n",
    "z=np.abs(zscore(features))\n",
    "\n",
    "z"
   ]
  },
  {
   "cell_type": "code",
   "execution_count": 52,
   "id": "8bc81c86",
   "metadata": {},
   "outputs": [
    {
     "data": {
      "text/html": [
       "<div>\n",
       "<style scoped>\n",
       "    .dataframe tbody tr th:only-of-type {\n",
       "        vertical-align: middle;\n",
       "    }\n",
       "\n",
       "    .dataframe tbody tr th {\n",
       "        vertical-align: top;\n",
       "    }\n",
       "\n",
       "    .dataframe thead th {\n",
       "        text-align: right;\n",
       "    }\n",
       "</style>\n",
       "<table border=\"1\" class=\"dataframe\">\n",
       "  <thead>\n",
       "    <tr style=\"text-align: right;\">\n",
       "      <th></th>\n",
       "      <th>Age</th>\n",
       "      <th>Workclass</th>\n",
       "      <th>Fnlwgt</th>\n",
       "      <th>Education</th>\n",
       "      <th>Education_num</th>\n",
       "      <th>Marital_status</th>\n",
       "      <th>Occupation</th>\n",
       "      <th>Relationship</th>\n",
       "      <th>Race</th>\n",
       "      <th>Sex</th>\n",
       "      <th>Hours_per_week</th>\n",
       "      <th>Native_country</th>\n",
       "      <th>Income</th>\n",
       "    </tr>\n",
       "  </thead>\n",
       "  <tbody>\n",
       "    <tr>\n",
       "      <th>0</th>\n",
       "      <td>50</td>\n",
       "      <td>Pvt-sector</td>\n",
       "      <td>83311</td>\n",
       "      <td>Under_Graduation</td>\n",
       "      <td>13</td>\n",
       "      <td>Married</td>\n",
       "      <td>Exec-managerial</td>\n",
       "      <td>Husband</td>\n",
       "      <td>White</td>\n",
       "      <td>Male</td>\n",
       "      <td>13</td>\n",
       "      <td>United-States</td>\n",
       "      <td>&lt;=50K</td>\n",
       "    </tr>\n",
       "    <tr>\n",
       "      <th>1</th>\n",
       "      <td>38</td>\n",
       "      <td>Pvt-sector</td>\n",
       "      <td>215646</td>\n",
       "      <td>High-School</td>\n",
       "      <td>9</td>\n",
       "      <td>Others</td>\n",
       "      <td>Handlers-cleaners</td>\n",
       "      <td>Not-in-family</td>\n",
       "      <td>White</td>\n",
       "      <td>Male</td>\n",
       "      <td>40</td>\n",
       "      <td>United-States</td>\n",
       "      <td>&lt;=50K</td>\n",
       "    </tr>\n",
       "    <tr>\n",
       "      <th>2</th>\n",
       "      <td>53</td>\n",
       "      <td>Pvt-sector</td>\n",
       "      <td>234721</td>\n",
       "      <td>School</td>\n",
       "      <td>7</td>\n",
       "      <td>Married</td>\n",
       "      <td>Handlers-cleaners</td>\n",
       "      <td>Husband</td>\n",
       "      <td>Black</td>\n",
       "      <td>Male</td>\n",
       "      <td>40</td>\n",
       "      <td>United-States</td>\n",
       "      <td>&lt;=50K</td>\n",
       "    </tr>\n",
       "    <tr>\n",
       "      <th>3</th>\n",
       "      <td>28</td>\n",
       "      <td>Pvt-sector</td>\n",
       "      <td>338409</td>\n",
       "      <td>Under_Graduation</td>\n",
       "      <td>13</td>\n",
       "      <td>Married</td>\n",
       "      <td>Prof-specialty</td>\n",
       "      <td>Wife</td>\n",
       "      <td>Black</td>\n",
       "      <td>Female</td>\n",
       "      <td>40</td>\n",
       "      <td>Cuba</td>\n",
       "      <td>&lt;=50K</td>\n",
       "    </tr>\n",
       "    <tr>\n",
       "      <th>4</th>\n",
       "      <td>37</td>\n",
       "      <td>Pvt-sector</td>\n",
       "      <td>284582</td>\n",
       "      <td>Post_Graduation</td>\n",
       "      <td>14</td>\n",
       "      <td>Married</td>\n",
       "      <td>Exec-managerial</td>\n",
       "      <td>Wife</td>\n",
       "      <td>White</td>\n",
       "      <td>Female</td>\n",
       "      <td>40</td>\n",
       "      <td>United-States</td>\n",
       "      <td>&lt;=50K</td>\n",
       "    </tr>\n",
       "    <tr>\n",
       "      <th>...</th>\n",
       "      <td>...</td>\n",
       "      <td>...</td>\n",
       "      <td>...</td>\n",
       "      <td>...</td>\n",
       "      <td>...</td>\n",
       "      <td>...</td>\n",
       "      <td>...</td>\n",
       "      <td>...</td>\n",
       "      <td>...</td>\n",
       "      <td>...</td>\n",
       "      <td>...</td>\n",
       "      <td>...</td>\n",
       "      <td>...</td>\n",
       "    </tr>\n",
       "    <tr>\n",
       "      <th>32555</th>\n",
       "      <td>27</td>\n",
       "      <td>Pvt-sector</td>\n",
       "      <td>257302</td>\n",
       "      <td>Secondary-School</td>\n",
       "      <td>12</td>\n",
       "      <td>Married</td>\n",
       "      <td>Tech-support</td>\n",
       "      <td>Wife</td>\n",
       "      <td>White</td>\n",
       "      <td>Female</td>\n",
       "      <td>38</td>\n",
       "      <td>United-States</td>\n",
       "      <td>&lt;=50K</td>\n",
       "    </tr>\n",
       "    <tr>\n",
       "      <th>32556</th>\n",
       "      <td>40</td>\n",
       "      <td>Pvt-sector</td>\n",
       "      <td>154374</td>\n",
       "      <td>High-School</td>\n",
       "      <td>9</td>\n",
       "      <td>Married</td>\n",
       "      <td>Machine-op-inspct</td>\n",
       "      <td>Husband</td>\n",
       "      <td>White</td>\n",
       "      <td>Male</td>\n",
       "      <td>40</td>\n",
       "      <td>United-States</td>\n",
       "      <td>&gt;50K</td>\n",
       "    </tr>\n",
       "    <tr>\n",
       "      <th>32557</th>\n",
       "      <td>58</td>\n",
       "      <td>Pvt-sector</td>\n",
       "      <td>151910</td>\n",
       "      <td>High-School</td>\n",
       "      <td>9</td>\n",
       "      <td>Others</td>\n",
       "      <td>Adm-clerical</td>\n",
       "      <td>Unmarried</td>\n",
       "      <td>White</td>\n",
       "      <td>Female</td>\n",
       "      <td>40</td>\n",
       "      <td>United-States</td>\n",
       "      <td>&lt;=50K</td>\n",
       "    </tr>\n",
       "    <tr>\n",
       "      <th>32558</th>\n",
       "      <td>22</td>\n",
       "      <td>Pvt-sector</td>\n",
       "      <td>201490</td>\n",
       "      <td>High-School</td>\n",
       "      <td>9</td>\n",
       "      <td>Single</td>\n",
       "      <td>Adm-clerical</td>\n",
       "      <td>Own-child</td>\n",
       "      <td>White</td>\n",
       "      <td>Male</td>\n",
       "      <td>20</td>\n",
       "      <td>United-States</td>\n",
       "      <td>&lt;=50K</td>\n",
       "    </tr>\n",
       "    <tr>\n",
       "      <th>32559</th>\n",
       "      <td>52</td>\n",
       "      <td>Pvt-sector</td>\n",
       "      <td>287927</td>\n",
       "      <td>High-School</td>\n",
       "      <td>9</td>\n",
       "      <td>Married</td>\n",
       "      <td>Exec-managerial</td>\n",
       "      <td>Wife</td>\n",
       "      <td>White</td>\n",
       "      <td>Female</td>\n",
       "      <td>40</td>\n",
       "      <td>United-States</td>\n",
       "      <td>&gt;50K</td>\n",
       "    </tr>\n",
       "  </tbody>\n",
       "</table>\n",
       "<p>31461 rows × 13 columns</p>\n",
       "</div>"
      ],
      "text/plain": [
       "       Age    Workclass  Fnlwgt          Education  Education_num  \\\n",
       "0       50   Pvt-sector   83311   Under_Graduation             13   \n",
       "1       38   Pvt-sector  215646        High-School              9   \n",
       "2       53   Pvt-sector  234721             School              7   \n",
       "3       28   Pvt-sector  338409   Under_Graduation             13   \n",
       "4       37   Pvt-sector  284582    Post_Graduation             14   \n",
       "...    ...          ...     ...                ...            ...   \n",
       "32555   27   Pvt-sector  257302   Secondary-School             12   \n",
       "32556   40   Pvt-sector  154374        High-School              9   \n",
       "32557   58   Pvt-sector  151910        High-School              9   \n",
       "32558   22   Pvt-sector  201490        High-School              9   \n",
       "32559   52   Pvt-sector  287927        High-School              9   \n",
       "\n",
       "      Marital_status          Occupation    Relationship    Race      Sex  \\\n",
       "0            Married     Exec-managerial         Husband   White     Male   \n",
       "1             Others   Handlers-cleaners   Not-in-family   White     Male   \n",
       "2            Married   Handlers-cleaners         Husband   Black     Male   \n",
       "3            Married      Prof-specialty            Wife   Black   Female   \n",
       "4            Married     Exec-managerial            Wife   White   Female   \n",
       "...              ...                 ...             ...     ...      ...   \n",
       "32555        Married        Tech-support            Wife   White   Female   \n",
       "32556        Married   Machine-op-inspct         Husband   White     Male   \n",
       "32557         Others        Adm-clerical       Unmarried   White   Female   \n",
       "32558         Single        Adm-clerical       Own-child   White     Male   \n",
       "32559        Married     Exec-managerial            Wife   White   Female   \n",
       "\n",
       "       Hours_per_week  Native_country  Income  \n",
       "0                  13   United-States   <=50K  \n",
       "1                  40   United-States   <=50K  \n",
       "2                  40   United-States   <=50K  \n",
       "3                  40            Cuba   <=50K  \n",
       "4                  40   United-States   <=50K  \n",
       "...               ...             ...     ...  \n",
       "32555              38   United-States   <=50K  \n",
       "32556              40   United-States    >50K  \n",
       "32557              40   United-States   <=50K  \n",
       "32558              20   United-States   <=50K  \n",
       "32559              40   United-States    >50K  \n",
       "\n",
       "[31461 rows x 13 columns]"
      ]
     },
     "execution_count": 52,
     "metadata": {},
     "output_type": "execute_result"
    }
   ],
   "source": [
    "new_df = df[(z<3).all(axis=1)]\n",
    "new_df"
   ]
  },
  {
   "cell_type": "markdown",
   "id": "f7d23dc3",
   "metadata": {},
   "source": [
    "### Checking the skewness of the dataset"
   ]
  },
  {
   "cell_type": "code",
   "execution_count": 53,
   "id": "e4265cc0",
   "metadata": {},
   "outputs": [
    {
     "data": {
      "text/plain": [
       "Hours_per_week   -0.341724\n",
       "Education_num    -0.159752\n",
       "Age               0.472279\n",
       "Fnlwgt            0.634828\n",
       "dtype: float64"
      ]
     },
     "execution_count": 53,
     "metadata": {},
     "output_type": "execute_result"
    }
   ],
   "source": [
    "new_df.skew().sort_values()"
   ]
  },
  {
   "cell_type": "markdown",
   "id": "f9864315",
   "metadata": {},
   "source": [
    "There is skewness only in the Final Weight column"
   ]
  },
  {
   "cell_type": "markdown",
   "id": "39d568cd",
   "metadata": {},
   "source": [
    "### Removing the skewness "
   ]
  },
  {
   "cell_type": "code",
   "execution_count": 55,
   "id": "d8992d56",
   "metadata": {},
   "outputs": [],
   "source": [
    "new_df['Fnlwgt'] = np.cbrt(df['Fnlwgt'])"
   ]
  },
  {
   "cell_type": "code",
   "execution_count": 56,
   "id": "4962b405",
   "metadata": {},
   "outputs": [
    {
     "data": {
      "text/plain": [
       "Fnlwgt           -0.376609\n",
       "Hours_per_week   -0.341724\n",
       "Education_num    -0.159752\n",
       "Age               0.472279\n",
       "dtype: float64"
      ]
     },
     "execution_count": 56,
     "metadata": {},
     "output_type": "execute_result"
    }
   ],
   "source": [
    "new_df.skew().sort_values()"
   ]
  },
  {
   "cell_type": "code",
   "execution_count": 57,
   "id": "7a77e971",
   "metadata": {},
   "outputs": [
    {
     "data": {
      "text/plain": [
       "<AxesSubplot:xlabel='Fnlwgt', ylabel='Density'>"
      ]
     },
     "execution_count": 57,
     "metadata": {},
     "output_type": "execute_result"
    },
    {
     "data": {
      "image/png": "[encoded data removed]",
      "text/plain": [
       "<Figure size 432x288 with 1 Axes>"
      ]
     },
     "metadata": {
      "needs_background": "light"
     },
     "output_type": "display_data"
    }
   ],
   "source": [
    "sns.distplot(new_df[\"Fnlwgt\"],color=\"green\",kde_kws={\"shade\": True},hist=False);"
   ]
  },
  {
   "cell_type": "markdown",
   "id": "42b40c98",
   "metadata": {},
   "source": [
    "### Encoding"
   ]
  },
  {
   "cell_type": "code",
   "execution_count": 58,
   "id": "92fb51bf",
   "metadata": {},
   "outputs": [],
   "source": [
    "categorical_col = ['Workclass', 'Education', 'Marital_status', 'Occupation', 'Relationship', 'Race', 'Sex', 'Native_country', 'Income']\n",
    "\n",
    "from sklearn.preprocessing import LabelEncoder\n",
    "LE=LabelEncoder()\n",
    "new_df[categorical_col]= new_df[categorical_col].apply(LE.fit_transform)"
   ]
  },
  {
   "cell_type": "code",
   "execution_count": 59,
   "id": "c2293a1e",
   "metadata": {},
   "outputs": [
    {
     "data": {
      "text/html": [
       "<div>\n",
       "<style scoped>\n",
       "    .dataframe tbody tr th:only-of-type {\n",
       "        vertical-align: middle;\n",
       "    }\n",
       "\n",
       "    .dataframe tbody tr th {\n",
       "        vertical-align: top;\n",
       "    }\n",
       "\n",
       "    .dataframe thead th {\n",
       "        text-align: right;\n",
       "    }\n",
       "</style>\n",
       "<table border=\"1\" class=\"dataframe\">\n",
       "  <thead>\n",
       "    <tr style=\"text-align: right;\">\n",
       "      <th></th>\n",
       "      <th>Workclass</th>\n",
       "      <th>Education</th>\n",
       "      <th>Marital_status</th>\n",
       "      <th>Occupation</th>\n",
       "      <th>Relationship</th>\n",
       "      <th>Race</th>\n",
       "      <th>Sex</th>\n",
       "      <th>Native_country</th>\n",
       "      <th>Income</th>\n",
       "    </tr>\n",
       "  </thead>\n",
       "  <tbody>\n",
       "    <tr>\n",
       "      <th>0</th>\n",
       "      <td>1</td>\n",
       "      <td>3</td>\n",
       "      <td>0</td>\n",
       "      <td>3</td>\n",
       "      <td>0</td>\n",
       "      <td>4</td>\n",
       "      <td>1</td>\n",
       "      <td>38</td>\n",
       "      <td>0</td>\n",
       "    </tr>\n",
       "    <tr>\n",
       "      <th>1</th>\n",
       "      <td>1</td>\n",
       "      <td>0</td>\n",
       "      <td>1</td>\n",
       "      <td>5</td>\n",
       "      <td>1</td>\n",
       "      <td>4</td>\n",
       "      <td>1</td>\n",
       "      <td>38</td>\n",
       "      <td>0</td>\n",
       "    </tr>\n",
       "    <tr>\n",
       "      <th>2</th>\n",
       "      <td>1</td>\n",
       "      <td>5</td>\n",
       "      <td>0</td>\n",
       "      <td>5</td>\n",
       "      <td>0</td>\n",
       "      <td>2</td>\n",
       "      <td>1</td>\n",
       "      <td>38</td>\n",
       "      <td>0</td>\n",
       "    </tr>\n",
       "    <tr>\n",
       "      <th>3</th>\n",
       "      <td>1</td>\n",
       "      <td>3</td>\n",
       "      <td>0</td>\n",
       "      <td>9</td>\n",
       "      <td>5</td>\n",
       "      <td>2</td>\n",
       "      <td>0</td>\n",
       "      <td>4</td>\n",
       "      <td>0</td>\n",
       "    </tr>\n",
       "    <tr>\n",
       "      <th>4</th>\n",
       "      <td>1</td>\n",
       "      <td>4</td>\n",
       "      <td>0</td>\n",
       "      <td>3</td>\n",
       "      <td>5</td>\n",
       "      <td>4</td>\n",
       "      <td>0</td>\n",
       "      <td>38</td>\n",
       "      <td>0</td>\n",
       "    </tr>\n",
       "    <tr>\n",
       "      <th>...</th>\n",
       "      <td>...</td>\n",
       "      <td>...</td>\n",
       "      <td>...</td>\n",
       "      <td>...</td>\n",
       "      <td>...</td>\n",
       "      <td>...</td>\n",
       "      <td>...</td>\n",
       "      <td>...</td>\n",
       "      <td>...</td>\n",
       "    </tr>\n",
       "    <tr>\n",
       "      <th>32555</th>\n",
       "      <td>1</td>\n",
       "      <td>2</td>\n",
       "      <td>0</td>\n",
       "      <td>12</td>\n",
       "      <td>5</td>\n",
       "      <td>4</td>\n",
       "      <td>0</td>\n",
       "      <td>38</td>\n",
       "      <td>0</td>\n",
       "    </tr>\n",
       "    <tr>\n",
       "      <th>32556</th>\n",
       "      <td>1</td>\n",
       "      <td>0</td>\n",
       "      <td>0</td>\n",
       "      <td>6</td>\n",
       "      <td>0</td>\n",
       "      <td>4</td>\n",
       "      <td>1</td>\n",
       "      <td>38</td>\n",
       "      <td>1</td>\n",
       "    </tr>\n",
       "    <tr>\n",
       "      <th>32557</th>\n",
       "      <td>1</td>\n",
       "      <td>0</td>\n",
       "      <td>1</td>\n",
       "      <td>0</td>\n",
       "      <td>4</td>\n",
       "      <td>4</td>\n",
       "      <td>0</td>\n",
       "      <td>38</td>\n",
       "      <td>0</td>\n",
       "    </tr>\n",
       "    <tr>\n",
       "      <th>32558</th>\n",
       "      <td>1</td>\n",
       "      <td>0</td>\n",
       "      <td>2</td>\n",
       "      <td>0</td>\n",
       "      <td>3</td>\n",
       "      <td>4</td>\n",
       "      <td>1</td>\n",
       "      <td>38</td>\n",
       "      <td>0</td>\n",
       "    </tr>\n",
       "    <tr>\n",
       "      <th>32559</th>\n",
       "      <td>1</td>\n",
       "      <td>0</td>\n",
       "      <td>0</td>\n",
       "      <td>3</td>\n",
       "      <td>5</td>\n",
       "      <td>4</td>\n",
       "      <td>0</td>\n",
       "      <td>38</td>\n",
       "      <td>1</td>\n",
       "    </tr>\n",
       "  </tbody>\n",
       "</table>\n",
       "<p>31461 rows × 9 columns</p>\n",
       "</div>"
      ],
      "text/plain": [
       "       Workclass  Education  Marital_status  Occupation  Relationship  Race  \\\n",
       "0              1          3               0           3             0     4   \n",
       "1              1          0               1           5             1     4   \n",
       "2              1          5               0           5             0     2   \n",
       "3              1          3               0           9             5     2   \n",
       "4              1          4               0           3             5     4   \n",
       "...          ...        ...             ...         ...           ...   ...   \n",
       "32555          1          2               0          12             5     4   \n",
       "32556          1          0               0           6             0     4   \n",
       "32557          1          0               1           0             4     4   \n",
       "32558          1          0               2           0             3     4   \n",
       "32559          1          0               0           3             5     4   \n",
       "\n",
       "       Sex  Native_country  Income  \n",
       "0        1              38       0  \n",
       "1        1              38       0  \n",
       "2        1              38       0  \n",
       "3        0               4       0  \n",
       "4        0              38       0  \n",
       "...    ...             ...     ...  \n",
       "32555    0              38       0  \n",
       "32556    1              38       1  \n",
       "32557    0              38       0  \n",
       "32558    1              38       0  \n",
       "32559    0              38       1  \n",
       "\n",
       "[31461 rows x 9 columns]"
      ]
     },
     "execution_count": 59,
     "metadata": {},
     "output_type": "execute_result"
    }
   ],
   "source": [
    "new_df[categorical_col]"
   ]
  },
  {
   "cell_type": "markdown",
   "id": "761def15",
   "metadata": {},
   "source": [
    "Categorical columns has been encoded and ready for modelling. New dataset has 31461 rows and 9 columns"
   ]
  },
  {
   "cell_type": "markdown",
   "id": "d0453fd5",
   "metadata": {},
   "source": [
    "### Checking Co-relation"
   ]
  },
  {
   "cell_type": "code",
   "execution_count": 61,
   "id": "060cb313",
   "metadata": {},
   "outputs": [
    {
     "data": {
      "text/plain": [
       "(array([ 0.5,  1.5,  2.5,  3.5,  4.5,  5.5,  6.5,  7.5,  8.5,  9.5, 10.5,\n",
       "        11.5, 12.5]),\n",
       " [Text(0, 0.5, 'Age'),\n",
       "  Text(0, 1.5, 'Workclass'),\n",
       "  Text(0, 2.5, 'Fnlwgt'),\n",
       "  Text(0, 3.5, 'Education'),\n",
       "  Text(0, 4.5, 'Education_num'),\n",
       "  Text(0, 5.5, 'Marital_status'),\n",
       "  Text(0, 6.5, 'Occupation'),\n",
       "  Text(0, 7.5, 'Relationship'),\n",
       "  Text(0, 8.5, 'Race'),\n",
       "  Text(0, 9.5, 'Sex'),\n",
       "  Text(0, 10.5, 'Hours_per_week'),\n",
       "  Text(0, 11.5, 'Native_country'),\n",
       "  Text(0, 12.5, 'Income')])"
      ]
     },
     "execution_count": 61,
     "metadata": {},
     "output_type": "execute_result"
    },
    {
     "data": {
      "image/png": "[encoded data removed]",
      "text/plain": [
       "<Figure size 1080x720 with 2 Axes>"
      ]
     },
     "metadata": {
      "needs_background": "light"
     },
     "output_type": "display_data"
    }
   ],
   "source": [
    "corr=new_df.corr()\n",
    "plt.figure(figsize=(15,10))\n",
    "sns.heatmap(new_df.corr(),linewidths=.1,vmin=-1, vmax=1, fmt='.1g', annot = True, linecolor=\"black\",annot_kws={'size':10},cmap=\"YlGnBu\")\n",
    "plt.yticks(rotation=0)"
   ]
  },
  {
   "cell_type": "code",
   "execution_count": 62,
   "id": "2296fb4a",
   "metadata": {},
   "outputs": [
    {
     "data": {
      "text/plain": [
       "Income            1.000000\n",
       "Education_num     0.337595\n",
       "Age               0.248351\n",
       "Hours_per_week    0.242383\n",
       "Sex               0.216665\n",
       "Race              0.072451\n",
       "Occupation        0.034612\n",
       "Education         0.034278\n",
       "Native_country    0.017698\n",
       "Fnlwgt           -0.002780\n",
       "Workclass        -0.062963\n",
       "Relationship     -0.251506\n",
       "Marital_status   -0.425904\n",
       "Name: Income, dtype: float64"
      ]
     },
     "execution_count": 62,
     "metadata": {},
     "output_type": "execute_result"
    }
   ],
   "source": [
    "corr['Income'].sort_values(ascending=False)"
   ]
  },
  {
   "cell_type": "code",
   "execution_count": 63,
   "id": "6e7f96e2",
   "metadata": {},
   "outputs": [],
   "source": [
    "X = new_df.drop('Income',axis=1)\n",
    "Y = new_df['Income']"
   ]
  },
  {
   "cell_type": "markdown",
   "id": "cbe65149",
   "metadata": {},
   "source": [
    "### Standard Scalarization"
   ]
  },
  {
   "cell_type": "code",
   "execution_count": 64,
   "id": "8ff525c2",
   "metadata": {},
   "outputs": [
    {
     "data": {
      "text/html": [
       "<div>\n",
       "<style scoped>\n",
       "    .dataframe tbody tr th:only-of-type {\n",
       "        vertical-align: middle;\n",
       "    }\n",
       "\n",
       "    .dataframe tbody tr th {\n",
       "        vertical-align: top;\n",
       "    }\n",
       "\n",
       "    .dataframe thead th {\n",
       "        text-align: right;\n",
       "    }\n",
       "</style>\n",
       "<table border=\"1\" class=\"dataframe\">\n",
       "  <thead>\n",
       "    <tr style=\"text-align: right;\">\n",
       "      <th></th>\n",
       "      <th>Age</th>\n",
       "      <th>Workclass</th>\n",
       "      <th>Fnlwgt</th>\n",
       "      <th>Education</th>\n",
       "      <th>Education_num</th>\n",
       "      <th>Marital_status</th>\n",
       "      <th>Occupation</th>\n",
       "      <th>Relationship</th>\n",
       "      <th>Race</th>\n",
       "      <th>Sex</th>\n",
       "      <th>Hours_per_week</th>\n",
       "      <th>Native_country</th>\n",
       "    </tr>\n",
       "  </thead>\n",
       "  <tbody>\n",
       "    <tr>\n",
       "      <th>0</th>\n",
       "      <td>0.875057</td>\n",
       "      <td>0.392103</td>\n",
       "      <td>-1.102052</td>\n",
       "      <td>0.621080</td>\n",
       "      <td>1.154324</td>\n",
       "      <td>-0.990371</td>\n",
       "      <td>-0.784335</td>\n",
       "      <td>-0.903178</td>\n",
       "      <td>0.391304</td>\n",
       "      <td>0.706601</td>\n",
       "      <td>-2.424121</td>\n",
       "      <td>0.254062</td>\n",
       "    </tr>\n",
       "    <tr>\n",
       "      <th>1</th>\n",
       "      <td>-0.025350</td>\n",
       "      <td>0.392103</td>\n",
       "      <td>0.464976</td>\n",
       "      <td>-1.149684</td>\n",
       "      <td>-0.459657</td>\n",
       "      <td>0.147158</td>\n",
       "      <td>-0.282327</td>\n",
       "      <td>-0.281938</td>\n",
       "      <td>0.391304</td>\n",
       "      <td>0.706601</td>\n",
       "      <td>-0.008364</td>\n",
       "      <td>0.254062</td>\n",
       "    </tr>\n",
       "    <tr>\n",
       "      <th>2</th>\n",
       "      <td>1.100158</td>\n",
       "      <td>0.392103</td>\n",
       "      <td>0.630260</td>\n",
       "      <td>1.801589</td>\n",
       "      <td>-1.266647</td>\n",
       "      <td>-0.990371</td>\n",
       "      <td>-0.282327</td>\n",
       "      <td>-0.903178</td>\n",
       "      <td>-1.969806</td>\n",
       "      <td>0.706601</td>\n",
       "      <td>-0.008364</td>\n",
       "      <td>0.254062</td>\n",
       "    </tr>\n",
       "    <tr>\n",
       "      <th>3</th>\n",
       "      <td>-0.775689</td>\n",
       "      <td>0.392103</td>\n",
       "      <td>1.399791</td>\n",
       "      <td>0.621080</td>\n",
       "      <td>1.154324</td>\n",
       "      <td>-0.990371</td>\n",
       "      <td>0.721690</td>\n",
       "      <td>2.203019</td>\n",
       "      <td>-1.969806</td>\n",
       "      <td>-1.415226</td>\n",
       "      <td>-0.008364</td>\n",
       "      <td>-5.457546</td>\n",
       "    </tr>\n",
       "    <tr>\n",
       "      <th>4</th>\n",
       "      <td>-0.100384</td>\n",
       "      <td>0.392103</td>\n",
       "      <td>1.023711</td>\n",
       "      <td>1.211335</td>\n",
       "      <td>1.557819</td>\n",
       "      <td>-0.990371</td>\n",
       "      <td>-0.784335</td>\n",
       "      <td>2.203019</td>\n",
       "      <td>0.391304</td>\n",
       "      <td>-1.415226</td>\n",
       "      <td>-0.008364</td>\n",
       "      <td>0.254062</td>\n",
       "    </tr>\n",
       "    <tr>\n",
       "      <th>...</th>\n",
       "      <td>...</td>\n",
       "      <td>...</td>\n",
       "      <td>...</td>\n",
       "      <td>...</td>\n",
       "      <td>...</td>\n",
       "      <td>...</td>\n",
       "      <td>...</td>\n",
       "      <td>...</td>\n",
       "      <td>...</td>\n",
       "      <td>...</td>\n",
       "      <td>...</td>\n",
       "      <td>...</td>\n",
       "    </tr>\n",
       "    <tr>\n",
       "      <th>31456</th>\n",
       "      <td>-0.850723</td>\n",
       "      <td>0.392103</td>\n",
       "      <td>0.814728</td>\n",
       "      <td>0.030825</td>\n",
       "      <td>0.750829</td>\n",
       "      <td>-0.990371</td>\n",
       "      <td>1.474703</td>\n",
       "      <td>2.203019</td>\n",
       "      <td>0.391304</td>\n",
       "      <td>-1.415226</td>\n",
       "      <td>-0.187309</td>\n",
       "      <td>0.254062</td>\n",
       "    </tr>\n",
       "    <tr>\n",
       "      <th>31457</th>\n",
       "      <td>0.124718</td>\n",
       "      <td>0.392103</td>\n",
       "      <td>-0.143169</td>\n",
       "      <td>-1.149684</td>\n",
       "      <td>-0.459657</td>\n",
       "      <td>-0.990371</td>\n",
       "      <td>-0.031323</td>\n",
       "      <td>-0.903178</td>\n",
       "      <td>0.391304</td>\n",
       "      <td>0.706601</td>\n",
       "      <td>-0.008364</td>\n",
       "      <td>0.254062</td>\n",
       "    </tr>\n",
       "    <tr>\n",
       "      <th>31458</th>\n",
       "      <td>1.475327</td>\n",
       "      <td>0.392103</td>\n",
       "      <td>-0.170768</td>\n",
       "      <td>-1.149684</td>\n",
       "      <td>-0.459657</td>\n",
       "      <td>0.147158</td>\n",
       "      <td>-1.537348</td>\n",
       "      <td>1.581780</td>\n",
       "      <td>0.391304</td>\n",
       "      <td>-1.415226</td>\n",
       "      <td>-0.008364</td>\n",
       "      <td>0.254062</td>\n",
       "    </tr>\n",
       "    <tr>\n",
       "      <th>31459</th>\n",
       "      <td>-1.225892</td>\n",
       "      <td>0.392103</td>\n",
       "      <td>0.335900</td>\n",
       "      <td>-1.149684</td>\n",
       "      <td>-0.459657</td>\n",
       "      <td>1.284688</td>\n",
       "      <td>-1.537348</td>\n",
       "      <td>0.960541</td>\n",
       "      <td>0.391304</td>\n",
       "      <td>0.706601</td>\n",
       "      <td>-1.797814</td>\n",
       "      <td>0.254062</td>\n",
       "    </tr>\n",
       "    <tr>\n",
       "      <th>31460</th>\n",
       "      <td>1.025124</td>\n",
       "      <td>0.392103</td>\n",
       "      <td>1.048402</td>\n",
       "      <td>-1.149684</td>\n",
       "      <td>-0.459657</td>\n",
       "      <td>-0.990371</td>\n",
       "      <td>-0.784335</td>\n",
       "      <td>2.203019</td>\n",
       "      <td>0.391304</td>\n",
       "      <td>-1.415226</td>\n",
       "      <td>-0.008364</td>\n",
       "      <td>0.254062</td>\n",
       "    </tr>\n",
       "  </tbody>\n",
       "</table>\n",
       "<p>31461 rows × 12 columns</p>\n",
       "</div>"
      ],
      "text/plain": [
       "            Age  Workclass    Fnlwgt  Education  Education_num  \\\n",
       "0      0.875057   0.392103 -1.102052   0.621080       1.154324   \n",
       "1     -0.025350   0.392103  0.464976  -1.149684      -0.459657   \n",
       "2      1.100158   0.392103  0.630260   1.801589      -1.266647   \n",
       "3     -0.775689   0.392103  1.399791   0.621080       1.154324   \n",
       "4     -0.100384   0.392103  1.023711   1.211335       1.557819   \n",
       "...         ...        ...       ...        ...            ...   \n",
       "31456 -0.850723   0.392103  0.814728   0.030825       0.750829   \n",
       "31457  0.124718   0.392103 -0.143169  -1.149684      -0.459657   \n",
       "31458  1.475327   0.392103 -0.170768  -1.149684      -0.459657   \n",
       "31459 -1.225892   0.392103  0.335900  -1.149684      -0.459657   \n",
       "31460  1.025124   0.392103  1.048402  -1.149684      -0.459657   \n",
       "\n",
       "       Marital_status  Occupation  Relationship      Race       Sex  \\\n",
       "0           -0.990371   -0.784335     -0.903178  0.391304  0.706601   \n",
       "1            0.147158   -0.282327     -0.281938  0.391304  0.706601   \n",
       "2           -0.990371   -0.282327     -0.903178 -1.969806  0.706601   \n",
       "3           -0.990371    0.721690      2.203019 -1.969806 -1.415226   \n",
       "4           -0.990371   -0.784335      2.203019  0.391304 -1.415226   \n",
       "...               ...         ...           ...       ...       ...   \n",
       "31456       -0.990371    1.474703      2.203019  0.391304 -1.415226   \n",
       "31457       -0.990371   -0.031323     -0.903178  0.391304  0.706601   \n",
       "31458        0.147158   -1.537348      1.581780  0.391304 -1.415226   \n",
       "31459        1.284688   -1.537348      0.960541  0.391304  0.706601   \n",
       "31460       -0.990371   -0.784335      2.203019  0.391304 -1.415226   \n",
       "\n",
       "       Hours_per_week  Native_country  \n",
       "0           -2.424121        0.254062  \n",
       "1           -0.008364        0.254062  \n",
       "2           -0.008364        0.254062  \n",
       "3           -0.008364       -5.457546  \n",
       "4           -0.008364        0.254062  \n",
       "...               ...             ...  \n",
       "31456       -0.187309        0.254062  \n",
       "31457       -0.008364        0.254062  \n",
       "31458       -0.008364        0.254062  \n",
       "31459       -1.797814        0.254062  \n",
       "31460       -0.008364        0.254062  \n",
       "\n",
       "[31461 rows x 12 columns]"
      ]
     },
     "execution_count": 64,
     "metadata": {},
     "output_type": "execute_result"
    }
   ],
   "source": [
    "from sklearn.preprocessing import StandardScaler\n",
    "scaler = StandardScaler()\n",
    "X = pd.DataFrame(scaler.fit_transform(X), columns=X.columns)\n",
    "X"
   ]
  },
  {
   "cell_type": "markdown",
   "id": "5ba54a62",
   "metadata": {},
   "source": [
    "### Oversampling (SMOTE)"
   ]
  },
  {
   "cell_type": "code",
   "execution_count": 66,
   "id": "c84284f0",
   "metadata": {},
   "outputs": [],
   "source": [
    "from imblearn.over_sampling import SMOTE\n",
    "SM = SMOTE()\n",
    "X, Y = SM.fit_resample(X,Y)"
   ]
  },
  {
   "cell_type": "code",
   "execution_count": 67,
   "id": "b636b31c",
   "metadata": {},
   "outputs": [
    {
     "data": {
      "text/plain": [
       "0    23853\n",
       "1    23853\n",
       "Name: Income, dtype: int64"
      ]
     },
     "execution_count": 67,
     "metadata": {},
     "output_type": "execute_result"
    }
   ],
   "source": [
    "Y.value_counts()"
   ]
  },
  {
   "cell_type": "code",
   "execution_count": 68,
   "id": "583e163e",
   "metadata": {},
   "outputs": [
    {
     "data": {
      "text/html": [
       "<div>\n",
       "<style scoped>\n",
       "    .dataframe tbody tr th:only-of-type {\n",
       "        vertical-align: middle;\n",
       "    }\n",
       "\n",
       "    .dataframe tbody tr th {\n",
       "        vertical-align: top;\n",
       "    }\n",
       "\n",
       "    .dataframe thead th {\n",
       "        text-align: right;\n",
       "    }\n",
       "</style>\n",
       "<table border=\"1\" class=\"dataframe\">\n",
       "  <thead>\n",
       "    <tr style=\"text-align: right;\">\n",
       "      <th></th>\n",
       "      <th>Age</th>\n",
       "      <th>Workclass</th>\n",
       "      <th>Fnlwgt</th>\n",
       "      <th>Education</th>\n",
       "      <th>Education_num</th>\n",
       "      <th>Marital_status</th>\n",
       "      <th>Occupation</th>\n",
       "      <th>Relationship</th>\n",
       "      <th>Race</th>\n",
       "      <th>Sex</th>\n",
       "      <th>Hours_per_week</th>\n",
       "      <th>Native_country</th>\n",
       "      <th>Income</th>\n",
       "    </tr>\n",
       "  </thead>\n",
       "  <tbody>\n",
       "    <tr>\n",
       "      <th>0</th>\n",
       "      <td>50</td>\n",
       "      <td>1</td>\n",
       "      <td>43.675121</td>\n",
       "      <td>3</td>\n",
       "      <td>13</td>\n",
       "      <td>0</td>\n",
       "      <td>3</td>\n",
       "      <td>0</td>\n",
       "      <td>4</td>\n",
       "      <td>1</td>\n",
       "      <td>13</td>\n",
       "      <td>38</td>\n",
       "      <td>0</td>\n",
       "    </tr>\n",
       "    <tr>\n",
       "      <th>1</th>\n",
       "      <td>38</td>\n",
       "      <td>1</td>\n",
       "      <td>59.967204</td>\n",
       "      <td>0</td>\n",
       "      <td>9</td>\n",
       "      <td>1</td>\n",
       "      <td>5</td>\n",
       "      <td>1</td>\n",
       "      <td>4</td>\n",
       "      <td>1</td>\n",
       "      <td>40</td>\n",
       "      <td>38</td>\n",
       "      <td>0</td>\n",
       "    </tr>\n",
       "    <tr>\n",
       "      <th>2</th>\n",
       "      <td>53</td>\n",
       "      <td>1</td>\n",
       "      <td>61.685627</td>\n",
       "      <td>5</td>\n",
       "      <td>7</td>\n",
       "      <td>0</td>\n",
       "      <td>5</td>\n",
       "      <td>0</td>\n",
       "      <td>2</td>\n",
       "      <td>1</td>\n",
       "      <td>40</td>\n",
       "      <td>38</td>\n",
       "      <td>0</td>\n",
       "    </tr>\n",
       "    <tr>\n",
       "      <th>3</th>\n",
       "      <td>28</td>\n",
       "      <td>1</td>\n",
       "      <td>69.686283</td>\n",
       "      <td>3</td>\n",
       "      <td>13</td>\n",
       "      <td>0</td>\n",
       "      <td>9</td>\n",
       "      <td>5</td>\n",
       "      <td>2</td>\n",
       "      <td>0</td>\n",
       "      <td>40</td>\n",
       "      <td>4</td>\n",
       "      <td>0</td>\n",
       "    </tr>\n",
       "    <tr>\n",
       "      <th>4</th>\n",
       "      <td>37</td>\n",
       "      <td>1</td>\n",
       "      <td>65.776255</td>\n",
       "      <td>4</td>\n",
       "      <td>14</td>\n",
       "      <td>0</td>\n",
       "      <td>3</td>\n",
       "      <td>5</td>\n",
       "      <td>4</td>\n",
       "      <td>0</td>\n",
       "      <td>40</td>\n",
       "      <td>38</td>\n",
       "      <td>0</td>\n",
       "    </tr>\n",
       "  </tbody>\n",
       "</table>\n",
       "</div>"
      ],
      "text/plain": [
       "   Age  Workclass     Fnlwgt  Education  Education_num  Marital_status  \\\n",
       "0   50          1  43.675121          3             13               0   \n",
       "1   38          1  59.967204          0              9               1   \n",
       "2   53          1  61.685627          5              7               0   \n",
       "3   28          1  69.686283          3             13               0   \n",
       "4   37          1  65.776255          4             14               0   \n",
       "\n",
       "   Occupation  Relationship  Race  Sex  Hours_per_week  Native_country  Income  \n",
       "0           3             0     4    1              13              38       0  \n",
       "1           5             1     4    1              40              38       0  \n",
       "2           5             0     2    1              40              38       0  \n",
       "3           9             5     2    0              40               4       0  \n",
       "4           3             5     4    0              40              38       0  "
      ]
     },
     "execution_count": 68,
     "metadata": {},
     "output_type": "execute_result"
    }
   ],
   "source": [
    "new_df.head()"
   ]
  },
  {
   "cell_type": "markdown",
   "id": "1abd7b72",
   "metadata": {},
   "source": [
    "### Model"
   ]
  },
  {
   "cell_type": "code",
   "execution_count": 71,
   "id": "527ee245",
   "metadata": {},
   "outputs": [
    {
     "name": "stdout",
     "output_type": "stream",
     "text": [
      "Best accuracy is  0.8853409726103969  on Random_state  43\n"
     ]
    }
   ],
   "source": [
    "from sklearn.ensemble import RandomForestClassifier\n",
    "from sklearn.model_selection import train_test_split\n",
    "from sklearn.metrics import accuracy_score,mean_absolute_error,mean_squared_error\n",
    "maxAccu=0\n",
    "maxRS=0\n",
    "\n",
    "for i in range(1,200):\n",
    "    X_train,X_test, Y_train, Y_test=train_test_split(X,Y,test_size=.30, random_state=i)\n",
    "    RFC=RandomForestClassifier()\n",
    "    RFC.fit(X_train,Y_train)\n",
    "    predRFC=RFC.predict(X_test)\n",
    "    acc=accuracy_score(Y_test,predRFC)\n",
    "    if acc>maxAccu:\n",
    "        maxAccu=acc\n",
    "        maxRS=i\n",
    "print(\"Best accuracy is \",maxAccu,\" on Random_state \",maxRS)"
   ]
  },
  {
   "cell_type": "markdown",
   "id": "1b0218af",
   "metadata": {},
   "source": [
    "### Creating Train_Test_Split"
   ]
  },
  {
   "cell_type": "code",
   "execution_count": 74,
   "id": "f82bf0a9",
   "metadata": {},
   "outputs": [],
   "source": [
    "X_train,X_test,Y_train,Y_test =train_test_split(X,Y,test_size=.3,random_state=maxRS)"
   ]
  },
  {
   "cell_type": "markdown",
   "id": "47921937",
   "metadata": {},
   "source": [
    "### Logistic Regression"
   ]
  },
  {
   "cell_type": "code",
   "execution_count": 76,
   "id": "ceb76133",
   "metadata": {},
   "outputs": [
    {
     "name": "stdout",
     "output_type": "stream",
     "text": [
      "R2 Score: 0.1760515470450562\n",
      "Mean Absolute Error 0.20598099496925656\n",
      "Mean Squared Error 0.20598099496925656\n",
      "Root Mean Squared Error 0.4538512916906336\n",
      "-----------------------------------------------------\n",
      "0.7940190050307434\n",
      "-----------------------------------------------------\n",
      "[[5342 1775]\n",
      " [1173 6022]]\n",
      "-----------------------------------------------------\n",
      "              precision    recall  f1-score   support\n",
      "\n",
      "           0       0.82      0.75      0.78      7117\n",
      "           1       0.77      0.84      0.80      7195\n",
      "\n",
      "    accuracy                           0.79     14312\n",
      "   macro avg       0.80      0.79      0.79     14312\n",
      "weighted avg       0.80      0.79      0.79     14312\n",
      "\n"
     ]
    }
   ],
   "source": [
    "from sklearn.linear_model import LogisticRegression\n",
    "from sklearn.metrics import r2_score,confusion_matrix,classification_report\n",
    "\n",
    "LOR = LogisticRegression()\n",
    "LOR.fit(X_train,Y_train)\n",
    "\n",
    "# [Prediction]\n",
    "predLOR = LOR.predict(X_test)\n",
    "print('R2 Score:',r2_score(Y_test,predLOR))\n",
    "\n",
    "# Mean Absolute Error(MAE)\n",
    "print('Mean Absolute Error',mean_absolute_error(Y_test,predLOR))\n",
    "\n",
    "# Mean Squared Error(MSE)\n",
    "print('Mean Squared Error',mean_squared_error(Y_test,predLOR))\n",
    "\n",
    "# Root Mean Squared Error (RMSE)\n",
    "print('Root Mean Squared Error',np.sqrt(mean_squared_error(Y_test,predLOR)))\n",
    "\n",
    "print(\"-----------------------------------------------------\")\n",
    "# Accuracy Score\n",
    "print(accuracy_score(Y_test, predLOR))\n",
    "print(\"-----------------------------------------------------\")\n",
    "# Confusion Matrix\n",
    "print(confusion_matrix(Y_test, predLOR))\n",
    "print(\"-----------------------------------------------------\")\n",
    "# Classification Report\n",
    "print(classification_report(Y_test,predLOR))"
   ]
  },
  {
   "cell_type": "code",
   "execution_count": 80,
   "id": "25c9107c",
   "metadata": {},
   "outputs": [
    {
     "data": {
      "image/png": "[encoded data removed]",
      "text/plain": [
       "<Figure size 504x504 with 2 Axes>"
      ]
     },
     "metadata": {
      "needs_background": "light"
     },
     "output_type": "display_data"
    }
   ],
   "source": [
    "cm = confusion_matrix(Y_test,predLOR)\n",
    "\n",
    "x_axis_labels = [\"0\",\"1\"]\n",
    "y_axis_labels = [\"0\",\"1\"]\n",
    "\n",
    "f , ax = plt.subplots(figsize=(7,7))\n",
    "sns.heatmap(cm, annot = True,linewidths=.2, linecolor=\"black\", fmt = \".0f\", ax=ax, cmap=\"BuGn\",xticklabels=x_axis_labels,yticklabels=y_axis_labels)\n",
    "\n",
    "plt.xlabel(\"PREDICTED LABEL\")\n",
    "plt.ylabel(\"TRUE LABEL\")\n",
    "plt.title('Confusion Matrix for Logistic Regression')\n",
    "plt.show()"
   ]
  },
  {
   "cell_type": "markdown",
   "id": "8258fd9f",
   "metadata": {},
   "source": [
    "### Decission Tree Classifier"
   ]
  },
  {
   "cell_type": "code",
   "execution_count": 81,
   "id": "95cd29c7",
   "metadata": {},
   "outputs": [
    {
     "name": "stdout",
     "output_type": "stream",
     "text": [
      "R2 Score: 0.3362016364423367\n",
      "Mean Absolute Error 0.16594466182224707\n",
      "Mean Squared Error 0.16594466182224707\n",
      "Root Mean Squared Error 0.4073630589808642\n",
      "-----------------------------------------------------\n",
      "Accuracy Score:  0.8340553381777529\n",
      "-----------------------------------------------------\n",
      "Confusion Matrix:\n",
      " [[5878 1239]\n",
      " [1136 6059]]\n",
      "-----------------------------------------------------\n",
      "              precision    recall  f1-score   support\n",
      "\n",
      "           0       0.84      0.83      0.83      7117\n",
      "           1       0.83      0.84      0.84      7195\n",
      "\n",
      "    accuracy                           0.83     14312\n",
      "   macro avg       0.83      0.83      0.83     14312\n",
      "weighted avg       0.83      0.83      0.83     14312\n",
      "\n"
     ]
    }
   ],
   "source": [
    "from sklearn.tree import DecisionTreeClassifier\n",
    "\n",
    "# Checking accuracy for Decision Tree Classifier\n",
    "DTC = DecisionTreeClassifier()\n",
    "DTC.fit(X_train,Y_train)\n",
    "\n",
    "# [Prediction]\n",
    "predDTC = DTC.predict(X_test)\n",
    "print('R2 Score:',r2_score(Y_test,predDTC))\n",
    "\n",
    "# Mean Absolute Error(MAE)\n",
    "print('Mean Absolute Error',mean_absolute_error(Y_test,predDTC))\n",
    "\n",
    "# Mean Squared Error(MSE)\n",
    "print('Mean Squared Error',mean_squared_error(Y_test,predDTC))\n",
    "\n",
    "# Root Mean Squared Error (RMSE)\n",
    "print('Root Mean Squared Error',np.sqrt(mean_squared_error(Y_test,predDTC)))\n",
    "print(\"-----------------------------------------------------\")\n",
    "# Accuracy Score\n",
    "print('Accuracy Score: ',accuracy_score(Y_test, predDTC))\n",
    "print(\"-----------------------------------------------------\")\n",
    "# Confusion Matrix\n",
    "print('Confusion Matrix:\\n',confusion_matrix(Y_test, predDTC))\n",
    "print(\"-----------------------------------------------------\")\n",
    "# Classification Report\n",
    "print(classification_report(Y_test,predDTC)) "
   ]
  },
  {
   "cell_type": "code",
   "execution_count": 83,
   "id": "812c6a21",
   "metadata": {},
   "outputs": [
    {
     "data": {
      "image/png": "[encoded data removed]",
      "text/plain": [
       "<Figure size 504x504 with 2 Axes>"
      ]
     },
     "metadata": {
      "needs_background": "light"
     },
     "output_type": "display_data"
    }
   ],
   "source": [
    "cm = confusion_matrix(Y_test,predDTC)\n",
    "\n",
    "x_axis_labels = [\"0\",\"1\"]\n",
    "y_axis_labels = [\"0\",\"1\"]\n",
    "\n",
    "f , ax = plt.subplots(figsize=(7,7))\n",
    "sns.heatmap(cm, annot = True,linewidths=.2, linecolor=\"black\", fmt = \".0f\", ax=ax, cmap=\"BuGn\",xticklabels=x_axis_labels,yticklabels=y_axis_labels)\n",
    "plt.xlabel(\"PREDICTED LABEL\")\n",
    "plt.ylabel(\"TRUE LABEL\")\n",
    "plt.title('Confusion Matrix for Decision Tree Classifier')\n",
    "plt.show()"
   ]
  },
  {
   "cell_type": "markdown",
   "id": "33e04f3f",
   "metadata": {},
   "source": [
    "### Random Forest Classifier"
   ]
  },
  {
   "cell_type": "code",
   "execution_count": 84,
   "id": "bda5d90c",
   "metadata": {},
   "outputs": [
    {
     "name": "stdout",
     "output_type": "stream",
     "text": [
      "R2 Score: 0.5301705056250812\n",
      "Mean Absolute Error 0.11745388485187255\n",
      "Mean Squared Error 0.11745388485187255\n",
      "Root Mean Squared Error 0.3427154575619147\n",
      "-----------------------------------------------------\n",
      "Accuracy Score:  0.8825461151481274\n",
      "-----------------------------------------------------\n",
      "Confusion Matrix:\n",
      " [[6109 1008]\n",
      " [ 673 6522]]\n",
      "-----------------------------------------------------\n",
      "              precision    recall  f1-score   support\n",
      "\n",
      "           0       0.90      0.86      0.88      7117\n",
      "           1       0.87      0.91      0.89      7195\n",
      "\n",
      "    accuracy                           0.88     14312\n",
      "   macro avg       0.88      0.88      0.88     14312\n",
      "weighted avg       0.88      0.88      0.88     14312\n",
      "\n"
     ]
    }
   ],
   "source": [
    "from sklearn.ensemble import RandomForestClassifier\n",
    "# Checking accuracy for Random Forest Classifier\n",
    "RFC = RandomForestClassifier()\n",
    "RFC.fit(X_train,Y_train)\n",
    "\n",
    "# [Prediction]\n",
    "predRFC = RFC.predict(X_test)\n",
    "print('R2 Score:',r2_score(Y_test,predRFC))\n",
    "\n",
    "# Mean Absolute Error(MAE)\n",
    "print('Mean Absolute Error',mean_absolute_error(Y_test,predRFC))\n",
    "\n",
    "# Mean Squared Error(MSE)\n",
    "print('Mean Squared Error',mean_squared_error(Y_test,predRFC))\n",
    "\n",
    "# Root Mean Squared Error (RMSE)\n",
    "print('Root Mean Squared Error',np.sqrt(mean_squared_error(Y_test,predRFC)))\n",
    "print(\"-----------------------------------------------------\")\n",
    "# Accuracy Score\n",
    "print('Accuracy Score: ',accuracy_score(Y_test, predRFC))\n",
    "print(\"-----------------------------------------------------\")\n",
    "# Confusion Matrix\n",
    "print('Confusion Matrix:\\n',confusion_matrix(Y_test, predRFC))\n",
    "print(\"-----------------------------------------------------\")\n",
    "# Classification Report\n",
    "print(classification_report(Y_test,predRFC))"
   ]
  },
  {
   "cell_type": "code",
   "execution_count": 85,
   "id": "0d09e31e",
   "metadata": {},
   "outputs": [
    {
     "data": {
      "image/png": "[encoded data removed]",
      "text/plain": [
       "<Figure size 504x504 with 2 Axes>"
      ]
     },
     "metadata": {
      "needs_background": "light"
     },
     "output_type": "display_data"
    }
   ],
   "source": [
    "cm = confusion_matrix(Y_test,predRFC)\n",
    "\n",
    "x_axis_labels = [\"0\",\"1\"]\n",
    "y_axis_labels = [\"0\",\"1\"]\n",
    "\n",
    "f , ax = plt.subplots(figsize=(7,7))\n",
    "sns.heatmap(cm, annot = True,linewidths=.2, linecolor=\"black\", fmt = \".0f\", ax=ax, cmap=\"BuGn\",xticklabels=x_axis_labels,yticklabels=y_axis_labels)\n",
    "\n",
    "plt.xlabel(\"PREDICTED LABEL\")\n",
    "plt.ylabel(\"TRUE LABEL\")\n",
    "plt.title('Confusion Matrix for RandomForestClassifier')\n",
    "plt.show()"
   ]
  },
  {
   "cell_type": "markdown",
   "id": "26e76e72",
   "metadata": {},
   "source": [
    "### KNeighborsClassifier"
   ]
  },
  {
   "cell_type": "code",
   "execution_count": 86,
   "id": "b0ddeab6",
   "metadata": {},
   "outputs": [
    {
     "name": "stdout",
     "output_type": "stream",
     "text": [
      "R2 Score: 0.3591201483630644\n",
      "Mean Absolute Error 0.16021520402459474\n",
      "Mean Squared Error 0.16021520402459474\n",
      "Root Mean Squared Error 0.400268914636891\n",
      "-----------------------------------------------------\n",
      "Accuracy Score:  0.8397847959754052\n",
      "-----------------------------------------------------\n",
      "Confusion Matrix:\n",
      " [[5382 1735]\n",
      " [ 558 6637]]\n",
      "-----------------------------------------------------\n",
      "              precision    recall  f1-score   support\n",
      "\n",
      "           0       0.91      0.76      0.82      7117\n",
      "           1       0.79      0.92      0.85      7195\n",
      "\n",
      "    accuracy                           0.84     14312\n",
      "   macro avg       0.85      0.84      0.84     14312\n",
      "weighted avg       0.85      0.84      0.84     14312\n",
      "\n"
     ]
    }
   ],
   "source": [
    "from sklearn.neighbors import KNeighborsClassifier\n",
    "\n",
    "KNN = KNeighborsClassifier()\n",
    "KNN.fit(X_train,Y_train)\n",
    "\n",
    "# [Prediction]\n",
    "predKNN = KNN.predict(X_test)\n",
    "print('R2 Score:',r2_score(Y_test,predKNN))\n",
    "\n",
    "# Mean Absolute Error(MAE)\n",
    "print('Mean Absolute Error',mean_absolute_error(Y_test,predKNN))\n",
    "\n",
    "# Mean Squared Error(MSE)\n",
    "print('Mean Squared Error',mean_squared_error(Y_test,predKNN))\n",
    "\n",
    "# Root Mean Squared Error (RMSE)\n",
    "print('Root Mean Squared Error',np.sqrt(mean_squared_error(Y_test,predKNN)))\n",
    "print(\"-----------------------------------------------------\")\n",
    "# Accuracy Score\n",
    "print('Accuracy Score: ',accuracy_score(Y_test, predKNN))\n",
    "print(\"-----------------------------------------------------\")\n",
    "# Confusion Matrix\n",
    "print('Confusion Matrix:\\n',confusion_matrix(Y_test, predKNN))\n",
    "print(\"-----------------------------------------------------\")\n",
    "# Classification Report\n",
    "print(classification_report(Y_test,predKNN))"
   ]
  },
  {
   "cell_type": "code",
   "execution_count": 87,
   "id": "95132de5",
   "metadata": {},
   "outputs": [
    {
     "data": {
      "image/png": "[encoded data removed]",
      "text/plain": [
       "<Figure size 504x504 with 2 Axes>"
      ]
     },
     "metadata": {
      "needs_background": "light"
     },
     "output_type": "display_data"
    }
   ],
   "source": [
    "cm = confusion_matrix(Y_test,predKNN)\n",
    "\n",
    "x_axis_labels = [\"0\",\"1\"]\n",
    "y_axis_labels = [\"0\",\"1\"]\n",
    "\n",
    "f , ax = plt.subplots(figsize=(7,7))\n",
    "sns.heatmap(cm, annot = True,linewidths=.2, linecolor=\"black\", fmt = \".0f\", ax=ax, cmap=\"BuGn\",xticklabels=x_axis_labels,yticklabels=y_axis_labels)\n",
    "\n",
    "plt.xlabel(\"PREDICTED LABEL\")\n",
    "plt.ylabel(\"TRUE LABEL\")\n",
    "plt.title('Confusion Matrix for KNN Classifier')\n",
    "plt.show()"
   ]
  },
  {
   "cell_type": "markdown",
   "id": "e5fe2f9f",
   "metadata": {},
   "source": [
    "### Gradient Boosting Classifier"
   ]
  },
  {
   "cell_type": "code",
   "execution_count": 89,
   "id": "8c5b6a53",
   "metadata": {},
   "outputs": [
    {
     "name": "stdout",
     "output_type": "stream",
     "text": [
      "R2 Score: 0.5435862199201413\n",
      "Mean Absolute Error 0.11410005589714925\n",
      "Mean Squared Error 0.11410005589714925\n",
      "Root Mean Squared Error 0.33778699782133303\n",
      "-----------------------------------------------------\n",
      "Accuracy Score:  0.8858999441028508\n",
      "-----------------------------------------------------\n",
      "Confusion Matrix:\n",
      " [[6273  844]\n",
      " [ 789 6406]]\n",
      "-----------------------------------------------------\n",
      "              precision    recall  f1-score   support\n",
      "\n",
      "           0       0.89      0.88      0.88      7117\n",
      "           1       0.88      0.89      0.89      7195\n",
      "\n",
      "    accuracy                           0.89     14312\n",
      "   macro avg       0.89      0.89      0.89     14312\n",
      "weighted avg       0.89      0.89      0.89     14312\n",
      "\n"
     ]
    }
   ],
   "source": [
    "from xgboost import XGBClassifier\n",
    "XGB = XGBClassifier()\n",
    "XGB.fit(X_train,Y_train)\n",
    "\n",
    "# [Prediction]\n",
    "predXGB = XGB.predict(X_test)\n",
    "print('R2 Score:',r2_score(Y_test,predXGB))\n",
    "\n",
    "# Mean Absolute Error(MAE)\n",
    "print('Mean Absolute Error',mean_absolute_error(Y_test,predXGB))\n",
    "\n",
    "# Mean Squared Error(MSE)\n",
    "print('Mean Squared Error',mean_squared_error(Y_test,predXGB))\n",
    "\n",
    "# Root Mean Squared Error (RMSE)\n",
    "print('Root Mean Squared Error',np.sqrt(mean_squared_error(Y_test,predXGB)))\n",
    "print(\"-----------------------------------------------------\")\n",
    "# Accuracy Score\n",
    "print('Accuracy Score: ',accuracy_score(Y_test, predXGB))\n",
    "print(\"-----------------------------------------------------\")\n",
    "# Confusion Matrix\n",
    "print('Confusion Matrix:\\n',confusion_matrix(Y_test, predXGB))\n",
    "print(\"-----------------------------------------------------\")\n",
    "# Classification Report\n",
    "print(classification_report(Y_test,predXGB))"
   ]
  },
  {
   "cell_type": "code",
   "execution_count": 90,
   "id": "3feec0f9",
   "metadata": {},
   "outputs": [
    {
     "data": {
      "image/png": "[encoded data removed]",
      "text/plain": [
       "<Figure size 504x504 with 2 Axes>"
      ]
     },
     "metadata": {
      "needs_background": "light"
     },
     "output_type": "display_data"
    }
   ],
   "source": [
    "cm = confusion_matrix(Y_test,predXGB)\n",
    "\n",
    "x_axis_labels = [\"0\",\"1\"]\n",
    "y_axis_labels = [\"0\",\"1\"]\n",
    "\n",
    "f , ax = plt.subplots(figsize=(7,7))\n",
    "sns.heatmap(cm, annot = True,linewidths=.2, linecolor=\"black\", fmt = \".0f\", ax=ax, cmap=\"BuGn\",xticklabels=x_axis_labels,yticklabels=y_axis_labels)\n",
    "\n",
    "plt.xlabel(\"PREDICTED LABEL\")\n",
    "plt.ylabel(\"TRUE LABEL\")\n",
    "plt.title('Confusion Matrix for  XGBClassifier')\n",
    "plt.show()"
   ]
  },
  {
   "cell_type": "markdown",
   "id": "dff6a284",
   "metadata": {},
   "source": [
    "### Support Vector Machine classifier"
   ]
  },
  {
   "cell_type": "code",
   "execution_count": 91,
   "id": "fdbc54d2",
   "metadata": {},
   "outputs": [
    {
     "name": "stdout",
     "output_type": "stream",
     "text": [
      "R2 Score: 0.2800233328317723\n",
      "Mean Absolute Error 0.17998882057015092\n",
      "Mean Squared Error 0.17998882057015092\n",
      "Root Mean Squared Error 0.424250893422926\n",
      "-----------------------------------------------------\n",
      "Accuracy Score:  0.820011179429849\n",
      "-----------------------------------------------------\n",
      "Confusion Matrix:\n",
      " [[5387 1730]\n",
      " [ 846 6349]]\n",
      "-----------------------------------------------------\n",
      "              precision    recall  f1-score   support\n",
      "\n",
      "           0       0.86      0.76      0.81      7117\n",
      "           1       0.79      0.88      0.83      7195\n",
      "\n",
      "    accuracy                           0.82     14312\n",
      "   macro avg       0.83      0.82      0.82     14312\n",
      "weighted avg       0.82      0.82      0.82     14312\n",
      "\n"
     ]
    }
   ],
   "source": [
    "from sklearn.svm import SVC\n",
    "\n",
    "# Checking accuracy for Support Vector Machine Classifier\n",
    "svc = SVC()\n",
    "svc.fit(X_train,Y_train)\n",
    "\n",
    "# [Prediction]\n",
    "predsvc = svc.predict(X_test)\n",
    "print('R2 Score:',r2_score(Y_test,predsvc))\n",
    "\n",
    "# Mean Absolute Error(MAE)\n",
    "print('Mean Absolute Error',mean_absolute_error(Y_test,predsvc))\n",
    "\n",
    "# Mean Squared Error(MSE)\n",
    "print('Mean Squared Error',mean_squared_error(Y_test,predsvc))\n",
    "\n",
    "# Root Mean Squared Error (RMSE)\n",
    "print('Root Mean Squared Error',np.sqrt(mean_squared_error(Y_test,predsvc)))\n",
    "print(\"-----------------------------------------------------\")\n",
    "# Accuracy Score\n",
    "print('Accuracy Score: ',accuracy_score(Y_test, predsvc))\n",
    "print(\"-----------------------------------------------------\")\n",
    "# Confusion Matrix\n",
    "print('Confusion Matrix:\\n',confusion_matrix(Y_test, predsvc))\n",
    "print(\"-----------------------------------------------------\")\n",
    "# Classification Report\n",
    "print(classification_report(Y_test,predsvc)) "
   ]
  },
  {
   "cell_type": "code",
   "execution_count": 93,
   "id": "71b94fbb",
   "metadata": {},
   "outputs": [
    {
     "data": {
      "image/png": "[encoded data removed]",
      "text/plain": [
       "<Figure size 504x504 with 2 Axes>"
      ]
     },
     "metadata": {
      "needs_background": "light"
     },
     "output_type": "display_data"
    }
   ],
   "source": [
    "cm = confusion_matrix(Y_test,predsvc)\n",
    "\n",
    "x_axis_labels = [\"0\",\"1\"]\n",
    "y_axis_labels = [\"0\",\"1\"]\n",
    "\n",
    "f , ax = plt.subplots(figsize=(7,7))\n",
    "sns.heatmap(cm, annot = True,linewidths=.2, linecolor=\"black\", fmt = \".0f\", ax=ax, cmap=\"BuGn\",xticklabels=x_axis_labels,yticklabels=y_axis_labels)\n",
    "plt.xlabel(\"PREDICTED LABEL\")\n",
    "plt.ylabel(\"TRUE LABEL\")\n",
    "plt.title('Confusion Matrix for Support Vector Machine Classifier')\n",
    "plt.show()"
   ]
  },
  {
   "cell_type": "markdown",
   "id": "cfaedb99",
   "metadata": {},
   "source": [
    "### Cross Validation Score"
   ]
  },
  {
   "cell_type": "code",
   "execution_count": 96,
   "id": "e9f8a5f2",
   "metadata": {},
   "outputs": [
    {
     "name": "stdout",
     "output_type": "stream",
     "text": [
      "Logistic Regression 0.7935481022882392\n",
      "Decision Tree Classifier 0.8282834371823039\n",
      "Random Forest Classifier 0.8805825846953669\n",
      "KNeighbors Classifier 0.8470846874692375\n",
      "Support Vector  Classifier 0.8172558080976561\n",
      "Gradient Boosting Classifier 0.8686986681557082\n"
     ]
    }
   ],
   "source": [
    "from sklearn.model_selection import cross_val_score\n",
    "\n",
    "#cv score for Logistic Regression\n",
    "print('Logistic Regression',cross_val_score(LOR,X,Y,cv=5).mean())\n",
    "\n",
    "# cv score for Decision Tree Classifier\n",
    "print('Decision Tree Classifier',cross_val_score(DTC,X,Y,cv=5).mean())\n",
    "\n",
    "# cv score for Random Forest Classifier\n",
    "print('Random Forest Classifier',cross_val_score(RFC,X,Y,cv=5).mean())\n",
    "\n",
    "# cv score for KNeighbors Classifier\n",
    "print('KNeighbors Classifier',cross_val_score(KNN,X,Y,cv=5).mean())\n",
    "\n",
    "# cv score for Support Vector  Classifier\n",
    "print('Support Vector  Classifier',cross_val_score(svc,X,Y,cv=5).mean())\n",
    "\n",
    "# cv score for Gradient Boosting Classifier\n",
    "print('Gradient Boosting Classifier',cross_val_score(XGB,X,Y,cv=5).mean())"
   ]
  },
  {
   "cell_type": "markdown",
   "id": "644f94cd",
   "metadata": {},
   "source": [
    "### Hyper Parameter Tuning"
   ]
  },
  {
   "cell_type": "code",
   "execution_count": 97,
   "id": "0b52315c",
   "metadata": {},
   "outputs": [],
   "source": [
    "parameters = {'criterion':['gini'],\n",
    "             'max_features':['auto'],\n",
    "             'n_estimators':[0,200],\n",
    "             'max_depth':[2,3,4,5,6,8]}"
   ]
  },
  {
   "cell_type": "code",
   "execution_count": 99,
   "id": "6b44cac8",
   "metadata": {},
   "outputs": [],
   "source": [
    "from sklearn.model_selection import GridSearchCV\n",
    "GCV=GridSearchCV(RandomForestClassifier(),parameters,cv=5)"
   ]
  },
  {
   "cell_type": "code",
   "execution_count": 101,
   "id": "4481b873",
   "metadata": {},
   "outputs": [
    {
     "data": {
      "text/html": [
       "<style>#sk-container-id-1 {color: black;background-color: white;}#sk-container-id-1 pre{padding: 0;}#sk-container-id-1 div.sk-toggleable {background-color: white;}#sk-container-id-1 label.sk-toggleable__label {cursor: pointer;display: block;width: 100%;margin-bottom: 0;padding: 0.3em;box-sizing: border-box;text-align: center;}#sk-container-id-1 label.sk-toggleable__label-arrow:before {content: \"▸\";float: left;margin-right: 0.25em;color: #696969;}#sk-container-id-1 label.sk-toggleable__label-arrow:hover:before {color: black;}#sk-container-id-1 div.sk-estimator:hover label.sk-toggleable__label-arrow:before {color: black;}#sk-container-id-1 div.sk-toggleable__content {max-height: 0;max-width: 0;overflow: hidden;text-align: left;background-color: #f0f8ff;}#sk-container-id-1 div.sk-toggleable__content pre {margin: 0.2em;color: black;border-radius: 0.25em;background-color: #f0f8ff;}#sk-container-id-1 input.sk-toggleable__control:checked~div.sk-toggleable__content {max-height: 200px;max-width: 100%;overflow: auto;}#sk-container-id-1 input.sk-toggleable__control:checked~label.sk-toggleable__label-arrow:before {content: \"▾\";}#sk-container-id-1 div.sk-estimator input.sk-toggleable__control:checked~label.sk-toggleable__label {background-color: #d4ebff;}#sk-container-id-1 div.sk-label input.sk-toggleable__control:checked~label.sk-toggleable__label {background-color: #d4ebff;}#sk-container-id-1 input.sk-hidden--visually {border: 0;clip: rect(1px 1px 1px 1px);clip: rect(1px, 1px, 1px, 1px);height: 1px;margin: -1px;overflow: hidden;padding: 0;position: absolute;width: 1px;}#sk-container-id-1 div.sk-estimator {font-family: monospace;background-color: #f0f8ff;border: 1px dotted black;border-radius: 0.25em;box-sizing: border-box;margin-bottom: 0.5em;}#sk-container-id-1 div.sk-estimator:hover {background-color: #d4ebff;}#sk-container-id-1 div.sk-parallel-item::after {content: \"\";width: 100%;border-bottom: 1px solid gray;flex-grow: 1;}#sk-container-id-1 div.sk-label:hover label.sk-toggleable__label {background-color: #d4ebff;}#sk-container-id-1 div.sk-serial::before {content: \"\";position: absolute;border-left: 1px solid gray;box-sizing: border-box;top: 0;bottom: 0;left: 50%;z-index: 0;}#sk-container-id-1 div.sk-serial {display: flex;flex-direction: column;align-items: center;background-color: white;padding-right: 0.2em;padding-left: 0.2em;position: relative;}#sk-container-id-1 div.sk-item {position: relative;z-index: 1;}#sk-container-id-1 div.sk-parallel {display: flex;align-items: stretch;justify-content: center;background-color: white;position: relative;}#sk-container-id-1 div.sk-item::before, #sk-container-id-1 div.sk-parallel-item::before {content: \"\";position: absolute;border-left: 1px solid gray;box-sizing: border-box;top: 0;bottom: 0;left: 50%;z-index: -1;}#sk-container-id-1 div.sk-parallel-item {display: flex;flex-direction: column;z-index: 1;position: relative;background-color: white;}#sk-container-id-1 div.sk-parallel-item:first-child::after {align-self: flex-end;width: 50%;}#sk-container-id-1 div.sk-parallel-item:last-child::after {align-self: flex-start;width: 50%;}#sk-container-id-1 div.sk-parallel-item:only-child::after {width: 0;}#sk-container-id-1 div.sk-dashed-wrapped {border: 1px dashed gray;margin: 0 0.4em 0.5em 0.4em;box-sizing: border-box;padding-bottom: 0.4em;background-color: white;}#sk-container-id-1 div.sk-label label {font-family: monospace;font-weight: bold;display: inline-block;line-height: 1.2em;}#sk-container-id-1 div.sk-label-container {text-align: center;}#sk-container-id-1 div.sk-container {/* jupyter's `normalize.less` sets `[hidden] { display: none; }` but bootstrap.min.css set `[hidden] { display: none !important; }` so we also need the `!important` here to be able to override the default hidden behavior on the sphinx rendered scikit-learn.org. See: https://github.com/scikit-learn/scikit-learn/issues/21755 */display: inline-block !important;position: relative;}#sk-container-id-1 div.sk-text-repr-fallback {display: none;}</style><div id=\"sk-container-id-1\" class=\"sk-top-container\"><div class=\"sk-text-repr-fallback\"><pre>GridSearchCV(cv=5, estimator=RandomForestClassifier(),\n",
       "             param_grid={&#x27;criterion&#x27;: [&#x27;gini&#x27;], &#x27;max_depth&#x27;: [2, 3, 4, 5, 6, 8],\n",
       "                         &#x27;max_features&#x27;: [&#x27;auto&#x27;], &#x27;n_estimators&#x27;: [0, 200]})</pre><b>In a Jupyter environment, please rerun this cell to show the HTML representation or trust the notebook. <br />On GitHub, the HTML representation is unable to render, please try loading this page with nbviewer.org.</b></div><div class=\"sk-container\" hidden><div class=\"sk-item sk-dashed-wrapped\"><div class=\"sk-label-container\"><div class=\"sk-label sk-toggleable\"><input class=\"sk-toggleable__control sk-hidden--visually\" id=\"sk-estimator-id-1\" type=\"checkbox\" ><label for=\"sk-estimator-id-1\" class=\"sk-toggleable__label sk-toggleable__label-arrow\">GridSearchCV</label><div class=\"sk-toggleable__content\"><pre>GridSearchCV(cv=5, estimator=RandomForestClassifier(),\n",
       "             param_grid={&#x27;criterion&#x27;: [&#x27;gini&#x27;], &#x27;max_depth&#x27;: [2, 3, 4, 5, 6, 8],\n",
       "                         &#x27;max_features&#x27;: [&#x27;auto&#x27;], &#x27;n_estimators&#x27;: [0, 200]})</pre></div></div></div><div class=\"sk-parallel\"><div class=\"sk-parallel-item\"><div class=\"sk-item\"><div class=\"sk-label-container\"><div class=\"sk-label sk-toggleable\"><input class=\"sk-toggleable__control sk-hidden--visually\" id=\"sk-estimator-id-2\" type=\"checkbox\" ><label for=\"sk-estimator-id-2\" class=\"sk-toggleable__label sk-toggleable__label-arrow\">estimator: RandomForestClassifier</label><div class=\"sk-toggleable__content\"><pre>RandomForestClassifier()</pre></div></div></div><div class=\"sk-serial\"><div class=\"sk-item\"><div class=\"sk-estimator sk-toggleable\"><input class=\"sk-toggleable__control sk-hidden--visually\" id=\"sk-estimator-id-3\" type=\"checkbox\" ><label for=\"sk-estimator-id-3\" class=\"sk-toggleable__label sk-toggleable__label-arrow\">RandomForestClassifier</label><div class=\"sk-toggleable__content\"><pre>RandomForestClassifier()</pre></div></div></div></div></div></div></div></div></div></div>"
      ],
      "text/plain": [
       "GridSearchCV(cv=5, estimator=RandomForestClassifier(),\n",
       "             param_grid={'criterion': ['gini'], 'max_depth': [2, 3, 4, 5, 6, 8],\n",
       "                         'max_features': ['auto'], 'n_estimators': [0, 200]})"
      ]
     },
     "execution_count": 101,
     "metadata": {},
     "output_type": "execute_result"
    }
   ],
   "source": [
    "GCV.fit(X_train,Y_train)"
   ]
  },
  {
   "cell_type": "code",
   "execution_count": 102,
   "id": "1e8cb048",
   "metadata": {},
   "outputs": [
    {
     "data": {
      "text/plain": [
       "{'criterion': 'gini',\n",
       " 'max_depth': 8,\n",
       " 'max_features': 'auto',\n",
       " 'n_estimators': 200}"
      ]
     },
     "execution_count": 102,
     "metadata": {},
     "output_type": "execute_result"
    }
   ],
   "source": [
    "GCV.best_params_"
   ]
  },
  {
   "cell_type": "code",
   "execution_count": 104,
   "id": "0fb08321",
   "metadata": {},
   "outputs": [
    {
     "name": "stdout",
     "output_type": "stream",
     "text": [
      "After HyperParameter tuning we have received an accuracy score of 83.17495807713806\n"
     ]
    }
   ],
   "source": [
    "census = RandomForestClassifier (criterion='gini', max_depth=8, max_features='auto', n_estimators=200)\n",
    "census.fit(X_train, Y_train)\n",
    "pred = census.predict(X_test)\n",
    "acc=accuracy_score(Y_test,pred)\n",
    "print('After HyperParameter tuning we have received an accuracy score of',acc*100)"
   ]
  },
  {
   "cell_type": "markdown",
   "id": "b137f691",
   "metadata": {},
   "source": [
    "### Plotting ROC and compare AUC for the final model"
   ]
  },
  {
   "cell_type": "code",
   "execution_count": 109,
   "id": "c89f99c4",
   "metadata": {},
   "outputs": [
    {
     "data": {
      "image/png": "[encoded data removed]",
      "text/plain": [
       "<Figure size 432x288 with 1 Axes>"
      ]
     },
     "metadata": {
      "needs_background": "light"
     },
     "output_type": "display_data"
    }
   ],
   "source": [
    "from sklearn import datasets \n",
    "from sklearn import metrics\n",
    "from sklearn import model_selection\n",
    "from sklearn.metrics import plot_roc_curve \n",
    "\n",
    "\n",
    "disp = plot_roc_curve(KNN,X_test,Y_test)\n",
    "plot_roc_curve(DTC, X_test, Y_test, ax=disp.ax_)     \n",
    "plot_roc_curve(RFC, X_test, Y_test, ax=disp.ax_)\n",
    "plot_roc_curve(LOR, X_test, Y_test, ax=disp.ax_)\n",
    "plot_roc_curve(svc, X_test, Y_test, ax=disp.ax_)\n",
    "plot_roc_curve(XGB, X_test, Y_test, ax=disp.ax_)\n",
    "\n",
    "plt.legend(prop={'size':8}, loc='lower right')\n",
    "plt.show()"
   ]
  },
  {
   "cell_type": "markdown",
   "id": "b7b4fd81",
   "metadata": {},
   "source": [
    "### Saving The Model"
   ]
  },
  {
   "cell_type": "code",
   "execution_count": 110,
   "id": "d479031b",
   "metadata": {},
   "outputs": [
    {
     "data": {
      "text/plain": [
       "['Census Income Project.pkl']"
      ]
     },
     "execution_count": 110,
     "metadata": {},
     "output_type": "execute_result"
    }
   ],
   "source": [
    "import joblib\n",
    "joblib.dump(census,\"Census Income Project.pkl\")"
   ]
  },
  {
   "cell_type": "code",
   "execution_count": null,
   "id": "b0fb8fdc",
   "metadata": {},
   "outputs": [],
   "source": []
  }
 ],
 "metadata": {
  "kernelspec": {
   "display_name": "Python 3 (ipykernel)",
   "language": "python",
   "name": "python3"
  },
  "language_info": {
   "codemirror_mode": {
    "name": "ipython",
    "version": 3
   },
   "file_extension": ".py",
   "mimetype": "text/x-python",
   "name": "python",
   "nbconvert_exporter": "python",
   "pygments_lexer": "ipython3",
   "version": "3.9.12"
  }
 },
 "nbformat": 4,
 "nbformat_minor": 5
}
